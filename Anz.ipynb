{
  "nbformat": 4,
  "nbformat_minor": 0,
  "metadata": {
    "colab": {
      "name": "Anz.ipynb",
      "provenance": [],
      "collapsed_sections": []
    },
    "kernelspec": {
      "name": "python3",
      "display_name": "Python 3"
    },
    "widgets": {
      "application/vnd.jupyter.widget-state+json": {
        "e7b4002c4f7f42d48c0542cdea0009ea": {
          "model_module": "@jupyter-widgets/controls",
          "model_name": "VBoxModel",
          "state": {
            "_view_name": "VBoxView",
            "_dom_classes": [
              "widget-interact"
            ],
            "_model_name": "VBoxModel",
            "_view_module": "@jupyter-widgets/controls",
            "_model_module_version": "1.5.0",
            "_view_count": null,
            "_view_module_version": "1.5.0",
            "box_style": "",
            "layout": "IPY_MODEL_5c8ec1ee4e3c45ba850707b02b4f6017",
            "_model_module": "@jupyter-widgets/controls",
            "children": [
              "IPY_MODEL_deaf0228b2f248aab6d316157b447a0a",
              "IPY_MODEL_157c9a8591654df49de5f3b7b2f01c2c"
            ]
          }
        },
        "5c8ec1ee4e3c45ba850707b02b4f6017": {
          "model_module": "@jupyter-widgets/base",
          "model_name": "LayoutModel",
          "state": {
            "_view_name": "LayoutView",
            "grid_template_rows": null,
            "right": null,
            "justify_content": null,
            "_view_module": "@jupyter-widgets/base",
            "overflow": null,
            "_model_module_version": "1.2.0",
            "_view_count": null,
            "flex_flow": null,
            "width": null,
            "min_width": null,
            "border": null,
            "align_items": null,
            "bottom": null,
            "_model_module": "@jupyter-widgets/base",
            "top": null,
            "grid_column": null,
            "overflow_y": null,
            "overflow_x": null,
            "grid_auto_flow": null,
            "grid_area": null,
            "grid_template_columns": null,
            "flex": null,
            "_model_name": "LayoutModel",
            "justify_items": null,
            "grid_row": null,
            "max_height": null,
            "align_content": null,
            "visibility": null,
            "align_self": null,
            "height": null,
            "min_height": null,
            "padding": null,
            "grid_auto_rows": null,
            "grid_gap": null,
            "max_width": null,
            "order": null,
            "_view_module_version": "1.2.0",
            "grid_template_areas": null,
            "object_position": null,
            "object_fit": null,
            "grid_auto_columns": null,
            "margin": null,
            "display": null,
            "left": null
          }
        },
        "deaf0228b2f248aab6d316157b447a0a": {
          "model_module": "@jupyter-widgets/controls",
          "model_name": "DropdownModel",
          "state": {
            "_options_labels": [
              "Per Paycheck",
              "Age of Customer",
              "Gender"
            ],
            "_view_name": "DropdownView",
            "style": "IPY_MODEL_246f182214124d2092322175dc1c3274",
            "_dom_classes": [],
            "description": "column",
            "_model_name": "DropdownModel",
            "index": 0,
            "_view_module": "@jupyter-widgets/controls",
            "_model_module_version": "1.5.0",
            "_view_count": null,
            "disabled": false,
            "_view_module_version": "1.5.0",
            "description_tooltip": null,
            "_model_module": "@jupyter-widgets/controls",
            "layout": "IPY_MODEL_86c0e9383b2f4b5eb5859ab9995ed91b"
          }
        },
        "157c9a8591654df49de5f3b7b2f01c2c": {
          "model_module": "@jupyter-widgets/output",
          "model_name": "OutputModel",
          "state": {
            "_view_name": "OutputView",
            "msg_id": "",
            "_dom_classes": [],
            "_model_name": "OutputModel",
            "outputs": [
              {
                "output_type": "display_data",
                "metadata": {
                  "tags": [],
                  "needs_background": "light"
                },
                "image/png": "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\n",
                "text/plain": "<Figure size 432x288 with 1 Axes>"
              }
            ],
            "_view_module": "@jupyter-widgets/output",
            "_model_module_version": "1.0.0",
            "_view_count": null,
            "_view_module_version": "1.0.0",
            "layout": "IPY_MODEL_05459bb717ca418d9acf953b6884e4ee",
            "_model_module": "@jupyter-widgets/output"
          }
        },
        "246f182214124d2092322175dc1c3274": {
          "model_module": "@jupyter-widgets/controls",
          "model_name": "DescriptionStyleModel",
          "state": {
            "_view_name": "StyleView",
            "_model_name": "DescriptionStyleModel",
            "description_width": "",
            "_view_module": "@jupyter-widgets/base",
            "_model_module_version": "1.5.0",
            "_view_count": null,
            "_view_module_version": "1.2.0",
            "_model_module": "@jupyter-widgets/controls"
          }
        },
        "86c0e9383b2f4b5eb5859ab9995ed91b": {
          "model_module": "@jupyter-widgets/base",
          "model_name": "LayoutModel",
          "state": {
            "_view_name": "LayoutView",
            "grid_template_rows": null,
            "right": null,
            "justify_content": null,
            "_view_module": "@jupyter-widgets/base",
            "overflow": null,
            "_model_module_version": "1.2.0",
            "_view_count": null,
            "flex_flow": null,
            "width": null,
            "min_width": null,
            "border": null,
            "align_items": null,
            "bottom": null,
            "_model_module": "@jupyter-widgets/base",
            "top": null,
            "grid_column": null,
            "overflow_y": null,
            "overflow_x": null,
            "grid_auto_flow": null,
            "grid_area": null,
            "grid_template_columns": null,
            "flex": null,
            "_model_name": "LayoutModel",
            "justify_items": null,
            "grid_row": null,
            "max_height": null,
            "align_content": null,
            "visibility": null,
            "align_self": null,
            "height": null,
            "min_height": null,
            "padding": null,
            "grid_auto_rows": null,
            "grid_gap": null,
            "max_width": null,
            "order": null,
            "_view_module_version": "1.2.0",
            "grid_template_areas": null,
            "object_position": null,
            "object_fit": null,
            "grid_auto_columns": null,
            "margin": null,
            "display": null,
            "left": null
          }
        },
        "05459bb717ca418d9acf953b6884e4ee": {
          "model_module": "@jupyter-widgets/base",
          "model_name": "LayoutModel",
          "state": {
            "_view_name": "LayoutView",
            "grid_template_rows": null,
            "right": null,
            "justify_content": null,
            "_view_module": "@jupyter-widgets/base",
            "overflow": null,
            "_model_module_version": "1.2.0",
            "_view_count": null,
            "flex_flow": null,
            "width": null,
            "min_width": null,
            "border": null,
            "align_items": null,
            "bottom": null,
            "_model_module": "@jupyter-widgets/base",
            "top": null,
            "grid_column": null,
            "overflow_y": null,
            "overflow_x": null,
            "grid_auto_flow": null,
            "grid_area": null,
            "grid_template_columns": null,
            "flex": null,
            "_model_name": "LayoutModel",
            "justify_items": null,
            "grid_row": null,
            "max_height": null,
            "align_content": null,
            "visibility": null,
            "align_self": null,
            "height": null,
            "min_height": null,
            "padding": null,
            "grid_auto_rows": null,
            "grid_gap": null,
            "max_width": null,
            "order": null,
            "_view_module_version": "1.2.0",
            "grid_template_areas": null,
            "object_position": null,
            "object_fit": null,
            "grid_auto_columns": null,
            "margin": null,
            "display": null,
            "left": null
          }
        }
      }
    }
  },
  "cells": [
    {
      "cell_type": "markdown",
      "metadata": {
        "id": "5FAh8kFoOWVa",
        "colab_type": "text"
      },
      "source": [
        "Reading Data"
      ]
    },
    {
      "cell_type": "code",
      "metadata": {
        "id": "im5UfjECHvN9",
        "colab_type": "code",
        "outputId": "6939b2e0-06c9-4adc-8630-d2f127115b76",
        "colab": {
          "base_uri": "https://localhost:8080/",
          "height": 70
        }
      },
      "source": [
        "import pandas as pd \n",
        "import numpy as np\n",
        "import matplotlib.pyplot as plt\n",
        "from statistics import mode\n",
        "import seaborn as sns\n",
        "from ipywidgets import  widgets\n",
        "import missingno as msno \n",
        "#from empiricaldist import Pmf as PMF\n",
        "sns.set_style('whitegrid')\n",
        "%matplotlib inline"
      ],
      "execution_count": 0,
      "outputs": [
        {
          "output_type": "stream",
          "text": [
            "/usr/local/lib/python3.6/dist-packages/statsmodels/tools/_testing.py:19: FutureWarning: pandas.util.testing is deprecated. Use the functions in the public API at pandas.testing instead.\n",
            "  import pandas.util.testing as tm\n"
          ],
          "name": "stderr"
        }
      ]
    },
    {
      "cell_type": "code",
      "metadata": {
        "id": "VT9szFACImIM",
        "colab_type": "code",
        "colab": {}
      },
      "source": [
        "data=pd.read_excel('/content/drive/My Drive/anz/ANZ synthesised transaction dataset.xlsx')"
      ],
      "execution_count": 0,
      "outputs": []
    },
    {
      "cell_type": "code",
      "metadata": {
        "id": "RrB5RNleJD75",
        "colab_type": "code",
        "outputId": "400c9fd3-4926-430b-bf9d-7c968de92f6b",
        "colab": {
          "base_uri": "https://localhost:8080/",
          "height": 467
        }
      },
      "source": [
        "data.head(5)"
      ],
      "execution_count": 0,
      "outputs": [
        {
          "output_type": "execute_result",
          "data": {
            "text/html": [
              "<div>\n",
              "<style scoped>\n",
              "    .dataframe tbody tr th:only-of-type {\n",
              "        vertical-align: middle;\n",
              "    }\n",
              "\n",
              "    .dataframe tbody tr th {\n",
              "        vertical-align: top;\n",
              "    }\n",
              "\n",
              "    .dataframe thead th {\n",
              "        text-align: right;\n",
              "    }\n",
              "</style>\n",
              "<table border=\"1\" class=\"dataframe\">\n",
              "  <thead>\n",
              "    <tr style=\"text-align: right;\">\n",
              "      <th></th>\n",
              "      <th>status</th>\n",
              "      <th>card_present_flag</th>\n",
              "      <th>bpay_biller_code</th>\n",
              "      <th>account</th>\n",
              "      <th>currency</th>\n",
              "      <th>long_lat</th>\n",
              "      <th>txn_description</th>\n",
              "      <th>merchant_id</th>\n",
              "      <th>merchant_code</th>\n",
              "      <th>first_name</th>\n",
              "      <th>balance</th>\n",
              "      <th>date</th>\n",
              "      <th>gender</th>\n",
              "      <th>age</th>\n",
              "      <th>merchant_suburb</th>\n",
              "      <th>merchant_state</th>\n",
              "      <th>extraction</th>\n",
              "      <th>amount</th>\n",
              "      <th>transaction_id</th>\n",
              "      <th>country</th>\n",
              "      <th>customer_id</th>\n",
              "      <th>merchant_long_lat</th>\n",
              "      <th>movement</th>\n",
              "    </tr>\n",
              "  </thead>\n",
              "  <tbody>\n",
              "    <tr>\n",
              "      <th>0</th>\n",
              "      <td>authorized</td>\n",
              "      <td>1.0</td>\n",
              "      <td>NaN</td>\n",
              "      <td>ACC-1598451071</td>\n",
              "      <td>AUD</td>\n",
              "      <td>153.41 -27.95</td>\n",
              "      <td>POS</td>\n",
              "      <td>81c48296-73be-44a7-befa-d053f48ce7cd</td>\n",
              "      <td>NaN</td>\n",
              "      <td>Diana</td>\n",
              "      <td>35.39</td>\n",
              "      <td>2018-08-01</td>\n",
              "      <td>F</td>\n",
              "      <td>26</td>\n",
              "      <td>Ashmore</td>\n",
              "      <td>QLD</td>\n",
              "      <td>2018-08-01T01:01:15.000+0000</td>\n",
              "      <td>16.25</td>\n",
              "      <td>a623070bfead4541a6b0fff8a09e706c</td>\n",
              "      <td>Australia</td>\n",
              "      <td>CUS-2487424745</td>\n",
              "      <td>153.38 -27.99</td>\n",
              "      <td>debit</td>\n",
              "    </tr>\n",
              "    <tr>\n",
              "      <th>1</th>\n",
              "      <td>authorized</td>\n",
              "      <td>0.0</td>\n",
              "      <td>NaN</td>\n",
              "      <td>ACC-1598451071</td>\n",
              "      <td>AUD</td>\n",
              "      <td>153.41 -27.95</td>\n",
              "      <td>SALES-POS</td>\n",
              "      <td>830a451c-316e-4a6a-bf25-e37caedca49e</td>\n",
              "      <td>NaN</td>\n",
              "      <td>Diana</td>\n",
              "      <td>21.20</td>\n",
              "      <td>2018-08-01</td>\n",
              "      <td>F</td>\n",
              "      <td>26</td>\n",
              "      <td>Sydney</td>\n",
              "      <td>NSW</td>\n",
              "      <td>2018-08-01T01:13:45.000+0000</td>\n",
              "      <td>14.19</td>\n",
              "      <td>13270a2a902145da9db4c951e04b51b9</td>\n",
              "      <td>Australia</td>\n",
              "      <td>CUS-2487424745</td>\n",
              "      <td>151.21 -33.87</td>\n",
              "      <td>debit</td>\n",
              "    </tr>\n",
              "    <tr>\n",
              "      <th>2</th>\n",
              "      <td>authorized</td>\n",
              "      <td>1.0</td>\n",
              "      <td>NaN</td>\n",
              "      <td>ACC-1222300524</td>\n",
              "      <td>AUD</td>\n",
              "      <td>151.23 -33.94</td>\n",
              "      <td>POS</td>\n",
              "      <td>835c231d-8cdf-4e96-859d-e9d571760cf0</td>\n",
              "      <td>NaN</td>\n",
              "      <td>Michael</td>\n",
              "      <td>5.71</td>\n",
              "      <td>2018-08-01</td>\n",
              "      <td>M</td>\n",
              "      <td>38</td>\n",
              "      <td>Sydney</td>\n",
              "      <td>NSW</td>\n",
              "      <td>2018-08-01T01:26:15.000+0000</td>\n",
              "      <td>6.42</td>\n",
              "      <td>feb79e7ecd7048a5a36ec889d1a94270</td>\n",
              "      <td>Australia</td>\n",
              "      <td>CUS-2142601169</td>\n",
              "      <td>151.21 -33.87</td>\n",
              "      <td>debit</td>\n",
              "    </tr>\n",
              "    <tr>\n",
              "      <th>3</th>\n",
              "      <td>authorized</td>\n",
              "      <td>1.0</td>\n",
              "      <td>NaN</td>\n",
              "      <td>ACC-1037050564</td>\n",
              "      <td>AUD</td>\n",
              "      <td>153.10 -27.66</td>\n",
              "      <td>SALES-POS</td>\n",
              "      <td>48514682-c78a-4a88-b0da-2d6302e64673</td>\n",
              "      <td>NaN</td>\n",
              "      <td>Rhonda</td>\n",
              "      <td>2117.22</td>\n",
              "      <td>2018-08-01</td>\n",
              "      <td>F</td>\n",
              "      <td>40</td>\n",
              "      <td>Buderim</td>\n",
              "      <td>QLD</td>\n",
              "      <td>2018-08-01T01:38:45.000+0000</td>\n",
              "      <td>40.90</td>\n",
              "      <td>2698170da3704fd981b15e64a006079e</td>\n",
              "      <td>Australia</td>\n",
              "      <td>CUS-1614226872</td>\n",
              "      <td>153.05 -26.68</td>\n",
              "      <td>debit</td>\n",
              "    </tr>\n",
              "    <tr>\n",
              "      <th>4</th>\n",
              "      <td>authorized</td>\n",
              "      <td>1.0</td>\n",
              "      <td>NaN</td>\n",
              "      <td>ACC-1598451071</td>\n",
              "      <td>AUD</td>\n",
              "      <td>153.41 -27.95</td>\n",
              "      <td>SALES-POS</td>\n",
              "      <td>b4e02c10-0852-4273-b8fd-7b3395e32eb0</td>\n",
              "      <td>NaN</td>\n",
              "      <td>Diana</td>\n",
              "      <td>17.95</td>\n",
              "      <td>2018-08-01</td>\n",
              "      <td>F</td>\n",
              "      <td>26</td>\n",
              "      <td>Mermaid Beach</td>\n",
              "      <td>QLD</td>\n",
              "      <td>2018-08-01T01:51:15.000+0000</td>\n",
              "      <td>3.25</td>\n",
              "      <td>329adf79878c4cf0aeb4188b4691c266</td>\n",
              "      <td>Australia</td>\n",
              "      <td>CUS-2487424745</td>\n",
              "      <td>153.44 -28.06</td>\n",
              "      <td>debit</td>\n",
              "    </tr>\n",
              "  </tbody>\n",
              "</table>\n",
              "</div>"
            ],
            "text/plain": [
              "       status  card_present_flag  ... merchant_long_lat movement\n",
              "0  authorized                1.0  ...     153.38 -27.99    debit\n",
              "1  authorized                0.0  ...     151.21 -33.87    debit\n",
              "2  authorized                1.0  ...     151.21 -33.87    debit\n",
              "3  authorized                1.0  ...     153.05 -26.68    debit\n",
              "4  authorized                1.0  ...     153.44 -28.06    debit\n",
              "\n",
              "[5 rows x 23 columns]"
            ]
          },
          "metadata": {
            "tags": []
          },
          "execution_count": 5
        }
      ]
    },
    {
      "cell_type": "code",
      "metadata": {
        "id": "0KM_H3cK2nV7",
        "colab_type": "code",
        "outputId": "8a9a880c-5002-45b1-d512-36cf709fb7c1",
        "colab": {
          "base_uri": "https://localhost:8080/",
          "height": 689
        }
      },
      "source": [
        "msno.matrix(data) "
      ],
      "execution_count": 0,
      "outputs": [
        {
          "output_type": "execute_result",
          "data": {
            "text/plain": [
              "<matplotlib.axes._subplots.AxesSubplot at 0x7f638f049d30>"
            ]
          },
          "metadata": {
            "tags": []
          },
          "execution_count": 6
        },
        {
          "output_type": "display_data",
          "data": {
            "image/png": "[encoded data removed]",
            "text/plain": [
              "<Figure size 1800x720 with 2 Axes>"
            ]
          },
          "metadata": {
            "tags": [],
            "needs_background": "light"
          }
        }
      ]
    },
    {
      "cell_type": "code",
      "metadata": {
        "id": "DfN2-tMN39jl",
        "colab_type": "code",
        "colab": {}
      },
      "source": [
        ""
      ],
      "execution_count": 0,
      "outputs": []
    },
    {
      "cell_type": "code",
      "metadata": {
        "id": "dJKzOvSjgA97",
        "colab_type": "code",
        "outputId": "7e137df2-b874-499e-8775-877219761c05",
        "colab": {
          "base_uri": "https://localhost:8080/",
          "height": 754
        }
      },
      "source": [
        "msno.bar(data)"
      ],
      "execution_count": 0,
      "outputs": [
        {
          "output_type": "execute_result",
          "data": {
            "text/plain": [
              "<matplotlib.axes._subplots.AxesSubplot at 0x7f638c7124a8>"
            ]
          },
          "metadata": {
            "tags": []
          },
          "execution_count": 7
        },
        {
          "output_type": "display_data",
          "data": {
            "image/png": "[encoded data removed]",
            "text/plain": [
              "<Figure size 1728x720 with 3 Axes>"
            ]
          },
          "metadata": {
            "tags": [],
            "needs_background": "light"
          }
        }
      ]
    },
    {
      "cell_type": "code",
      "metadata": {
        "id": "VRfSm-lNgUMz",
        "colab_type": "code",
        "outputId": "940059e0-96e5-443b-ead0-1fe0b7df3da2",
        "colab": {
          "base_uri": "https://localhost:8080/",
          "height": 828
        }
      },
      "source": [
        "msno.heatmap(data) "
      ],
      "execution_count": 0,
      "outputs": [
        {
          "output_type": "execute_result",
          "data": {
            "text/plain": [
              "<matplotlib.axes._subplots.AxesSubplot at 0x7f638c77e4e0>"
            ]
          },
          "metadata": {
            "tags": []
          },
          "execution_count": 8
        },
        {
          "output_type": "display_data",
          "data": {
            "image/png": "[encoded data removed]",
            "text/plain": [
              "<Figure size 1440x864 with 2 Axes>"
            ]
          },
          "metadata": {
            "tags": [],
            "needs_background": "light"
          }
        }
      ]
    },
    {
      "cell_type": "code",
      "metadata": {
        "id": "rwYB5vEWiZNH",
        "colab_type": "code",
        "colab": {}
      },
      "source": [
        "a_test=data.groupby(['customer_id','movement'])['gender'].count().unstack()"
      ],
      "execution_count": 0,
      "outputs": []
    },
    {
      "cell_type": "code",
      "metadata": {
        "id": "Pw5DBIWWj99C",
        "colab_type": "code",
        "colab": {}
      },
      "source": [
        "a_test.dropna(inplace=True)"
      ],
      "execution_count": 0,
      "outputs": []
    },
    {
      "cell_type": "code",
      "metadata": {
        "id": "njo7W920ndhd",
        "colab_type": "code",
        "colab": {}
      },
      "source": [
        ""
      ],
      "execution_count": 0,
      "outputs": []
    },
    {
      "cell_type": "code",
      "metadata": {
        "id": "vSnd99FRf2-6",
        "colab_type": "code",
        "outputId": "541edc77-57bd-4ed1-b687-65836cf64b7b",
        "colab": {
          "base_uri": "https://localhost:8080/",
          "height": 166
        }
      },
      "source": [
        "data[data['movement']=='debit'].resample('M',on='date')[['amount']].sum()"
      ],
      "execution_count": 0,
      "outputs": [
        {
          "output_type": "execute_result",
          "data": {
            "text/html": [
              "<div>\n",
              "<style scoped>\n",
              "    .dataframe tbody tr th:only-of-type {\n",
              "        vertical-align: middle;\n",
              "    }\n",
              "\n",
              "    .dataframe tbody tr th {\n",
              "        vertical-align: top;\n",
              "    }\n",
              "\n",
              "    .dataframe thead th {\n",
              "        text-align: right;\n",
              "    }\n",
              "</style>\n",
              "<table border=\"1\" class=\"dataframe\">\n",
              "  <thead>\n",
              "    <tr style=\"text-align: right;\">\n",
              "      <th></th>\n",
              "      <th>amount</th>\n",
              "    </tr>\n",
              "    <tr>\n",
              "      <th>date</th>\n",
              "      <th></th>\n",
              "    </tr>\n",
              "  </thead>\n",
              "  <tbody>\n",
              "    <tr>\n",
              "      <th>2018-08-31</th>\n",
              "      <td>170121.19</td>\n",
              "    </tr>\n",
              "    <tr>\n",
              "      <th>2018-09-30</th>\n",
              "      <td>213954.60</td>\n",
              "    </tr>\n",
              "    <tr>\n",
              "      <th>2018-10-31</th>\n",
              "      <td>1202630.56</td>\n",
              "    </tr>\n",
              "  </tbody>\n",
              "</table>\n",
              "</div>"
            ],
            "text/plain": [
              "                amount\n",
              "date                  \n",
              "2018-08-31   170121.19\n",
              "2018-09-30   213954.60\n",
              "2018-10-31  1202630.56"
            ]
          },
          "metadata": {
            "tags": []
          },
          "execution_count": 11
        }
      ]
    },
    {
      "cell_type": "code",
      "metadata": {
        "id": "tBJGoZpch3fF",
        "colab_type": "code",
        "colab": {}
      },
      "source": [
        "grouped=data.groupby(['customer_id','movement']).resample('M',on='date')"
      ],
      "execution_count": 0,
      "outputs": []
    },
    {
      "cell_type": "code",
      "metadata": {
        "id": "BHR7FTnXgVfS",
        "colab_type": "code",
        "colab": {}
      },
      "source": [
        "a=grouped['amount'].mean()"
      ],
      "execution_count": 0,
      "outputs": []
    },
    {
      "cell_type": "code",
      "metadata": {
        "id": "6o9peXKfkfAP",
        "colab_type": "code",
        "colab": {}
      },
      "source": [
        "a=a.to_frame()"
      ],
      "execution_count": 0,
      "outputs": []
    },
    {
      "cell_type": "code",
      "metadata": {
        "id": "CQxFJm-9k4jg",
        "colab_type": "code",
        "colab": {}
      },
      "source": [
        "a['mean_sum']=grouped['amount'].sum()"
      ],
      "execution_count": 0,
      "outputs": []
    },
    {
      "cell_type": "code",
      "metadata": {
        "id": "pE6Q2KAqkieZ",
        "colab_type": "code",
        "outputId": "d1f2c5af-2ea3-4aa6-b965-38b97f7447c8",
        "colab": {
          "base_uri": "https://localhost:8080/",
          "height": 225
        }
      },
      "source": [
        "a.head()"
      ],
      "execution_count": 0,
      "outputs": [
        {
          "output_type": "execute_result",
          "data": {
            "text/html": [
              "<div>\n",
              "<style scoped>\n",
              "    .dataframe tbody tr th:only-of-type {\n",
              "        vertical-align: middle;\n",
              "    }\n",
              "\n",
              "    .dataframe tbody tr th {\n",
              "        vertical-align: top;\n",
              "    }\n",
              "\n",
              "    .dataframe thead th {\n",
              "        text-align: right;\n",
              "    }\n",
              "</style>\n",
              "<table border=\"1\" class=\"dataframe\">\n",
              "  <thead>\n",
              "    <tr style=\"text-align: right;\">\n",
              "      <th></th>\n",
              "      <th></th>\n",
              "      <th></th>\n",
              "      <th>amount</th>\n",
              "      <th>mean_sum</th>\n",
              "    </tr>\n",
              "    <tr>\n",
              "      <th>customer_id</th>\n",
              "      <th>movement</th>\n",
              "      <th>date</th>\n",
              "      <th></th>\n",
              "      <th></th>\n",
              "    </tr>\n",
              "  </thead>\n",
              "  <tbody>\n",
              "    <tr>\n",
              "      <th>CUS-0000000</th>\n",
              "      <th>debit</th>\n",
              "      <th>2018-10-31</th>\n",
              "      <td>999999.000000</td>\n",
              "      <td>999999.00</td>\n",
              "    </tr>\n",
              "    <tr>\n",
              "      <th rowspan=\"4\" valign=\"top\">CUS-1005756958</th>\n",
              "      <th rowspan=\"3\" valign=\"top\">credit</th>\n",
              "      <th>2018-08-31</th>\n",
              "      <td>970.470000</td>\n",
              "      <td>3881.88</td>\n",
              "    </tr>\n",
              "    <tr>\n",
              "      <th>2018-09-30</th>\n",
              "      <td>970.470000</td>\n",
              "      <td>3881.88</td>\n",
              "    </tr>\n",
              "    <tr>\n",
              "      <th>2018-10-31</th>\n",
              "      <td>970.470000</td>\n",
              "      <td>4852.35</td>\n",
              "    </tr>\n",
              "    <tr>\n",
              "      <th>debit</th>\n",
              "      <th>2018-08-31</th>\n",
              "      <td>49.076522</td>\n",
              "      <td>2257.52</td>\n",
              "    </tr>\n",
              "  </tbody>\n",
              "</table>\n",
              "</div>"
            ],
            "text/plain": [
              "                                           amount   mean_sum\n",
              "customer_id    movement date                                \n",
              "CUS-0000000    debit    2018-10-31  999999.000000  999999.00\n",
              "CUS-1005756958 credit   2018-08-31     970.470000    3881.88\n",
              "                        2018-09-30     970.470000    3881.88\n",
              "                        2018-10-31     970.470000    4852.35\n",
              "               debit    2018-08-31      49.076522    2257.52"
            ]
          },
          "metadata": {
            "tags": []
          },
          "execution_count": 16
        }
      ]
    },
    {
      "cell_type": "code",
      "metadata": {
        "id": "SIJ3VPCrjcMu",
        "colab_type": "code",
        "outputId": "65f0339e-49f4-48b9-8a72-bb6245d1170d",
        "colab": {
          "base_uri": "https://localhost:8080/",
          "height": 34
        }
      },
      "source": [
        "print(type(a))"
      ],
      "execution_count": 0,
      "outputs": [
        {
          "output_type": "stream",
          "text": [
            "<class 'pandas.core.frame.DataFrame'>\n"
          ],
          "name": "stdout"
        }
      ]
    },
    {
      "cell_type": "code",
      "metadata": {
        "id": "5uqwp4VLFihl",
        "colab_type": "code",
        "outputId": "26c31f2d-f9f3-40d2-9471-7597de8657f0",
        "colab": {
          "base_uri": "https://localhost:8080/",
          "height": 420
        }
      },
      "source": [
        "data.isnull().sum()"
      ],
      "execution_count": 0,
      "outputs": [
        {
          "output_type": "execute_result",
          "data": {
            "text/plain": [
              "status                   0\n",
              "card_present_flag     4326\n",
              "bpay_biller_code     11159\n",
              "account                  0\n",
              "currency                 0\n",
              "long_lat                 0\n",
              "txn_description          0\n",
              "merchant_id           4326\n",
              "merchant_code        11161\n",
              "first_name               0\n",
              "balance                  0\n",
              "date                     0\n",
              "gender                   0\n",
              "age                      0\n",
              "merchant_suburb       4326\n",
              "merchant_state        4326\n",
              "extraction               0\n",
              "amount                   0\n",
              "transaction_id           0\n",
              "country                  0\n",
              "customer_id              0\n",
              "merchant_long_lat     4326\n",
              "movement                 0\n",
              "dtype: int64"
            ]
          },
          "metadata": {
            "tags": []
          },
          "execution_count": 18
        }
      ]
    },
    {
      "cell_type": "code",
      "metadata": {
        "id": "Agk9ZlTSCSc3",
        "colab_type": "code",
        "colab": {}
      },
      "source": [
        "data['months']=data['date'].dt.strftime(\"%m\")"
      ],
      "execution_count": 0,
      "outputs": []
    },
    {
      "cell_type": "code",
      "metadata": {
        "id": "Ve3CNKySC9nx",
        "colab_type": "code",
        "colab": {}
      },
      "source": [
        ""
      ],
      "execution_count": 0,
      "outputs": []
    },
    {
      "cell_type": "code",
      "metadata": {
        "id": "EeJYGoVZ0F19",
        "colab_type": "code",
        "colab": {}
      },
      "source": [
        "summary={'txn_description':'count','amount':'mean'}"
      ],
      "execution_count": 0,
      "outputs": []
    },
    {
      "cell_type": "code",
      "metadata": {
        "id": "mMVlL6D9wz2o",
        "colab_type": "code",
        "colab": {}
      },
      "source": [
        "df=data[data['txn_description'].str.contains(\"PAY/SALARY\")].groupby(by=['customer_id','months','age','gender']).agg(summary).reset_index()"
      ],
      "execution_count": 0,
      "outputs": []
    },
    {
      "cell_type": "code",
      "metadata": {
        "id": "0Alv_J1KxCF-",
        "colab_type": "code",
        "outputId": "a1087cf2-37c8-4787-c223-41a71fbaac63",
        "colab": {
          "base_uri": "https://localhost:8080/",
          "height": 195
        }
      },
      "source": [
        "df.head()"
      ],
      "execution_count": 0,
      "outputs": [
        {
          "output_type": "execute_result",
          "data": {
            "text/html": [
              "<div>\n",
              "<style scoped>\n",
              "    .dataframe tbody tr th:only-of-type {\n",
              "        vertical-align: middle;\n",
              "    }\n",
              "\n",
              "    .dataframe tbody tr th {\n",
              "        vertical-align: top;\n",
              "    }\n",
              "\n",
              "    .dataframe thead th {\n",
              "        text-align: right;\n",
              "    }\n",
              "</style>\n",
              "<table border=\"1\" class=\"dataframe\">\n",
              "  <thead>\n",
              "    <tr style=\"text-align: right;\">\n",
              "      <th></th>\n",
              "      <th>customer_id</th>\n",
              "      <th>months</th>\n",
              "      <th>age</th>\n",
              "      <th>gender</th>\n",
              "      <th>txn_description</th>\n",
              "      <th>amount</th>\n",
              "    </tr>\n",
              "  </thead>\n",
              "  <tbody>\n",
              "    <tr>\n",
              "      <th>0</th>\n",
              "      <td>CUS-1005756958</td>\n",
              "      <td>08</td>\n",
              "      <td>53</td>\n",
              "      <td>F</td>\n",
              "      <td>4</td>\n",
              "      <td>970.47</td>\n",
              "    </tr>\n",
              "    <tr>\n",
              "      <th>1</th>\n",
              "      <td>CUS-1005756958</td>\n",
              "      <td>09</td>\n",
              "      <td>53</td>\n",
              "      <td>F</td>\n",
              "      <td>4</td>\n",
              "      <td>970.47</td>\n",
              "    </tr>\n",
              "    <tr>\n",
              "      <th>2</th>\n",
              "      <td>CUS-1005756958</td>\n",
              "      <td>10</td>\n",
              "      <td>53</td>\n",
              "      <td>F</td>\n",
              "      <td>5</td>\n",
              "      <td>970.47</td>\n",
              "    </tr>\n",
              "    <tr>\n",
              "      <th>3</th>\n",
              "      <td>CUS-1117979751</td>\n",
              "      <td>08</td>\n",
              "      <td>21</td>\n",
              "      <td>M</td>\n",
              "      <td>2</td>\n",
              "      <td>3578.65</td>\n",
              "    </tr>\n",
              "    <tr>\n",
              "      <th>4</th>\n",
              "      <td>CUS-1117979751</td>\n",
              "      <td>09</td>\n",
              "      <td>21</td>\n",
              "      <td>M</td>\n",
              "      <td>2</td>\n",
              "      <td>3578.65</td>\n",
              "    </tr>\n",
              "  </tbody>\n",
              "</table>\n",
              "</div>"
            ],
            "text/plain": [
              "      customer_id months  age gender  txn_description   amount\n",
              "0  CUS-1005756958     08   53      F                4   970.47\n",
              "1  CUS-1005756958     09   53      F                4   970.47\n",
              "2  CUS-1005756958     10   53      F                5   970.47\n",
              "3  CUS-1117979751     08   21      M                2  3578.65\n",
              "4  CUS-1117979751     09   21      M                2  3578.65"
            ]
          },
          "metadata": {
            "tags": []
          },
          "execution_count": 22
        }
      ]
    },
    {
      "cell_type": "code",
      "metadata": {
        "id": "ZMn7eSApPMs4",
        "colab_type": "code",
        "colab": {}
      },
      "source": [
        ""
      ],
      "execution_count": 0,
      "outputs": []
    },
    {
      "cell_type": "code",
      "metadata": {
        "id": "SFgxUHa4FNKc",
        "colab_type": "code",
        "colab": {}
      },
      "source": [
        "df['txn_description']=df['txn_description'].astype(\"int\")"
      ],
      "execution_count": 0,
      "outputs": []
    },
    {
      "cell_type": "code",
      "metadata": {
        "id": "LZzfz7CXHgUC",
        "colab_type": "code",
        "colab": {}
      },
      "source": [
        "d=df.groupby([\"customer_id\"])[['txn_description','amount','age']].median().reset_index()"
      ],
      "execution_count": 0,
      "outputs": []
    },
    {
      "cell_type": "code",
      "metadata": {
        "id": "lMLfpDksI-_W",
        "colab_type": "code",
        "outputId": "1c9fa209-c4dd-4e99-e18b-85e15fc9c74e",
        "colab": {
          "base_uri": "https://localhost:8080/",
          "height": 195
        }
      },
      "source": [
        "d.head()"
      ],
      "execution_count": 0,
      "outputs": [
        {
          "output_type": "execute_result",
          "data": {
            "text/html": [
              "<div>\n",
              "<style scoped>\n",
              "    .dataframe tbody tr th:only-of-type {\n",
              "        vertical-align: middle;\n",
              "    }\n",
              "\n",
              "    .dataframe tbody tr th {\n",
              "        vertical-align: top;\n",
              "    }\n",
              "\n",
              "    .dataframe thead th {\n",
              "        text-align: right;\n",
              "    }\n",
              "</style>\n",
              "<table border=\"1\" class=\"dataframe\">\n",
              "  <thead>\n",
              "    <tr style=\"text-align: right;\">\n",
              "      <th></th>\n",
              "      <th>customer_id</th>\n",
              "      <th>txn_description</th>\n",
              "      <th>amount</th>\n",
              "      <th>age</th>\n",
              "    </tr>\n",
              "  </thead>\n",
              "  <tbody>\n",
              "    <tr>\n",
              "      <th>0</th>\n",
              "      <td>CUS-1005756958</td>\n",
              "      <td>4</td>\n",
              "      <td>970.47</td>\n",
              "      <td>53</td>\n",
              "    </tr>\n",
              "    <tr>\n",
              "      <th>1</th>\n",
              "      <td>CUS-1117979751</td>\n",
              "      <td>2</td>\n",
              "      <td>3578.65</td>\n",
              "      <td>21</td>\n",
              "    </tr>\n",
              "    <tr>\n",
              "      <th>2</th>\n",
              "      <td>CUS-1140341822</td>\n",
              "      <td>2</td>\n",
              "      <td>1916.51</td>\n",
              "      <td>28</td>\n",
              "    </tr>\n",
              "    <tr>\n",
              "      <th>3</th>\n",
              "      <td>CUS-1147642491</td>\n",
              "      <td>4</td>\n",
              "      <td>1711.39</td>\n",
              "      <td>34</td>\n",
              "    </tr>\n",
              "    <tr>\n",
              "      <th>4</th>\n",
              "      <td>CUS-1196156254</td>\n",
              "      <td>2</td>\n",
              "      <td>3903.73</td>\n",
              "      <td>34</td>\n",
              "    </tr>\n",
              "  </tbody>\n",
              "</table>\n",
              "</div>"
            ],
            "text/plain": [
              "      customer_id  txn_description   amount  age\n",
              "0  CUS-1005756958                4   970.47   53\n",
              "1  CUS-1117979751                2  3578.65   21\n",
              "2  CUS-1140341822                2  1916.51   28\n",
              "3  CUS-1147642491                4  1711.39   34\n",
              "4  CUS-1196156254                2  3903.73   34"
            ]
          },
          "metadata": {
            "tags": []
          },
          "execution_count": 25
        }
      ]
    },
    {
      "cell_type": "code",
      "metadata": {
        "id": "L8LXeZA1Qmrw",
        "colab_type": "code",
        "colab": {}
      },
      "source": [
        ""
      ],
      "execution_count": 0,
      "outputs": []
    },
    {
      "cell_type": "code",
      "metadata": {
        "id": "sBx5yTldJGQ4",
        "colab_type": "code",
        "colab": {}
      },
      "source": [
        "d['annual_salary']=list(map(lambda x:52 if x==4 else 26,d['txn_description']))*d['amount']"
      ],
      "execution_count": 0,
      "outputs": []
    },
    {
      "cell_type": "code",
      "metadata": {
        "id": "_11rEPO4PnVy",
        "colab_type": "code",
        "outputId": "8bf78a24-47d4-4255-9608-4bef0595370b",
        "colab": {
          "base_uri": "https://localhost:8080/",
          "height": 168
        }
      },
      "source": [
        "d['annual_salary'].describe()"
      ],
      "execution_count": 0,
      "outputs": [
        {
          "output_type": "execute_result",
          "data": {
            "text/plain": [
              "count       100.000000\n",
              "mean      70227.794000\n",
              "std       34613.909024\n",
              "min       25567.360000\n",
              "25%       46217.340000\n",
              "50%       60176.610000\n",
              "75%       89608.675000\n",
              "max      229735.480000\n",
              "Name: annual_salary, dtype: float64"
            ]
          },
          "metadata": {
            "tags": []
          },
          "execution_count": 27
        }
      ]
    },
    {
      "cell_type": "code",
      "metadata": {
        "id": "mXALYcDhPOpc",
        "colab_type": "code",
        "outputId": "23f3eb1c-c5a6-4343-8db8-f00a964e77c3",
        "colab": {
          "base_uri": "https://localhost:8080/",
          "height": 308
        }
      },
      "source": [
        "sns.distplot(d['annual_salary'])"
      ],
      "execution_count": 0,
      "outputs": [
        {
          "output_type": "execute_result",
          "data": {
            "text/plain": [
              "<matplotlib.axes._subplots.AxesSubplot at 0x7f63894e6710>"
            ]
          },
          "metadata": {
            "tags": []
          },
          "execution_count": 28
        },
        {
          "output_type": "display_data",
          "data": {
            "image/png": "[encoded data removed]",
            "text/plain": [
              "<Figure size 432x288 with 1 Axes>"
            ]
          },
          "metadata": {
            "tags": [],
            "needs_background": "light"
          }
        }
      ]
    },
    {
      "cell_type": "code",
      "metadata": {
        "id": "_OWBELLrMPDf",
        "colab_type": "code",
        "outputId": "d5eb3ace-7bd3-4202-83b3-67412b1049e5",
        "colab": {
          "base_uri": "https://localhost:8080/",
          "height": 542
        }
      },
      "source": [
        "import plotly.express as px\n",
        "df = d['annual_salary']\n",
        "fig = px.histogram(df, x=\"annual_salary\",nbins=40)\n",
        "fig.show()"
      ],
      "execution_count": 0,
      "outputs": [
        {
          "output_type": "display_data",
          "data": {
            "text/html": [
              "<html>\n",
              "<head><meta charset=\"utf-8\" /></head>\n",
              "<body>\n",
              "    <div>\n",
              "            <script src=\"https://cdnjs.cloudflare.com/ajax/libs/mathjax/2.7.5/MathJax.js?config=TeX-AMS-MML_SVG\"></script><script type=\"text/javascript\">if (window.MathJax) {MathJax.Hub.Config({SVG: {font: \"STIX-Web\"}});}</script>\n",
              "                <script type=\"text/javascript\">window.PlotlyConfig = {MathJaxConfig: 'local'};</script>\n",
              "        <script src=\"https://cdn.plot.ly/plotly-latest.min.js\"></script>    \n",
              "            <div id=\"44d5cdb4-eaa7-45b8-a3f5-a54a66b438f2\" class=\"plotly-graph-div\" style=\"height:525px; width:100%;\"></div>\n",
              "            <script type=\"text/javascript\">\n",
              "                \n",
              "                    window.PLOTLYENV=window.PLOTLYENV || {};\n",
              "                    \n",
              "                if (document.getElementById(\"44d5cdb4-eaa7-45b8-a3f5-a54a66b438f2\")) {\n",
              "                    Plotly.newPlot(\n",
              "                        '44d5cdb4-eaa7-45b8-a3f5-a54a66b438f2',\n",
              "                        [{\"alignmentgroup\": \"True\", \"bingroup\": \"x\", \"hoverlabel\": {\"namelength\": 0}, \"hovertemplate\": \"annual_salary=%{x}<br>count=%{y}\", \"legendgroup\": \"\", \"marker\": {\"color\": \"#636efa\"}, \"name\": \"\", \"nbinsx\": 40, \"offsetgroup\": \"\", \"orientation\": \"v\", \"showlegend\": false, \"type\": \"histogram\", \"x\": [50464.44, 93044.90000000001, 49829.26, 88992.28, 101496.98, 59341.36, 31009.160000000003, 30111.9, 59217.08, 52615.68, 98430.28, 27121.119999999995, 36610.08, 101502.7, 94887.26000000001, 64231.7, 65000.0, 74223.23999999999, 46388.68, 86548.02, 36282.74, 40685.84, 28571.660000000003, 29952.0, 63717.159999999996, 126454.12, 79849.64, 229735.47999999998, 39589.16, 75070.84, 60025.42, 64619.619999999995, 118578.72, 81130.40000000001, 75049.52, 78700.7, 52110.76, 127048.47999999998, 158787.97999999998, 40069.119999999995, 57686.98, 68633.76000000001, 54639.26000000001, 56678.96, 132691.26, 42661.58, 26355.419999999995, 42288.48, 101221.64, 42389.36, 114537.8, 47876.92, 44873.4, 105424.02, 60327.8, 47707.4, 132327.52000000002, 84012.76000000001, 37361.48, 73843.90000000001, 70681.26000000001, 51804.48, 134576.52000000002, 45703.32, 95600.44, 72603.96, 47671.0, 97809.40000000001, 59972.380000000005, 34550.36, 25567.36, 47921.64, 57184.4, 107437.97999999998, 55111.67999999999, 45703.06, 50153.22, 83070.26000000001, 39979.68, 66168.44, 43721.08, 69884.09999999999, 66005.68, 27769.04, 91457.86, 96526.56, 51508.6, 68831.88, 127683.4, 51100.92, 156636.74, 109617.04, 66895.66, 85109.44, 50759.54, 37716.64, 53927.64, 47024.119999999995, 37283.48, 103413.96], \"xaxis\": \"x\", \"yaxis\": \"y\"}],\n",
              "                        {\"barmode\": \"relative\", \"legend\": {\"tracegroupgap\": 0}, \"margin\": {\"t\": 60}, \"template\": {\"data\": {\"bar\": [{\"error_x\": {\"color\": \"#2a3f5f\"}, \"error_y\": {\"color\": \"#2a3f5f\"}, \"marker\": {\"line\": {\"color\": \"#E5ECF6\", \"width\": 0.5}}, \"type\": \"bar\"}], \"barpolar\": [{\"marker\": {\"line\": {\"color\": \"#E5ECF6\", \"width\": 0.5}}, \"type\": \"barpolar\"}], \"carpet\": [{\"aaxis\": {\"endlinecolor\": \"#2a3f5f\", \"gridcolor\": \"white\", \"linecolor\": \"white\", \"minorgridcolor\": \"white\", \"startlinecolor\": \"#2a3f5f\"}, \"baxis\": {\"endlinecolor\": \"#2a3f5f\", \"gridcolor\": \"white\", \"linecolor\": \"white\", \"minorgridcolor\": \"white\", \"startlinecolor\": \"#2a3f5f\"}, \"type\": \"carpet\"}], \"choropleth\": [{\"colorbar\": {\"outlinewidth\": 0, \"ticks\": \"\"}, \"type\": \"choropleth\"}], \"contour\": [{\"colorbar\": {\"outlinewidth\": 0, \"ticks\": \"\"}, \"colorscale\": [[0.0, \"#0d0887\"], [0.1111111111111111, \"#46039f\"], [0.2222222222222222, \"#7201a8\"], [0.3333333333333333, \"#9c179e\"], [0.4444444444444444, \"#bd3786\"], [0.5555555555555556, \"#d8576b\"], [0.6666666666666666, \"#ed7953\"], [0.7777777777777778, \"#fb9f3a\"], [0.8888888888888888, \"#fdca26\"], [1.0, \"#f0f921\"]], \"type\": \"contour\"}], \"contourcarpet\": [{\"colorbar\": {\"outlinewidth\": 0, \"ticks\": \"\"}, \"type\": \"contourcarpet\"}], \"heatmap\": [{\"colorbar\": {\"outlinewidth\": 0, \"ticks\": \"\"}, \"colorscale\": [[0.0, \"#0d0887\"], [0.1111111111111111, \"#46039f\"], [0.2222222222222222, \"#7201a8\"], [0.3333333333333333, \"#9c179e\"], [0.4444444444444444, \"#bd3786\"], [0.5555555555555556, \"#d8576b\"], [0.6666666666666666, \"#ed7953\"], [0.7777777777777778, \"#fb9f3a\"], [0.8888888888888888, \"#fdca26\"], [1.0, \"#f0f921\"]], \"type\": \"heatmap\"}], \"heatmapgl\": [{\"colorbar\": {\"outlinewidth\": 0, \"ticks\": \"\"}, \"colorscale\": [[0.0, \"#0d0887\"], [0.1111111111111111, \"#46039f\"], [0.2222222222222222, \"#7201a8\"], [0.3333333333333333, \"#9c179e\"], [0.4444444444444444, \"#bd3786\"], [0.5555555555555556, \"#d8576b\"], [0.6666666666666666, \"#ed7953\"], [0.7777777777777778, \"#fb9f3a\"], [0.8888888888888888, \"#fdca26\"], [1.0, \"#f0f921\"]], \"type\": \"heatmapgl\"}], \"histogram\": [{\"marker\": {\"colorbar\": {\"outlinewidth\": 0, \"ticks\": \"\"}}, \"type\": \"histogram\"}], \"histogram2d\": [{\"colorbar\": {\"outlinewidth\": 0, \"ticks\": \"\"}, \"colorscale\": [[0.0, \"#0d0887\"], [0.1111111111111111, \"#46039f\"], [0.2222222222222222, \"#7201a8\"], [0.3333333333333333, \"#9c179e\"], [0.4444444444444444, \"#bd3786\"], [0.5555555555555556, \"#d8576b\"], [0.6666666666666666, \"#ed7953\"], [0.7777777777777778, \"#fb9f3a\"], [0.8888888888888888, \"#fdca26\"], [1.0, \"#f0f921\"]], \"type\": \"histogram2d\"}], \"histogram2dcontour\": [{\"colorbar\": {\"outlinewidth\": 0, \"ticks\": \"\"}, \"colorscale\": [[0.0, \"#0d0887\"], [0.1111111111111111, \"#46039f\"], [0.2222222222222222, \"#7201a8\"], [0.3333333333333333, \"#9c179e\"], [0.4444444444444444, \"#bd3786\"], [0.5555555555555556, \"#d8576b\"], [0.6666666666666666, \"#ed7953\"], [0.7777777777777778, \"#fb9f3a\"], [0.8888888888888888, \"#fdca26\"], [1.0, \"#f0f921\"]], \"type\": \"histogram2dcontour\"}], \"mesh3d\": [{\"colorbar\": {\"outlinewidth\": 0, \"ticks\": \"\"}, \"type\": \"mesh3d\"}], \"parcoords\": [{\"line\": {\"colorbar\": {\"outlinewidth\": 0, \"ticks\": \"\"}}, \"type\": \"parcoords\"}], \"pie\": [{\"automargin\": true, \"type\": \"pie\"}], \"scatter\": [{\"marker\": {\"colorbar\": {\"outlinewidth\": 0, \"ticks\": \"\"}}, \"type\": \"scatter\"}], \"scatter3d\": [{\"line\": {\"colorbar\": {\"outlinewidth\": 0, \"ticks\": \"\"}}, \"marker\": {\"colorbar\": {\"outlinewidth\": 0, \"ticks\": \"\"}}, \"type\": \"scatter3d\"}], \"scattercarpet\": [{\"marker\": {\"colorbar\": {\"outlinewidth\": 0, \"ticks\": \"\"}}, \"type\": \"scattercarpet\"}], \"scattergeo\": [{\"marker\": {\"colorbar\": {\"outlinewidth\": 0, \"ticks\": \"\"}}, \"type\": \"scattergeo\"}], \"scattergl\": [{\"marker\": {\"colorbar\": {\"outlinewidth\": 0, \"ticks\": \"\"}}, \"type\": \"scattergl\"}], \"scattermapbox\": [{\"marker\": {\"colorbar\": {\"outlinewidth\": 0, \"ticks\": \"\"}}, \"type\": \"scattermapbox\"}], \"scatterpolar\": [{\"marker\": {\"colorbar\": {\"outlinewidth\": 0, \"ticks\": \"\"}}, \"type\": \"scatterpolar\"}], \"scatterpolargl\": [{\"marker\": {\"colorbar\": {\"outlinewidth\": 0, \"ticks\": \"\"}}, \"type\": \"scatterpolargl\"}], \"scatterternary\": [{\"marker\": {\"colorbar\": {\"outlinewidth\": 0, \"ticks\": \"\"}}, \"type\": \"scatterternary\"}], \"surface\": [{\"colorbar\": {\"outlinewidth\": 0, \"ticks\": \"\"}, \"colorscale\": [[0.0, \"#0d0887\"], [0.1111111111111111, \"#46039f\"], [0.2222222222222222, \"#7201a8\"], [0.3333333333333333, \"#9c179e\"], [0.4444444444444444, \"#bd3786\"], [0.5555555555555556, \"#d8576b\"], [0.6666666666666666, \"#ed7953\"], [0.7777777777777778, \"#fb9f3a\"], [0.8888888888888888, \"#fdca26\"], [1.0, \"#f0f921\"]], \"type\": \"surface\"}], \"table\": [{\"cells\": {\"fill\": {\"color\": \"#EBF0F8\"}, \"line\": {\"color\": \"white\"}}, \"header\": {\"fill\": {\"color\": \"#C8D4E3\"}, \"line\": {\"color\": \"white\"}}, \"type\": \"table\"}]}, \"layout\": {\"annotationdefaults\": {\"arrowcolor\": \"#2a3f5f\", \"arrowhead\": 0, \"arrowwidth\": 1}, \"coloraxis\": {\"colorbar\": {\"outlinewidth\": 0, \"ticks\": \"\"}}, \"colorscale\": {\"diverging\": [[0, \"#8e0152\"], [0.1, \"#c51b7d\"], [0.2, \"#de77ae\"], [0.3, \"#f1b6da\"], [0.4, \"#fde0ef\"], [0.5, \"#f7f7f7\"], [0.6, \"#e6f5d0\"], [0.7, \"#b8e186\"], [0.8, \"#7fbc41\"], [0.9, \"#4d9221\"], [1, \"#276419\"]], \"sequential\": [[0.0, \"#0d0887\"], [0.1111111111111111, \"#46039f\"], [0.2222222222222222, \"#7201a8\"], [0.3333333333333333, \"#9c179e\"], [0.4444444444444444, \"#bd3786\"], [0.5555555555555556, \"#d8576b\"], [0.6666666666666666, \"#ed7953\"], [0.7777777777777778, \"#fb9f3a\"], [0.8888888888888888, \"#fdca26\"], [1.0, \"#f0f921\"]], \"sequentialminus\": [[0.0, \"#0d0887\"], [0.1111111111111111, \"#46039f\"], [0.2222222222222222, \"#7201a8\"], [0.3333333333333333, \"#9c179e\"], [0.4444444444444444, \"#bd3786\"], [0.5555555555555556, \"#d8576b\"], [0.6666666666666666, \"#ed7953\"], [0.7777777777777778, \"#fb9f3a\"], [0.8888888888888888, \"#fdca26\"], [1.0, \"#f0f921\"]]}, \"colorway\": [\"#636efa\", \"#EF553B\", \"#00cc96\", \"#ab63fa\", \"#FFA15A\", \"#19d3f3\", \"#FF6692\", \"#B6E880\", \"#FF97FF\", \"#FECB52\"], \"font\": {\"color\": \"#2a3f5f\"}, \"geo\": {\"bgcolor\": \"white\", \"lakecolor\": \"white\", \"landcolor\": \"#E5ECF6\", \"showlakes\": true, \"showland\": true, \"subunitcolor\": \"white\"}, \"hoverlabel\": {\"align\": \"left\"}, \"hovermode\": \"closest\", \"mapbox\": {\"style\": \"light\"}, \"paper_bgcolor\": \"white\", \"plot_bgcolor\": \"#E5ECF6\", \"polar\": {\"angularaxis\": {\"gridcolor\": \"white\", \"linecolor\": \"white\", \"ticks\": \"\"}, \"bgcolor\": \"#E5ECF6\", \"radialaxis\": {\"gridcolor\": \"white\", \"linecolor\": \"white\", \"ticks\": \"\"}}, \"scene\": {\"xaxis\": {\"backgroundcolor\": \"#E5ECF6\", \"gridcolor\": \"white\", \"gridwidth\": 2, \"linecolor\": \"white\", \"showbackground\": true, \"ticks\": \"\", \"zerolinecolor\": \"white\"}, \"yaxis\": {\"backgroundcolor\": \"#E5ECF6\", \"gridcolor\": \"white\", \"gridwidth\": 2, \"linecolor\": \"white\", \"showbackground\": true, \"ticks\": \"\", \"zerolinecolor\": \"white\"}, \"zaxis\": {\"backgroundcolor\": \"#E5ECF6\", \"gridcolor\": \"white\", \"gridwidth\": 2, \"linecolor\": \"white\", \"showbackground\": true, \"ticks\": \"\", \"zerolinecolor\": \"white\"}}, \"shapedefaults\": {\"line\": {\"color\": \"#2a3f5f\"}}, \"ternary\": {\"aaxis\": {\"gridcolor\": \"white\", \"linecolor\": \"white\", \"ticks\": \"\"}, \"baxis\": {\"gridcolor\": \"white\", \"linecolor\": \"white\", \"ticks\": \"\"}, \"bgcolor\": \"#E5ECF6\", \"caxis\": {\"gridcolor\": \"white\", \"linecolor\": \"white\", \"ticks\": \"\"}}, \"title\": {\"x\": 0.05}, \"xaxis\": {\"automargin\": true, \"gridcolor\": \"white\", \"linecolor\": \"white\", \"ticks\": \"\", \"title\": {\"standoff\": 15}, \"zerolinecolor\": \"white\", \"zerolinewidth\": 2}, \"yaxis\": {\"automargin\": true, \"gridcolor\": \"white\", \"linecolor\": \"white\", \"ticks\": \"\", \"title\": {\"standoff\": 15}, \"zerolinecolor\": \"white\", \"zerolinewidth\": 2}}}, \"xaxis\": {\"anchor\": \"y\", \"domain\": [0.0, 1.0], \"title\": {\"text\": \"annual_salary\"}}, \"yaxis\": {\"anchor\": \"x\", \"domain\": [0.0, 1.0], \"title\": {\"text\": \"count\"}}},\n",
              "                        {\"responsive\": true}\n",
              "                    ).then(function(){\n",
              "                            \n",
              "var gd = document.getElementById('44d5cdb4-eaa7-45b8-a3f5-a54a66b438f2');\n",
              "var x = new MutationObserver(function (mutations, observer) {{\n",
              "        var display = window.getComputedStyle(gd).display;\n",
              "        if (!display || display === 'none') {{\n",
              "            console.log([gd, 'removed!']);\n",
              "            Plotly.purge(gd);\n",
              "            observer.disconnect();\n",
              "        }}\n",
              "}});\n",
              "\n",
              "// Listen for the removal of the full notebook cells\n",
              "var notebookContainer = gd.closest('#notebook-container');\n",
              "if (notebookContainer) {{\n",
              "    x.observe(notebookContainer, {childList: true});\n",
              "}}\n",
              "\n",
              "// Listen for the clearing of the current output cell\n",
              "var outputEl = gd.closest('.output');\n",
              "if (outputEl) {{\n",
              "    x.observe(outputEl, {childList: true});\n",
              "}}\n",
              "\n",
              "                        })\n",
              "                };\n",
              "                \n",
              "            </script>\n",
              "        </div>\n",
              "</body>\n",
              "</html>"
            ]
          },
          "metadata": {
            "tags": []
          }
        }
      ]
    },
    {
      "cell_type": "code",
      "metadata": {
        "id": "sDPA6xnAO38u",
        "colab_type": "code",
        "outputId": "690b781c-73c9-4398-d3b2-6fae40bc2e70",
        "colab": {
          "base_uri": "https://localhost:8080/",
          "height": 386
        }
      },
      "source": [
        "sns.lmplot(x='age',y='annual_salary',data=d)"
      ],
      "execution_count": 0,
      "outputs": [
        {
          "output_type": "execute_result",
          "data": {
            "text/plain": [
              "<seaborn.axisgrid.FacetGrid at 0x7f63894451d0>"
            ]
          },
          "metadata": {
            "tags": []
          },
          "execution_count": 30
        },
        {
          "output_type": "display_data",
          "data": {
            "image/png": "[encoded data removed]",
            "text/plain": [
              "<Figure size 360x360 with 1 Axes>"
            ]
          },
          "metadata": {
            "tags": [],
            "needs_background": "light"
          }
        }
      ]
    },
    {
      "cell_type": "code",
      "metadata": {
        "id": "dbGWOoJwHCsH",
        "colab_type": "code",
        "outputId": "569d0ca5-41d7-4ec6-937b-4df4fa55ad24",
        "colab": {
          "base_uri": "https://localhost:8080/",
          "height": 438
        }
      },
      "source": [
        "df['freq']=df['txn_description'].mean()"
      ],
      "execution_count": 0,
      "outputs": [
        {
          "output_type": "error",
          "ename": "KeyError",
          "evalue": "ignored",
          "traceback": [
            "\u001b[0;31m---------------------------------------------------------------------------\u001b[0m",
            "\u001b[0;31mKeyError\u001b[0m                                  Traceback (most recent call last)",
            "\u001b[0;32m<ipython-input-31-324975fc1b79>\u001b[0m in \u001b[0;36m<module>\u001b[0;34m()\u001b[0m\n\u001b[0;32m----> 1\u001b[0;31m \u001b[0mdf\u001b[0m\u001b[0;34m[\u001b[0m\u001b[0;34m'freq'\u001b[0m\u001b[0;34m]\u001b[0m\u001b[0;34m=\u001b[0m\u001b[0mdf\u001b[0m\u001b[0;34m[\u001b[0m\u001b[0;34m'txn_description'\u001b[0m\u001b[0;34m]\u001b[0m\u001b[0;34m.\u001b[0m\u001b[0mmean\u001b[0m\u001b[0;34m(\u001b[0m\u001b[0;34m)\u001b[0m\u001b[0;34m\u001b[0m\u001b[0;34m\u001b[0m\u001b[0m\n\u001b[0m",
            "\u001b[0;32m/usr/local/lib/python3.6/dist-packages/pandas/core/series.py\u001b[0m in \u001b[0;36m__getitem__\u001b[0;34m(self, key)\u001b[0m\n\u001b[1;32m    869\u001b[0m         \u001b[0mkey\u001b[0m \u001b[0;34m=\u001b[0m \u001b[0mcom\u001b[0m\u001b[0;34m.\u001b[0m\u001b[0mapply_if_callable\u001b[0m\u001b[0;34m(\u001b[0m\u001b[0mkey\u001b[0m\u001b[0;34m,\u001b[0m \u001b[0mself\u001b[0m\u001b[0;34m)\u001b[0m\u001b[0;34m\u001b[0m\u001b[0;34m\u001b[0m\u001b[0m\n\u001b[1;32m    870\u001b[0m         \u001b[0;32mtry\u001b[0m\u001b[0;34m:\u001b[0m\u001b[0;34m\u001b[0m\u001b[0;34m\u001b[0m\u001b[0m\n\u001b[0;32m--> 871\u001b[0;31m             \u001b[0mresult\u001b[0m \u001b[0;34m=\u001b[0m \u001b[0mself\u001b[0m\u001b[0;34m.\u001b[0m\u001b[0mindex\u001b[0m\u001b[0;34m.\u001b[0m\u001b[0mget_value\u001b[0m\u001b[0;34m(\u001b[0m\u001b[0mself\u001b[0m\u001b[0;34m,\u001b[0m \u001b[0mkey\u001b[0m\u001b[0;34m)\u001b[0m\u001b[0;34m\u001b[0m\u001b[0;34m\u001b[0m\u001b[0m\n\u001b[0m\u001b[1;32m    872\u001b[0m \u001b[0;34m\u001b[0m\u001b[0m\n\u001b[1;32m    873\u001b[0m             \u001b[0;32mif\u001b[0m \u001b[0;32mnot\u001b[0m \u001b[0mis_scalar\u001b[0m\u001b[0;34m(\u001b[0m\u001b[0mresult\u001b[0m\u001b[0;34m)\u001b[0m\u001b[0;34m:\u001b[0m\u001b[0;34m\u001b[0m\u001b[0;34m\u001b[0m\u001b[0m\n",
            "\u001b[0;32m/usr/local/lib/python3.6/dist-packages/pandas/core/indexes/base.py\u001b[0m in \u001b[0;36mget_value\u001b[0;34m(self, series, key)\u001b[0m\n\u001b[1;32m   4402\u001b[0m         \u001b[0mk\u001b[0m \u001b[0;34m=\u001b[0m \u001b[0mself\u001b[0m\u001b[0;34m.\u001b[0m\u001b[0m_convert_scalar_indexer\u001b[0m\u001b[0;34m(\u001b[0m\u001b[0mk\u001b[0m\u001b[0;34m,\u001b[0m \u001b[0mkind\u001b[0m\u001b[0;34m=\u001b[0m\u001b[0;34m\"getitem\"\u001b[0m\u001b[0;34m)\u001b[0m\u001b[0;34m\u001b[0m\u001b[0;34m\u001b[0m\u001b[0m\n\u001b[1;32m   4403\u001b[0m         \u001b[0;32mtry\u001b[0m\u001b[0;34m:\u001b[0m\u001b[0;34m\u001b[0m\u001b[0;34m\u001b[0m\u001b[0m\n\u001b[0;32m-> 4404\u001b[0;31m             \u001b[0;32mreturn\u001b[0m \u001b[0mself\u001b[0m\u001b[0;34m.\u001b[0m\u001b[0m_engine\u001b[0m\u001b[0;34m.\u001b[0m\u001b[0mget_value\u001b[0m\u001b[0;34m(\u001b[0m\u001b[0ms\u001b[0m\u001b[0;34m,\u001b[0m \u001b[0mk\u001b[0m\u001b[0;34m,\u001b[0m \u001b[0mtz\u001b[0m\u001b[0;34m=\u001b[0m\u001b[0mgetattr\u001b[0m\u001b[0;34m(\u001b[0m\u001b[0mseries\u001b[0m\u001b[0;34m.\u001b[0m\u001b[0mdtype\u001b[0m\u001b[0;34m,\u001b[0m \u001b[0;34m\"tz\"\u001b[0m\u001b[0;34m,\u001b[0m \u001b[0;32mNone\u001b[0m\u001b[0;34m)\u001b[0m\u001b[0;34m)\u001b[0m\u001b[0;34m\u001b[0m\u001b[0;34m\u001b[0m\u001b[0m\n\u001b[0m\u001b[1;32m   4405\u001b[0m         \u001b[0;32mexcept\u001b[0m \u001b[0mKeyError\u001b[0m \u001b[0;32mas\u001b[0m \u001b[0me1\u001b[0m\u001b[0;34m:\u001b[0m\u001b[0;34m\u001b[0m\u001b[0;34m\u001b[0m\u001b[0m\n\u001b[1;32m   4406\u001b[0m             \u001b[0;32mif\u001b[0m \u001b[0mlen\u001b[0m\u001b[0;34m(\u001b[0m\u001b[0mself\u001b[0m\u001b[0;34m)\u001b[0m \u001b[0;34m>\u001b[0m \u001b[0;36m0\u001b[0m \u001b[0;32mand\u001b[0m \u001b[0;34m(\u001b[0m\u001b[0mself\u001b[0m\u001b[0;34m.\u001b[0m\u001b[0mholds_integer\u001b[0m\u001b[0;34m(\u001b[0m\u001b[0;34m)\u001b[0m \u001b[0;32mor\u001b[0m \u001b[0mself\u001b[0m\u001b[0;34m.\u001b[0m\u001b[0mis_boolean\u001b[0m\u001b[0;34m(\u001b[0m\u001b[0;34m)\u001b[0m\u001b[0;34m)\u001b[0m\u001b[0;34m:\u001b[0m\u001b[0;34m\u001b[0m\u001b[0;34m\u001b[0m\u001b[0m\n",
            "\u001b[0;32mpandas/_libs/index.pyx\u001b[0m in \u001b[0;36mpandas._libs.index.IndexEngine.get_value\u001b[0;34m()\u001b[0m\n",
            "\u001b[0;32mpandas/_libs/index.pyx\u001b[0m in \u001b[0;36mpandas._libs.index.IndexEngine.get_value\u001b[0;34m()\u001b[0m\n",
            "\u001b[0;32mpandas/_libs/index.pyx\u001b[0m in \u001b[0;36mpandas._libs.index.IndexEngine.get_loc\u001b[0;34m()\u001b[0m\n",
            "\u001b[0;32mpandas/_libs/index_class_helper.pxi\u001b[0m in \u001b[0;36mpandas._libs.index.Int64Engine._check_type\u001b[0;34m()\u001b[0m\n",
            "\u001b[0;31mKeyError\u001b[0m: 'txn_description'"
          ]
        }
      ]
    },
    {
      "cell_type": "code",
      "metadata": {
        "id": "CTewa_P4TE5Z",
        "colab_type": "code",
        "colab": {}
      },
      "source": [
        ""
      ],
      "execution_count": 0,
      "outputs": []
    },
    {
      "cell_type": "code",
      "metadata": {
        "id": "DuvLmr9VDtw8",
        "colab_type": "code",
        "colab": {}
      },
      "source": [
        "def sal_count(df,colname):\n",
        "  # Initialize an empty dictionary: langs_count\n",
        "  salary_count = {}\n",
        "    \n",
        "  # Extract column from DataFrame: col\n",
        "  col = df[colname]\n",
        "  \n",
        "  # Iterate over lang column in DataFrame\n",
        "  for entry in col:\n",
        "\n",
        "      # If the language is in langs_count, add 1\n",
        "      if entry in salary_count.keys():\n",
        "          salary_count[entry]+=1\n",
        "      # Else add the language to langs_count, set the value to 1\n",
        "      else:\n",
        "          salary_count[entry]=1\n",
        "\n",
        "  # Return the langs_count dictionary\n",
        "  return salary_count"
      ],
      "execution_count": 0,
      "outputs": []
    },
    {
      "cell_type": "code",
      "metadata": {
        "id": "KfMhH6vfE-_k",
        "colab_type": "code",
        "colab": {}
      },
      "source": [
        "sal_count(df,'months')"
      ],
      "execution_count": 0,
      "outputs": []
    },
    {
      "cell_type": "code",
      "metadata": {
        "id": "3qzkXnhfUPXP",
        "colab_type": "code",
        "outputId": "e2701612-ffd2-4678-94e6-6150691b0698",
        "colab": {
          "base_uri": "https://localhost:8080/",
          "height": 402
        }
      },
      "source": [
        "data[['customer_id','gender']].drop_duplicates('customer_id')"
      ],
      "execution_count": 0,
      "outputs": [
        {
          "output_type": "execute_result",
          "data": {
            "text/html": [
              "<div>\n",
              "<style scoped>\n",
              "    .dataframe tbody tr th:only-of-type {\n",
              "        vertical-align: middle;\n",
              "    }\n",
              "\n",
              "    .dataframe tbody tr th {\n",
              "        vertical-align: top;\n",
              "    }\n",
              "\n",
              "    .dataframe thead th {\n",
              "        text-align: right;\n",
              "    }\n",
              "</style>\n",
              "<table border=\"1\" class=\"dataframe\">\n",
              "  <thead>\n",
              "    <tr style=\"text-align: right;\">\n",
              "      <th></th>\n",
              "      <th>customer_id</th>\n",
              "      <th>gender</th>\n",
              "    </tr>\n",
              "  </thead>\n",
              "  <tbody>\n",
              "    <tr>\n",
              "      <th>0</th>\n",
              "      <td>CUS-2487424745</td>\n",
              "      <td>F</td>\n",
              "    </tr>\n",
              "    <tr>\n",
              "      <th>2</th>\n",
              "      <td>CUS-2142601169</td>\n",
              "      <td>M</td>\n",
              "    </tr>\n",
              "    <tr>\n",
              "      <th>3</th>\n",
              "      <td>CUS-1614226872</td>\n",
              "      <td>F</td>\n",
              "    </tr>\n",
              "    <tr>\n",
              "      <th>5</th>\n",
              "      <td>CUS-2688605418</td>\n",
              "      <td>M</td>\n",
              "    </tr>\n",
              "    <tr>\n",
              "      <th>6</th>\n",
              "      <td>CUS-4123612273</td>\n",
              "      <td>F</td>\n",
              "    </tr>\n",
              "    <tr>\n",
              "      <th>...</th>\n",
              "      <td>...</td>\n",
              "      <td>...</td>\n",
              "    </tr>\n",
              "    <tr>\n",
              "      <th>386</th>\n",
              "      <td>CUS-2819545904</td>\n",
              "      <td>M</td>\n",
              "    </tr>\n",
              "    <tr>\n",
              "      <th>450</th>\n",
              "      <td>CUS-3395687666</td>\n",
              "      <td>M</td>\n",
              "    </tr>\n",
              "    <tr>\n",
              "      <th>702</th>\n",
              "      <td>CUS-1147642491</td>\n",
              "      <td>F</td>\n",
              "    </tr>\n",
              "    <tr>\n",
              "      <th>706</th>\n",
              "      <td>CUS-261674136</td>\n",
              "      <td>M</td>\n",
              "    </tr>\n",
              "    <tr>\n",
              "      <th>12043</th>\n",
              "      <td>CUS-0000000</td>\n",
              "      <td>M</td>\n",
              "    </tr>\n",
              "  </tbody>\n",
              "</table>\n",
              "<p>101 rows × 2 columns</p>\n",
              "</div>"
            ],
            "text/plain": [
              "          customer_id gender\n",
              "0      CUS-2487424745      F\n",
              "2      CUS-2142601169      M\n",
              "3      CUS-1614226872      F\n",
              "5      CUS-2688605418      M\n",
              "6      CUS-4123612273      F\n",
              "...               ...    ...\n",
              "386    CUS-2819545904      M\n",
              "450    CUS-3395687666      M\n",
              "702    CUS-1147642491      F\n",
              "706     CUS-261674136      M\n",
              "12043     CUS-0000000      M\n",
              "\n",
              "[101 rows x 2 columns]"
            ]
          },
          "metadata": {
            "tags": []
          },
          "execution_count": 32
        }
      ]
    },
    {
      "cell_type": "code",
      "metadata": {
        "id": "MOvPgEhZTF_-",
        "colab_type": "code",
        "colab": {}
      },
      "source": [
        "merged_df=d.merge(data[['customer_id','gender']].drop_duplicates('customer_id'),on='customer_id',how='right')"
      ],
      "execution_count": 0,
      "outputs": []
    },
    {
      "cell_type": "code",
      "metadata": {
        "id": "HSMG-vTWTRw5",
        "colab_type": "code",
        "colab": {}
      },
      "source": [
        "merged_df.dropna(inplace=True)"
      ],
      "execution_count": 0,
      "outputs": []
    },
    {
      "cell_type": "code",
      "metadata": {
        "id": "LAgXshnzVB4m",
        "colab_type": "code",
        "outputId": "fab23439-3ba2-4cc8-ed20-457dd8f1f7e3",
        "colab": {
          "base_uri": "https://localhost:8080/",
          "height": 34
        }
      },
      "source": [
        "merged_df.shape"
      ],
      "execution_count": 0,
      "outputs": [
        {
          "output_type": "execute_result",
          "data": {
            "text/plain": [
              "(100, 6)"
            ]
          },
          "metadata": {
            "tags": []
          },
          "execution_count": 35
        }
      ]
    },
    {
      "cell_type": "code",
      "metadata": {
        "id": "KNh4YlfbVWf1",
        "colab_type": "code",
        "colab": {}
      },
      "source": [
        "merged_df['pay_type']=list(map(lambda x:'Biweekly' if x==2 else 'Weekly',merged_df['txn_description']))"
      ],
      "execution_count": 0,
      "outputs": []
    },
    {
      "cell_type": "code",
      "metadata": {
        "id": "EdArn8JSoXhk",
        "colab_type": "code",
        "outputId": "68b01b28-f1fc-44e4-fba4-65b09c1a3ad9",
        "colab": {
          "base_uri": "https://localhost:8080/",
          "height": 431
        }
      },
      "source": [
        "merged_df.set_index('customer_id')"
      ],
      "execution_count": 0,
      "outputs": [
        {
          "output_type": "execute_result",
          "data": {
            "text/html": [
              "<div>\n",
              "<style scoped>\n",
              "    .dataframe tbody tr th:only-of-type {\n",
              "        vertical-align: middle;\n",
              "    }\n",
              "\n",
              "    .dataframe tbody tr th {\n",
              "        vertical-align: top;\n",
              "    }\n",
              "\n",
              "    .dataframe thead th {\n",
              "        text-align: right;\n",
              "    }\n",
              "</style>\n",
              "<table border=\"1\" class=\"dataframe\">\n",
              "  <thead>\n",
              "    <tr style=\"text-align: right;\">\n",
              "      <th></th>\n",
              "      <th>txn_description</th>\n",
              "      <th>amount</th>\n",
              "      <th>age</th>\n",
              "      <th>annual_salary</th>\n",
              "      <th>gender</th>\n",
              "      <th>pay_type</th>\n",
              "    </tr>\n",
              "    <tr>\n",
              "      <th>customer_id</th>\n",
              "      <th></th>\n",
              "      <th></th>\n",
              "      <th></th>\n",
              "      <th></th>\n",
              "      <th></th>\n",
              "      <th></th>\n",
              "    </tr>\n",
              "  </thead>\n",
              "  <tbody>\n",
              "    <tr>\n",
              "      <th>CUS-1005756958</th>\n",
              "      <td>4.0</td>\n",
              "      <td>970.47</td>\n",
              "      <td>53.0</td>\n",
              "      <td>50464.44</td>\n",
              "      <td>F</td>\n",
              "      <td>Weekly</td>\n",
              "    </tr>\n",
              "    <tr>\n",
              "      <th>CUS-1117979751</th>\n",
              "      <td>2.0</td>\n",
              "      <td>3578.65</td>\n",
              "      <td>21.0</td>\n",
              "      <td>93044.90</td>\n",
              "      <td>M</td>\n",
              "      <td>Biweekly</td>\n",
              "    </tr>\n",
              "    <tr>\n",
              "      <th>CUS-1140341822</th>\n",
              "      <td>2.0</td>\n",
              "      <td>1916.51</td>\n",
              "      <td>28.0</td>\n",
              "      <td>49829.26</td>\n",
              "      <td>M</td>\n",
              "      <td>Biweekly</td>\n",
              "    </tr>\n",
              "    <tr>\n",
              "      <th>CUS-1147642491</th>\n",
              "      <td>4.0</td>\n",
              "      <td>1711.39</td>\n",
              "      <td>34.0</td>\n",
              "      <td>88992.28</td>\n",
              "      <td>F</td>\n",
              "      <td>Weekly</td>\n",
              "    </tr>\n",
              "    <tr>\n",
              "      <th>CUS-1196156254</th>\n",
              "      <td>2.0</td>\n",
              "      <td>3903.73</td>\n",
              "      <td>34.0</td>\n",
              "      <td>101496.98</td>\n",
              "      <td>F</td>\n",
              "      <td>Biweekly</td>\n",
              "    </tr>\n",
              "    <tr>\n",
              "      <th>...</th>\n",
              "      <td>...</td>\n",
              "      <td>...</td>\n",
              "      <td>...</td>\n",
              "      <td>...</td>\n",
              "      <td>...</td>\n",
              "      <td>...</td>\n",
              "    </tr>\n",
              "    <tr>\n",
              "      <th>CUS-72755508</th>\n",
              "      <td>4.0</td>\n",
              "      <td>725.32</td>\n",
              "      <td>35.0</td>\n",
              "      <td>37716.64</td>\n",
              "      <td>F</td>\n",
              "      <td>Weekly</td>\n",
              "    </tr>\n",
              "    <tr>\n",
              "      <th>CUS-809013380</th>\n",
              "      <td>4.0</td>\n",
              "      <td>1037.07</td>\n",
              "      <td>21.0</td>\n",
              "      <td>53927.64</td>\n",
              "      <td>F</td>\n",
              "      <td>Weekly</td>\n",
              "    </tr>\n",
              "    <tr>\n",
              "      <th>CUS-860700529</th>\n",
              "      <td>2.0</td>\n",
              "      <td>1808.62</td>\n",
              "      <td>30.0</td>\n",
              "      <td>47024.12</td>\n",
              "      <td>M</td>\n",
              "      <td>Biweekly</td>\n",
              "    </tr>\n",
              "    <tr>\n",
              "      <th>CUS-880898248</th>\n",
              "      <td>2.0</td>\n",
              "      <td>1433.98</td>\n",
              "      <td>26.0</td>\n",
              "      <td>37283.48</td>\n",
              "      <td>M</td>\n",
              "      <td>Biweekly</td>\n",
              "    </tr>\n",
              "    <tr>\n",
              "      <th>CUS-883482547</th>\n",
              "      <td>2.0</td>\n",
              "      <td>3977.46</td>\n",
              "      <td>19.0</td>\n",
              "      <td>103413.96</td>\n",
              "      <td>F</td>\n",
              "      <td>Biweekly</td>\n",
              "    </tr>\n",
              "  </tbody>\n",
              "</table>\n",
              "<p>100 rows × 6 columns</p>\n",
              "</div>"
            ],
            "text/plain": [
              "                txn_description   amount   age  annual_salary gender  pay_type\n",
              "customer_id                                                                   \n",
              "CUS-1005756958              4.0   970.47  53.0       50464.44      F    Weekly\n",
              "CUS-1117979751              2.0  3578.65  21.0       93044.90      M  Biweekly\n",
              "CUS-1140341822              2.0  1916.51  28.0       49829.26      M  Biweekly\n",
              "CUS-1147642491              4.0  1711.39  34.0       88992.28      F    Weekly\n",
              "CUS-1196156254              2.0  3903.73  34.0      101496.98      F  Biweekly\n",
              "...                         ...      ...   ...            ...    ...       ...\n",
              "CUS-72755508                4.0   725.32  35.0       37716.64      F    Weekly\n",
              "CUS-809013380               4.0  1037.07  21.0       53927.64      F    Weekly\n",
              "CUS-860700529               2.0  1808.62  30.0       47024.12      M  Biweekly\n",
              "CUS-880898248               2.0  1433.98  26.0       37283.48      M  Biweekly\n",
              "CUS-883482547               2.0  3977.46  19.0      103413.96      F  Biweekly\n",
              "\n",
              "[100 rows x 6 columns]"
            ]
          },
          "metadata": {
            "tags": []
          },
          "execution_count": 37
        }
      ]
    },
    {
      "cell_type": "code",
      "metadata": {
        "id": "_tnWoBumVDzs",
        "colab_type": "code",
        "outputId": "43aee434-e556-4246-8bbb-94a5a675a2f8",
        "colab": {
          "base_uri": "https://localhost:8080/",
          "height": 195
        }
      },
      "source": [
        "merged_df.head()"
      ],
      "execution_count": 0,
      "outputs": [
        {
          "output_type": "execute_result",
          "data": {
            "text/html": [
              "<div>\n",
              "<style scoped>\n",
              "    .dataframe tbody tr th:only-of-type {\n",
              "        vertical-align: middle;\n",
              "    }\n",
              "\n",
              "    .dataframe tbody tr th {\n",
              "        vertical-align: top;\n",
              "    }\n",
              "\n",
              "    .dataframe thead th {\n",
              "        text-align: right;\n",
              "    }\n",
              "</style>\n",
              "<table border=\"1\" class=\"dataframe\">\n",
              "  <thead>\n",
              "    <tr style=\"text-align: right;\">\n",
              "      <th></th>\n",
              "      <th>customer_id</th>\n",
              "      <th>txn_description</th>\n",
              "      <th>amount</th>\n",
              "      <th>age</th>\n",
              "      <th>annual_salary</th>\n",
              "      <th>gender</th>\n",
              "      <th>pay_type</th>\n",
              "    </tr>\n",
              "  </thead>\n",
              "  <tbody>\n",
              "    <tr>\n",
              "      <th>0</th>\n",
              "      <td>CUS-1005756958</td>\n",
              "      <td>4.0</td>\n",
              "      <td>970.47</td>\n",
              "      <td>53.0</td>\n",
              "      <td>50464.44</td>\n",
              "      <td>F</td>\n",
              "      <td>Weekly</td>\n",
              "    </tr>\n",
              "    <tr>\n",
              "      <th>1</th>\n",
              "      <td>CUS-1117979751</td>\n",
              "      <td>2.0</td>\n",
              "      <td>3578.65</td>\n",
              "      <td>21.0</td>\n",
              "      <td>93044.90</td>\n",
              "      <td>M</td>\n",
              "      <td>Biweekly</td>\n",
              "    </tr>\n",
              "    <tr>\n",
              "      <th>2</th>\n",
              "      <td>CUS-1140341822</td>\n",
              "      <td>2.0</td>\n",
              "      <td>1916.51</td>\n",
              "      <td>28.0</td>\n",
              "      <td>49829.26</td>\n",
              "      <td>M</td>\n",
              "      <td>Biweekly</td>\n",
              "    </tr>\n",
              "    <tr>\n",
              "      <th>3</th>\n",
              "      <td>CUS-1147642491</td>\n",
              "      <td>4.0</td>\n",
              "      <td>1711.39</td>\n",
              "      <td>34.0</td>\n",
              "      <td>88992.28</td>\n",
              "      <td>F</td>\n",
              "      <td>Weekly</td>\n",
              "    </tr>\n",
              "    <tr>\n",
              "      <th>4</th>\n",
              "      <td>CUS-1196156254</td>\n",
              "      <td>2.0</td>\n",
              "      <td>3903.73</td>\n",
              "      <td>34.0</td>\n",
              "      <td>101496.98</td>\n",
              "      <td>F</td>\n",
              "      <td>Biweekly</td>\n",
              "    </tr>\n",
              "  </tbody>\n",
              "</table>\n",
              "</div>"
            ],
            "text/plain": [
              "      customer_id  txn_description   amount  ...  annual_salary  gender  pay_type\n",
              "0  CUS-1005756958              4.0   970.47  ...       50464.44       F    Weekly\n",
              "1  CUS-1117979751              2.0  3578.65  ...       93044.90       M  Biweekly\n",
              "2  CUS-1140341822              2.0  1916.51  ...       49829.26       M  Biweekly\n",
              "3  CUS-1147642491              4.0  1711.39  ...       88992.28       F    Weekly\n",
              "4  CUS-1196156254              2.0  3903.73  ...      101496.98       F  Biweekly\n",
              "\n",
              "[5 rows x 7 columns]"
            ]
          },
          "metadata": {
            "tags": []
          },
          "execution_count": 39
        }
      ]
    },
    {
      "cell_type": "code",
      "metadata": {
        "id": "zseOskM_oMb7",
        "colab_type": "code",
        "outputId": "2947e107-06f1-4171-d63d-7eaec1a15964",
        "colab": {
          "base_uri": "https://localhost:8080/",
          "height": 1000
        }
      },
      "source": [
        "a_test['credit'].to_list()"
      ],
      "execution_count": 0,
      "outputs": [
        {
          "output_type": "execute_result",
          "data": {
            "text/plain": [
              "[13.0,\n",
              " 7.0,\n",
              " 6.0,\n",
              " 13.0,\n",
              " 7.0,\n",
              " 7.0,\n",
              " 12.0,\n",
              " 14.0,\n",
              " 13.0,\n",
              " 7.0,\n",
              " 7.0,\n",
              " 14.0,\n",
              " 7.0,\n",
              " 7.0,\n",
              " 6.0,\n",
              " 6.0,\n",
              " 6.0,\n",
              " 6.0,\n",
              " 13.0,\n",
              " 7.0,\n",
              " 14.0,\n",
              " 12.0,\n",
              " 14.0,\n",
              " 13.0,\n",
              " 13.0,\n",
              " 2.0,\n",
              " 7.0,\n",
              " 4.0,\n",
              " 13.0,\n",
              " 6.0,\n",
              " 6.0,\n",
              " 7.0,\n",
              " 13.0,\n",
              " 13.0,\n",
              " 6.0,\n",
              " 4.0,\n",
              " 13.0,\n",
              " 13.0,\n",
              " 2.0,\n",
              " 6.0,\n",
              " 6.0,\n",
              " 7.0,\n",
              " 6.0,\n",
              " 6.0,\n",
              " 5.0,\n",
              " 6.0,\n",
              " 14.0,\n",
              " 14.0,\n",
              " 13.0,\n",
              " 6.0,\n",
              " 7.0,\n",
              " 12.0,\n",
              " 13.0,\n",
              " 6.0,\n",
              " 6.0,\n",
              " 13.0,\n",
              " 13.0,\n",
              " 7.0,\n",
              " 7.0,\n",
              " 7.0,\n",
              " 6.0,\n",
              " 13.0,\n",
              " 13.0,\n",
              " 7.0,\n",
              " 6.0,\n",
              " 13.0,\n",
              " 12.0,\n",
              " 13.0,\n",
              " 7.0,\n",
              " 13.0,\n",
              " 14.0,\n",
              " 6.0,\n",
              " 13.0,\n",
              " 7.0,\n",
              " 13.0,\n",
              " 6.0,\n",
              " 6.0,\n",
              " 6.0,\n",
              " 6.0,\n",
              " 13.0,\n",
              " 6.0,\n",
              " 6.0,\n",
              " 7.0,\n",
              " 14.0,\n",
              " 7.0,\n",
              " 3.0,\n",
              " 13.0,\n",
              " 7.0,\n",
              " 2.0,\n",
              " 13.0,\n",
              " 2.0,\n",
              " 7.0,\n",
              " 7.0,\n",
              " 13.0,\n",
              " 6.0,\n",
              " 12.0,\n",
              " 13.0,\n",
              " 6.0,\n",
              " 6.0,\n",
              " 7.0]"
            ]
          },
          "metadata": {
            "tags": []
          },
          "execution_count": 40
        }
      ]
    },
    {
      "cell_type": "code",
      "metadata": {
        "id": "Z2QkuohIojZj",
        "colab_type": "code",
        "colab": {}
      },
      "source": [
        "merged_df['Credit']=a_test['credit'].to_list()"
      ],
      "execution_count": 0,
      "outputs": []
    },
    {
      "cell_type": "code",
      "metadata": {
        "id": "boGrzTTKpBSR",
        "colab_type": "code",
        "colab": {}
      },
      "source": [
        "merged_df['Debit']=a_test['debit'].to_list()"
      ],
      "execution_count": 0,
      "outputs": []
    },
    {
      "cell_type": "code",
      "metadata": {
        "id": "TL-o1GxwnqBM",
        "colab_type": "code",
        "colab": {}
      },
      "source": [
        "mergerd_df=pd.concat([merged_df,a_test],axis='columns')"
      ],
      "execution_count": 0,
      "outputs": []
    },
    {
      "cell_type": "code",
      "metadata": {
        "id": "CWVrs83coEb6",
        "colab_type": "code",
        "outputId": "a5ab2e70-a02b-40d2-d2e3-f4e7de224732",
        "colab": {
          "base_uri": "https://localhost:8080/",
          "height": 195
        }
      },
      "source": [
        "mergerd_df.head()"
      ],
      "execution_count": 0,
      "outputs": [
        {
          "output_type": "execute_result",
          "data": {
            "text/html": [
              "<div>\n",
              "<style scoped>\n",
              "    .dataframe tbody tr th:only-of-type {\n",
              "        vertical-align: middle;\n",
              "    }\n",
              "\n",
              "    .dataframe tbody tr th {\n",
              "        vertical-align: top;\n",
              "    }\n",
              "\n",
              "    .dataframe thead th {\n",
              "        text-align: right;\n",
              "    }\n",
              "</style>\n",
              "<table border=\"1\" class=\"dataframe\">\n",
              "  <thead>\n",
              "    <tr style=\"text-align: right;\">\n",
              "      <th></th>\n",
              "      <th>customer_id</th>\n",
              "      <th>txn_description</th>\n",
              "      <th>amount</th>\n",
              "      <th>age</th>\n",
              "      <th>annual_salary</th>\n",
              "      <th>gender</th>\n",
              "      <th>pay_type</th>\n",
              "      <th>Credit</th>\n",
              "      <th>Debit</th>\n",
              "      <th>credit</th>\n",
              "      <th>debit</th>\n",
              "    </tr>\n",
              "  </thead>\n",
              "  <tbody>\n",
              "    <tr>\n",
              "      <th>0</th>\n",
              "      <td>CUS-1005756958</td>\n",
              "      <td>4.0</td>\n",
              "      <td>970.47</td>\n",
              "      <td>53.0</td>\n",
              "      <td>50464.44</td>\n",
              "      <td>F</td>\n",
              "      <td>Weekly</td>\n",
              "      <td>13.0</td>\n",
              "      <td>60.0</td>\n",
              "      <td>NaN</td>\n",
              "      <td>NaN</td>\n",
              "    </tr>\n",
              "    <tr>\n",
              "      <th>1</th>\n",
              "      <td>CUS-1117979751</td>\n",
              "      <td>2.0</td>\n",
              "      <td>3578.65</td>\n",
              "      <td>21.0</td>\n",
              "      <td>93044.90</td>\n",
              "      <td>M</td>\n",
              "      <td>Biweekly</td>\n",
              "      <td>7.0</td>\n",
              "      <td>93.0</td>\n",
              "      <td>NaN</td>\n",
              "      <td>NaN</td>\n",
              "    </tr>\n",
              "    <tr>\n",
              "      <th>2</th>\n",
              "      <td>CUS-1140341822</td>\n",
              "      <td>2.0</td>\n",
              "      <td>1916.51</td>\n",
              "      <td>28.0</td>\n",
              "      <td>49829.26</td>\n",
              "      <td>M</td>\n",
              "      <td>Biweekly</td>\n",
              "      <td>6.0</td>\n",
              "      <td>74.0</td>\n",
              "      <td>NaN</td>\n",
              "      <td>NaN</td>\n",
              "    </tr>\n",
              "    <tr>\n",
              "      <th>3</th>\n",
              "      <td>CUS-1147642491</td>\n",
              "      <td>4.0</td>\n",
              "      <td>1711.39</td>\n",
              "      <td>34.0</td>\n",
              "      <td>88992.28</td>\n",
              "      <td>F</td>\n",
              "      <td>Weekly</td>\n",
              "      <td>13.0</td>\n",
              "      <td>105.0</td>\n",
              "      <td>NaN</td>\n",
              "      <td>NaN</td>\n",
              "    </tr>\n",
              "    <tr>\n",
              "      <th>4</th>\n",
              "      <td>CUS-1196156254</td>\n",
              "      <td>2.0</td>\n",
              "      <td>3903.73</td>\n",
              "      <td>34.0</td>\n",
              "      <td>101496.98</td>\n",
              "      <td>F</td>\n",
              "      <td>Biweekly</td>\n",
              "      <td>7.0</td>\n",
              "      <td>238.0</td>\n",
              "      <td>NaN</td>\n",
              "      <td>NaN</td>\n",
              "    </tr>\n",
              "  </tbody>\n",
              "</table>\n",
              "</div>"
            ],
            "text/plain": [
              "      customer_id  txn_description   amount   age  ...  Credit  Debit credit  debit\n",
              "0  CUS-1005756958              4.0   970.47  53.0  ...    13.0   60.0    NaN    NaN\n",
              "1  CUS-1117979751              2.0  3578.65  21.0  ...     7.0   93.0    NaN    NaN\n",
              "2  CUS-1140341822              2.0  1916.51  28.0  ...     6.0   74.0    NaN    NaN\n",
              "3  CUS-1147642491              4.0  1711.39  34.0  ...    13.0  105.0    NaN    NaN\n",
              "4  CUS-1196156254              2.0  3903.73  34.0  ...     7.0  238.0    NaN    NaN\n",
              "\n",
              "[5 rows x 11 columns]"
            ]
          },
          "metadata": {
            "tags": []
          },
          "execution_count": 44
        }
      ]
    },
    {
      "cell_type": "code",
      "metadata": {
        "id": "PE7hiHa069BD",
        "colab_type": "code",
        "colab": {}
      },
      "source": [
        "pmf_age=PMF.from_seq(merged_df['age'],normalize=True)"
      ],
      "execution_count": 0,
      "outputs": []
    },
    {
      "cell_type": "code",
      "metadata": {
        "id": "Vv60brs17o9J",
        "colab_type": "code",
        "colab": {}
      },
      "source": [
        "pmf_age"
      ],
      "execution_count": 0,
      "outputs": []
    },
    {
      "cell_type": "code",
      "metadata": {
        "id": "YJunm_gGEKN1",
        "colab_type": "code",
        "outputId": "fcdfca0a-e5dc-46ee-e140-90204eb90e5f",
        "colab": {
          "base_uri": "https://localhost:8080/",
          "height": 328,
          "referenced_widgets": [
            "e7b4002c4f7f42d48c0542cdea0009ea",
            "5c8ec1ee4e3c45ba850707b02b4f6017",
            "deaf0228b2f248aab6d316157b447a0a",
            "157c9a8591654df49de5f3b7b2f01c2c",
            "246f182214124d2092322175dc1c3274",
            "86c0e9383b2f4b5eb5859ab9995ed91b",
            "05459bb717ca418d9acf953b6884e4ee"
          ]
        }
      },
      "source": [
        "feature_desc={'amount':\"Per Paycheck\",\"age\":\"Age of Customer\",\"gender\":\"Gender\"}\n",
        "def plot(column):\n",
        "  sns.scatterplot(x=column,y='annual_salary',hue='pay_type',data=merged_df)\n",
        "  plt.xlabel(feature_desc[column])\n",
        "  plt.ylabel(\"Annual_Salary\")\n",
        "  plt.show()\n",
        "dropdown_menu={v:k for k,v in feature_desc.items()}\n",
        "widgets.interact(plot,column=dropdown_menu)"
      ],
      "execution_count": 0,
      "outputs": [
        {
          "output_type": "display_data",
          "data": {
            "application/vnd.jupyter.widget-view+json": {
              "model_id": "e7b4002c4f7f42d48c0542cdea0009ea",
              "version_minor": 0,
              "version_major": 2
            },
            "text/plain": [
              "interactive(children=(Dropdown(description='column', options={'Per Paycheck': 'amount', 'Age of Customer': 'ag…"
            ]
          },
          "metadata": {
            "tags": []
          }
        },
        {
          "output_type": "execute_result",
          "data": {
            "text/plain": [
              "<function __main__.plot>"
            ]
          },
          "metadata": {
            "tags": []
          },
          "execution_count": 47
        }
      ]
    },
    {
      "cell_type": "code",
      "metadata": {
        "id": "R_yg_f3ZjoMM",
        "colab_type": "code",
        "outputId": "44ebaa22-1e2b-41c0-c0c8-670955f410ae",
        "colab": {
          "base_uri": "https://localhost:8080/",
          "height": 295
        }
      },
      "source": [
        "sns.violinplot(x='gender',y='annual_salary',data=merged_df)\n",
        "\n",
        "plt.title(\"A\")\n",
        "plt.show()"
      ],
      "execution_count": 0,
      "outputs": [
        {
          "output_type": "display_data",
          "data": {
            "image/png": "[encoded data removed]",
            "text/plain": [
              "<Figure size 432x288 with 1 Axes>"
            ]
          },
          "metadata": {
            "tags": [],
            "needs_background": "light"
          }
        }
      ]
    },
    {
      "cell_type": "code",
      "metadata": {
        "id": "ZyOFX0R-9qhv",
        "colab_type": "code",
        "outputId": "d1db0e02-359c-47fc-d897-cd02b833c8f6",
        "colab": {
          "base_uri": "https://localhost:8080/",
          "height": 542
        }
      },
      "source": [
        "import plotly.express as px\n",
        "\n",
        "df = merged_df\n",
        "fig = px.violin(df,x='gender', y=\"annual_salary\", box=True,color='gender')\n",
        "fig.show()"
      ],
      "execution_count": 0,
      "outputs": [
        {
          "output_type": "display_data",
          "data": {
            "text/html": [
              "<html>\n",
              "<head><meta charset=\"utf-8\" /></head>\n",
              "<body>\n",
              "    <div>\n",
              "            <script src=\"https://cdnjs.cloudflare.com/ajax/libs/mathjax/2.7.5/MathJax.js?config=TeX-AMS-MML_SVG\"></script><script type=\"text/javascript\">if (window.MathJax) {MathJax.Hub.Config({SVG: {font: \"STIX-Web\"}});}</script>\n",
              "                <script type=\"text/javascript\">window.PlotlyConfig = {MathJaxConfig: 'local'};</script>\n",
              "        <script src=\"https://cdn.plot.ly/plotly-latest.min.js\"></script>    \n",
              "            <div id=\"e1a0fc1c-5958-4a60-89f3-0ebdd632c324\" class=\"plotly-graph-div\" style=\"height:525px; width:100%;\"></div>\n",
              "            <script type=\"text/javascript\">\n",
              "                \n",
              "                    window.PLOTLYENV=window.PLOTLYENV || {};\n",
              "                    \n",
              "                if (document.getElementById(\"e1a0fc1c-5958-4a60-89f3-0ebdd632c324\")) {\n",
              "                    Plotly.newPlot(\n",
              "                        'e1a0fc1c-5958-4a60-89f3-0ebdd632c324',\n",
              "                        [{\"alignmentgroup\": \"True\", \"box\": {\"visible\": true}, \"hoverlabel\": {\"namelength\": 0}, \"hovertemplate\": \"gender=%{x}<br>annual_salary=%{y}\", \"legendgroup\": \"gender=F\", \"marker\": {\"color\": \"#636efa\"}, \"name\": \"gender=F\", \"offsetgroup\": \"gender=F\", \"orientation\": \"v\", \"scalegroup\": \"True\", \"showlegend\": true, \"type\": \"violin\", \"x\": [\"F\", \"F\", \"F\", \"F\", \"F\", \"F\", \"F\", \"F\", \"F\", \"F\", \"F\", \"F\", \"F\", \"F\", \"F\", \"F\", \"F\", \"F\", \"F\", \"F\", \"F\", \"F\", \"F\", \"F\", \"F\", \"F\", \"F\", \"F\", \"F\", \"F\", \"F\", \"F\", \"F\", \"F\", \"F\", \"F\", \"F\", \"F\", \"F\", \"F\", \"F\", \"F\", \"F\", \"F\"], \"x0\": \" \", \"xaxis\": \"x\", \"y\": [50464.44, 88992.28, 101496.98, 59341.36, 30111.9, 59217.08, 52615.68, 64231.7, 46388.68, 36282.74, 29952.0, 63717.159999999996, 126454.12, 39589.16, 64619.619999999995, 127048.47999999998, 40069.119999999995, 54639.26000000001, 132691.26, 26355.419999999995, 42288.48, 101221.64, 42389.36, 47876.92, 44873.4, 37361.48, 73843.90000000001, 95600.44, 59972.380000000005, 34550.36, 47921.64, 55111.67999999999, 39979.68, 66168.44, 27769.04, 91457.86, 96526.56, 127683.4, 109617.04, 85109.44, 50759.54, 37716.64, 53927.64, 103413.96], \"y0\": \" \", \"yaxis\": \"y\"}, {\"alignmentgroup\": \"True\", \"box\": {\"visible\": true}, \"hoverlabel\": {\"namelength\": 0}, \"hovertemplate\": \"gender=%{x}<br>annual_salary=%{y}\", \"legendgroup\": \"gender=M\", \"marker\": {\"color\": \"#EF553B\"}, \"name\": \"gender=M\", \"offsetgroup\": \"gender=M\", \"orientation\": \"v\", \"scalegroup\": \"True\", \"showlegend\": true, \"type\": \"violin\", \"x\": [\"M\", \"M\", \"M\", \"M\", \"M\", \"M\", \"M\", \"M\", \"M\", \"M\", \"M\", \"M\", \"M\", \"M\", \"M\", \"M\", \"M\", \"M\", \"M\", \"M\", \"M\", \"M\", \"M\", \"M\", \"M\", \"M\", \"M\", \"M\", \"M\", \"M\", \"M\", \"M\", \"M\", \"M\", \"M\", \"M\", \"M\", \"M\", \"M\", \"M\", \"M\", \"M\", \"M\", \"M\", \"M\", \"M\", \"M\", \"M\", \"M\", \"M\", \"M\", \"M\", \"M\", \"M\", \"M\", \"M\"], \"x0\": \" \", \"xaxis\": \"x\", \"y\": [93044.90000000001, 49829.26, 31009.160000000003, 98430.28, 27121.119999999995, 36610.08, 101502.7, 94887.26000000001, 65000.0, 74223.23999999999, 86548.02, 40685.84, 28571.660000000003, 79849.64, 229735.47999999998, 75070.84, 60025.42, 118578.72, 81130.40000000001, 75049.52, 78700.7, 52110.76, 158787.97999999998, 57686.98, 68633.76000000001, 56678.96, 42661.58, 114537.8, 105424.02, 60327.8, 47707.4, 132327.52000000002, 84012.76000000001, 70681.26000000001, 51804.48, 134576.52000000002, 45703.32, 72603.96, 47671.0, 97809.40000000001, 25567.36, 57184.4, 107437.97999999998, 45703.06, 50153.22, 83070.26000000001, 43721.08, 69884.09999999999, 66005.68, 51508.6, 68831.88, 51100.92, 156636.74, 66895.66, 47024.119999999995, 37283.48], \"y0\": \" \", \"yaxis\": \"y\"}],\n",
              "                        {\"legend\": {\"tracegroupgap\": 0}, \"margin\": {\"t\": 60}, \"template\": {\"data\": {\"bar\": [{\"error_x\": {\"color\": \"#2a3f5f\"}, \"error_y\": {\"color\": \"#2a3f5f\"}, \"marker\": {\"line\": {\"color\": \"#E5ECF6\", \"width\": 0.5}}, \"type\": \"bar\"}], \"barpolar\": [{\"marker\": {\"line\": {\"color\": \"#E5ECF6\", \"width\": 0.5}}, \"type\": \"barpolar\"}], \"carpet\": [{\"aaxis\": {\"endlinecolor\": \"#2a3f5f\", \"gridcolor\": \"white\", \"linecolor\": \"white\", \"minorgridcolor\": \"white\", \"startlinecolor\": \"#2a3f5f\"}, \"baxis\": {\"endlinecolor\": \"#2a3f5f\", \"gridcolor\": \"white\", \"linecolor\": \"white\", \"minorgridcolor\": \"white\", \"startlinecolor\": \"#2a3f5f\"}, \"type\": \"carpet\"}], \"choropleth\": [{\"colorbar\": {\"outlinewidth\": 0, \"ticks\": \"\"}, \"type\": \"choropleth\"}], \"contour\": [{\"colorbar\": {\"outlinewidth\": 0, \"ticks\": \"\"}, \"colorscale\": [[0.0, \"#0d0887\"], [0.1111111111111111, \"#46039f\"], [0.2222222222222222, \"#7201a8\"], [0.3333333333333333, \"#9c179e\"], [0.4444444444444444, \"#bd3786\"], [0.5555555555555556, \"#d8576b\"], [0.6666666666666666, \"#ed7953\"], [0.7777777777777778, \"#fb9f3a\"], [0.8888888888888888, \"#fdca26\"], [1.0, \"#f0f921\"]], \"type\": \"contour\"}], \"contourcarpet\": [{\"colorbar\": {\"outlinewidth\": 0, \"ticks\": \"\"}, \"type\": \"contourcarpet\"}], \"heatmap\": [{\"colorbar\": {\"outlinewidth\": 0, \"ticks\": \"\"}, \"colorscale\": [[0.0, \"#0d0887\"], [0.1111111111111111, \"#46039f\"], [0.2222222222222222, \"#7201a8\"], [0.3333333333333333, \"#9c179e\"], [0.4444444444444444, \"#bd3786\"], [0.5555555555555556, \"#d8576b\"], [0.6666666666666666, \"#ed7953\"], [0.7777777777777778, \"#fb9f3a\"], [0.8888888888888888, \"#fdca26\"], [1.0, \"#f0f921\"]], \"type\": \"heatmap\"}], \"heatmapgl\": [{\"colorbar\": {\"outlinewidth\": 0, \"ticks\": \"\"}, \"colorscale\": [[0.0, \"#0d0887\"], [0.1111111111111111, \"#46039f\"], [0.2222222222222222, \"#7201a8\"], [0.3333333333333333, \"#9c179e\"], [0.4444444444444444, \"#bd3786\"], [0.5555555555555556, \"#d8576b\"], [0.6666666666666666, \"#ed7953\"], [0.7777777777777778, \"#fb9f3a\"], [0.8888888888888888, \"#fdca26\"], [1.0, \"#f0f921\"]], \"type\": \"heatmapgl\"}], \"histogram\": [{\"marker\": {\"colorbar\": {\"outlinewidth\": 0, \"ticks\": \"\"}}, \"type\": \"histogram\"}], \"histogram2d\": [{\"colorbar\": {\"outlinewidth\": 0, \"ticks\": \"\"}, \"colorscale\": [[0.0, \"#0d0887\"], [0.1111111111111111, \"#46039f\"], [0.2222222222222222, \"#7201a8\"], [0.3333333333333333, \"#9c179e\"], [0.4444444444444444, \"#bd3786\"], [0.5555555555555556, \"#d8576b\"], [0.6666666666666666, \"#ed7953\"], [0.7777777777777778, \"#fb9f3a\"], [0.8888888888888888, \"#fdca26\"], [1.0, \"#f0f921\"]], \"type\": \"histogram2d\"}], \"histogram2dcontour\": [{\"colorbar\": {\"outlinewidth\": 0, \"ticks\": \"\"}, \"colorscale\": [[0.0, \"#0d0887\"], [0.1111111111111111, \"#46039f\"], [0.2222222222222222, \"#7201a8\"], [0.3333333333333333, \"#9c179e\"], [0.4444444444444444, \"#bd3786\"], [0.5555555555555556, \"#d8576b\"], [0.6666666666666666, \"#ed7953\"], [0.7777777777777778, \"#fb9f3a\"], [0.8888888888888888, \"#fdca26\"], [1.0, \"#f0f921\"]], \"type\": \"histogram2dcontour\"}], \"mesh3d\": [{\"colorbar\": {\"outlinewidth\": 0, \"ticks\": \"\"}, \"type\": \"mesh3d\"}], \"parcoords\": [{\"line\": {\"colorbar\": {\"outlinewidth\": 0, \"ticks\": \"\"}}, \"type\": \"parcoords\"}], \"pie\": [{\"automargin\": true, \"type\": \"pie\"}], \"scatter\": [{\"marker\": {\"colorbar\": {\"outlinewidth\": 0, \"ticks\": \"\"}}, \"type\": \"scatter\"}], \"scatter3d\": [{\"line\": {\"colorbar\": {\"outlinewidth\": 0, \"ticks\": \"\"}}, \"marker\": {\"colorbar\": {\"outlinewidth\": 0, \"ticks\": \"\"}}, \"type\": \"scatter3d\"}], \"scattercarpet\": [{\"marker\": {\"colorbar\": {\"outlinewidth\": 0, \"ticks\": \"\"}}, \"type\": \"scattercarpet\"}], \"scattergeo\": [{\"marker\": {\"colorbar\": {\"outlinewidth\": 0, \"ticks\": \"\"}}, \"type\": \"scattergeo\"}], \"scattergl\": [{\"marker\": {\"colorbar\": {\"outlinewidth\": 0, \"ticks\": \"\"}}, \"type\": \"scattergl\"}], \"scattermapbox\": [{\"marker\": {\"colorbar\": {\"outlinewidth\": 0, \"ticks\": \"\"}}, \"type\": \"scattermapbox\"}], \"scatterpolar\": [{\"marker\": {\"colorbar\": {\"outlinewidth\": 0, \"ticks\": \"\"}}, \"type\": \"scatterpolar\"}], \"scatterpolargl\": [{\"marker\": {\"colorbar\": {\"outlinewidth\": 0, \"ticks\": \"\"}}, \"type\": \"scatterpolargl\"}], \"scatterternary\": [{\"marker\": {\"colorbar\": {\"outlinewidth\": 0, \"ticks\": \"\"}}, \"type\": \"scatterternary\"}], \"surface\": [{\"colorbar\": {\"outlinewidth\": 0, \"ticks\": \"\"}, \"colorscale\": [[0.0, \"#0d0887\"], [0.1111111111111111, \"#46039f\"], [0.2222222222222222, \"#7201a8\"], [0.3333333333333333, \"#9c179e\"], [0.4444444444444444, \"#bd3786\"], [0.5555555555555556, \"#d8576b\"], [0.6666666666666666, \"#ed7953\"], [0.7777777777777778, \"#fb9f3a\"], [0.8888888888888888, \"#fdca26\"], [1.0, \"#f0f921\"]], \"type\": \"surface\"}], \"table\": [{\"cells\": {\"fill\": {\"color\": \"#EBF0F8\"}, \"line\": {\"color\": \"white\"}}, \"header\": {\"fill\": {\"color\": \"#C8D4E3\"}, \"line\": {\"color\": \"white\"}}, \"type\": \"table\"}]}, \"layout\": {\"annotationdefaults\": {\"arrowcolor\": \"#2a3f5f\", \"arrowhead\": 0, \"arrowwidth\": 1}, \"coloraxis\": {\"colorbar\": {\"outlinewidth\": 0, \"ticks\": \"\"}}, \"colorscale\": {\"diverging\": [[0, \"#8e0152\"], [0.1, \"#c51b7d\"], [0.2, \"#de77ae\"], [0.3, \"#f1b6da\"], [0.4, \"#fde0ef\"], [0.5, \"#f7f7f7\"], [0.6, \"#e6f5d0\"], [0.7, \"#b8e186\"], [0.8, \"#7fbc41\"], [0.9, \"#4d9221\"], [1, \"#276419\"]], \"sequential\": [[0.0, \"#0d0887\"], [0.1111111111111111, \"#46039f\"], [0.2222222222222222, \"#7201a8\"], [0.3333333333333333, \"#9c179e\"], [0.4444444444444444, \"#bd3786\"], [0.5555555555555556, \"#d8576b\"], [0.6666666666666666, \"#ed7953\"], [0.7777777777777778, \"#fb9f3a\"], [0.8888888888888888, \"#fdca26\"], [1.0, \"#f0f921\"]], \"sequentialminus\": [[0.0, \"#0d0887\"], [0.1111111111111111, \"#46039f\"], [0.2222222222222222, \"#7201a8\"], [0.3333333333333333, \"#9c179e\"], [0.4444444444444444, \"#bd3786\"], [0.5555555555555556, \"#d8576b\"], [0.6666666666666666, \"#ed7953\"], [0.7777777777777778, \"#fb9f3a\"], [0.8888888888888888, \"#fdca26\"], [1.0, \"#f0f921\"]]}, \"colorway\": [\"#636efa\", \"#EF553B\", \"#00cc96\", \"#ab63fa\", \"#FFA15A\", \"#19d3f3\", \"#FF6692\", \"#B6E880\", \"#FF97FF\", \"#FECB52\"], \"font\": {\"color\": \"#2a3f5f\"}, \"geo\": {\"bgcolor\": \"white\", \"lakecolor\": \"white\", \"landcolor\": \"#E5ECF6\", \"showlakes\": true, \"showland\": true, \"subunitcolor\": \"white\"}, \"hoverlabel\": {\"align\": \"left\"}, \"hovermode\": \"closest\", \"mapbox\": {\"style\": \"light\"}, \"paper_bgcolor\": \"white\", \"plot_bgcolor\": \"#E5ECF6\", \"polar\": {\"angularaxis\": {\"gridcolor\": \"white\", \"linecolor\": \"white\", \"ticks\": \"\"}, \"bgcolor\": \"#E5ECF6\", \"radialaxis\": {\"gridcolor\": \"white\", \"linecolor\": \"white\", \"ticks\": \"\"}}, \"scene\": {\"xaxis\": {\"backgroundcolor\": \"#E5ECF6\", \"gridcolor\": \"white\", \"gridwidth\": 2, \"linecolor\": \"white\", \"showbackground\": true, \"ticks\": \"\", \"zerolinecolor\": \"white\"}, \"yaxis\": {\"backgroundcolor\": \"#E5ECF6\", \"gridcolor\": \"white\", \"gridwidth\": 2, \"linecolor\": \"white\", \"showbackground\": true, \"ticks\": \"\", \"zerolinecolor\": \"white\"}, \"zaxis\": {\"backgroundcolor\": \"#E5ECF6\", \"gridcolor\": \"white\", \"gridwidth\": 2, \"linecolor\": \"white\", \"showbackground\": true, \"ticks\": \"\", \"zerolinecolor\": \"white\"}}, \"shapedefaults\": {\"line\": {\"color\": \"#2a3f5f\"}}, \"ternary\": {\"aaxis\": {\"gridcolor\": \"white\", \"linecolor\": \"white\", \"ticks\": \"\"}, \"baxis\": {\"gridcolor\": \"white\", \"linecolor\": \"white\", \"ticks\": \"\"}, \"bgcolor\": \"#E5ECF6\", \"caxis\": {\"gridcolor\": \"white\", \"linecolor\": \"white\", \"ticks\": \"\"}}, \"title\": {\"x\": 0.05}, \"xaxis\": {\"automargin\": true, \"gridcolor\": \"white\", \"linecolor\": \"white\", \"ticks\": \"\", \"title\": {\"standoff\": 15}, \"zerolinecolor\": \"white\", \"zerolinewidth\": 2}, \"yaxis\": {\"automargin\": true, \"gridcolor\": \"white\", \"linecolor\": \"white\", \"ticks\": \"\", \"title\": {\"standoff\": 15}, \"zerolinecolor\": \"white\", \"zerolinewidth\": 2}}}, \"violinmode\": \"group\", \"xaxis\": {\"anchor\": \"y\", \"categoryarray\": [\"F\", \"M\"], \"categoryorder\": \"array\", \"domain\": [0.0, 1.0], \"title\": {\"text\": \"gender\"}}, \"yaxis\": {\"anchor\": \"x\", \"domain\": [0.0, 1.0], \"title\": {\"text\": \"annual_salary\"}}},\n",
              "                        {\"responsive\": true}\n",
              "                    ).then(function(){\n",
              "                            \n",
              "var gd = document.getElementById('e1a0fc1c-5958-4a60-89f3-0ebdd632c324');\n",
              "var x = new MutationObserver(function (mutations, observer) {{\n",
              "        var display = window.getComputedStyle(gd).display;\n",
              "        if (!display || display === 'none') {{\n",
              "            console.log([gd, 'removed!']);\n",
              "            Plotly.purge(gd);\n",
              "            observer.disconnect();\n",
              "        }}\n",
              "}});\n",
              "\n",
              "// Listen for the removal of the full notebook cells\n",
              "var notebookContainer = gd.closest('#notebook-container');\n",
              "if (notebookContainer) {{\n",
              "    x.observe(notebookContainer, {childList: true});\n",
              "}}\n",
              "\n",
              "// Listen for the clearing of the current output cell\n",
              "var outputEl = gd.closest('.output');\n",
              "if (outputEl) {{\n",
              "    x.observe(outputEl, {childList: true});\n",
              "}}\n",
              "\n",
              "                        })\n",
              "                };\n",
              "                \n",
              "            </script>\n",
              "        </div>\n",
              "</body>\n",
              "</html>"
            ]
          },
          "metadata": {
            "tags": []
          }
        }
      ]
    },
    {
      "cell_type": "code",
      "metadata": {
        "id": "fT7fzBioq9pr",
        "colab_type": "code",
        "colab": {}
      },
      "source": [
        "data.set_index('date',inplace=True)"
      ],
      "execution_count": 0,
      "outputs": []
    },
    {
      "cell_type": "code",
      "metadata": {
        "id": "wq0A3z24q9m_",
        "colab_type": "code",
        "colab": {}
      },
      "source": [
        "credit=data[data['movement']=='credit'].amount.resample('M').sum()"
      ],
      "execution_count": 0,
      "outputs": []
    },
    {
      "cell_type": "code",
      "metadata": {
        "id": "xm60qQ9p3RVQ",
        "colab_type": "code",
        "outputId": "f8416b67-37fc-4d7d-c7ab-a104aa84f3bf",
        "colab": {
          "base_uri": "https://localhost:8080/",
          "height": 431
        }
      },
      "source": [
        ""
      ],
      "execution_count": 0,
      "outputs": [
        {
          "output_type": "execute_result",
          "data": {
            "text/html": [
              "<div>\n",
              "<style scoped>\n",
              "    .dataframe tbody tr th:only-of-type {\n",
              "        vertical-align: middle;\n",
              "    }\n",
              "\n",
              "    .dataframe tbody tr th {\n",
              "        vertical-align: top;\n",
              "    }\n",
              "\n",
              "    .dataframe thead th {\n",
              "        text-align: right;\n",
              "    }\n",
              "</style>\n",
              "<table border=\"1\" class=\"dataframe\">\n",
              "  <thead>\n",
              "    <tr style=\"text-align: right;\">\n",
              "      <th>movement</th>\n",
              "      <th>credit</th>\n",
              "      <th>debit</th>\n",
              "    </tr>\n",
              "    <tr>\n",
              "      <th>date</th>\n",
              "      <th></th>\n",
              "      <th></th>\n",
              "    </tr>\n",
              "  </thead>\n",
              "  <tbody>\n",
              "    <tr>\n",
              "      <th>2018-08-01</th>\n",
              "      <td>1870.884615</td>\n",
              "      <td>44.729355</td>\n",
              "    </tr>\n",
              "    <tr>\n",
              "      <th>2018-08-02</th>\n",
              "      <td>1422.823000</td>\n",
              "      <td>53.225986</td>\n",
              "    </tr>\n",
              "    <tr>\n",
              "      <th>2018-08-03</th>\n",
              "      <td>2004.045333</td>\n",
              "      <td>56.590845</td>\n",
              "    </tr>\n",
              "    <tr>\n",
              "      <th>2018-08-04</th>\n",
              "      <td>NaN</td>\n",
              "      <td>53.356356</td>\n",
              "    </tr>\n",
              "    <tr>\n",
              "      <th>2018-08-05</th>\n",
              "      <td>NaN</td>\n",
              "      <td>44.265000</td>\n",
              "    </tr>\n",
              "    <tr>\n",
              "      <th>...</th>\n",
              "      <td>...</td>\n",
              "      <td>...</td>\n",
              "    </tr>\n",
              "    <tr>\n",
              "      <th>2018-10-27</th>\n",
              "      <td>NaN</td>\n",
              "      <td>50.155252</td>\n",
              "    </tr>\n",
              "    <tr>\n",
              "      <th>2018-10-28</th>\n",
              "      <td>NaN</td>\n",
              "      <td>59.007762</td>\n",
              "    </tr>\n",
              "    <tr>\n",
              "      <th>2018-10-29</th>\n",
              "      <td>2251.872500</td>\n",
              "      <td>29.292791</td>\n",
              "    </tr>\n",
              "    <tr>\n",
              "      <th>2018-10-30</th>\n",
              "      <td>1664.418333</td>\n",
              "      <td>27.134026</td>\n",
              "    </tr>\n",
              "    <tr>\n",
              "      <th>2018-10-31</th>\n",
              "      <td>1528.998182</td>\n",
              "      <td>7672.879008</td>\n",
              "    </tr>\n",
              "  </tbody>\n",
              "</table>\n",
              "<p>91 rows × 2 columns</p>\n",
              "</div>"
            ],
            "text/plain": [
              "movement         credit        debit\n",
              "date                                \n",
              "2018-08-01  1870.884615    44.729355\n",
              "2018-08-02  1422.823000    53.225986\n",
              "2018-08-03  2004.045333    56.590845\n",
              "2018-08-04          NaN    53.356356\n",
              "2018-08-05          NaN    44.265000\n",
              "...                 ...          ...\n",
              "2018-10-27          NaN    50.155252\n",
              "2018-10-28          NaN    59.007762\n",
              "2018-10-29  2251.872500    29.292791\n",
              "2018-10-30  1664.418333    27.134026\n",
              "2018-10-31  1528.998182  7672.879008\n",
              "\n",
              "[91 rows x 2 columns]"
            ]
          },
          "metadata": {
            "tags": []
          },
          "execution_count": 248
        }
      ]
    },
    {
      "cell_type": "code",
      "metadata": {
        "id": "9azK_S-SsO5k",
        "colab_type": "code",
        "colab": {}
      },
      "source": [
        "ez_mean=data.groupby(['movement']).amount.resample('M').mean().unstack('movement')"
      ],
      "execution_count": 0,
      "outputs": []
    },
    {
      "cell_type": "code",
      "metadata": {
        "id": "KrFDwi6-3iJr",
        "colab_type": "code",
        "colab": {}
      },
      "source": [
        "ez_sum=data.groupby(['movement']).amount.resample('M').sum().unstack('movement')"
      ],
      "execution_count": 0,
      "outputs": []
    },
    {
      "cell_type": "code",
      "metadata": {
        "id": "04CKlhGx32F9",
        "colab_type": "code",
        "colab": {}
      },
      "source": [
        "ez_median=data.groupby(['movement']).amount.resample('M').median().unstack('movement')"
      ],
      "execution_count": 0,
      "outputs": []
    },
    {
      "cell_type": "code",
      "metadata": {
        "id": "3yMvgHC_4JaN",
        "colab_type": "code",
        "outputId": "48029127-2725-4aa1-da6a-d933ab1a97a7",
        "colab": {
          "base_uri": "https://localhost:8080/",
          "height": 34
        }
      },
      "source": [
        "type(ez_sum)"
      ],
      "execution_count": 0,
      "outputs": [
        {
          "output_type": "execute_result",
          "data": {
            "text/plain": [
              "pandas.core.frame.DataFrame"
            ]
          },
          "metadata": {
            "tags": []
          },
          "execution_count": 62
        }
      ]
    },
    {
      "cell_type": "code",
      "metadata": {
        "id": "zttCdOJYCj8w",
        "colab_type": "code",
        "colab": {}
      },
      "source": [
        "a=ez_sum.index"
      ],
      "execution_count": 0,
      "outputs": []
    },
    {
      "cell_type": "code",
      "metadata": {
        "id": "gfmphUImCqYO",
        "colab_type": "code",
        "colab": {}
      },
      "source": [
        "c=ez_sum['credit']\n",
        "d=ez_sum['debit']"
      ],
      "execution_count": 0,
      "outputs": []
    },
    {
      "cell_type": "code",
      "metadata": {
        "id": "XvBH6H8lEIB_",
        "colab_type": "code",
        "outputId": "69019095-d747-45ee-b49b-7f25ce79d8a8",
        "colab": {
          "base_uri": "https://localhost:8080/",
          "height": 34
        }
      },
      "source": [
        "ez_sum.index"
      ],
      "execution_count": 0,
      "outputs": [
        {
          "output_type": "execute_result",
          "data": {
            "text/plain": [
              "DatetimeIndex(['2018-08-31', '2018-09-30', '2018-10-31'], dtype='datetime64[ns]', name='date', freq='M')"
            ]
          },
          "metadata": {
            "tags": []
          },
          "execution_count": 86
        }
      ]
    },
    {
      "cell_type": "code",
      "metadata": {
        "id": "wXQbNFVRAD1s",
        "colab_type": "code",
        "outputId": "bb79eab2-cce5-4c85-c238-80fb5d3d8166",
        "colab": {
          "base_uri": "https://localhost:8080/",
          "height": 542
        }
      },
      "source": [
        "import plotly.graph_objects as go\n",
        "\n",
        "fig = go.Figure(data=[\n",
        "    go.Bar(name='credit', x=ez_sum.index, y=ez_sum['credit']),\n",
        "    go.Bar(name='debit', x=ez_sum.index, y=ez_sum['debit'])\n",
        "])\n",
        "# Change the bar mode\n",
        "fig.update_layout(barmode='group')\n",
        "fig.show()"
      ],
      "execution_count": 0,
      "outputs": [
        {
          "output_type": "display_data",
          "data": {
            "text/html": [
              "<html>\n",
              "<head><meta charset=\"utf-8\" /></head>\n",
              "<body>\n",
              "    <div>\n",
              "            <script src=\"https://cdnjs.cloudflare.com/ajax/libs/mathjax/2.7.5/MathJax.js?config=TeX-AMS-MML_SVG\"></script><script type=\"text/javascript\">if (window.MathJax) {MathJax.Hub.Config({SVG: {font: \"STIX-Web\"}});}</script>\n",
              "                <script type=\"text/javascript\">window.PlotlyConfig = {MathJaxConfig: 'local'};</script>\n",
              "        <script src=\"https://cdn.plot.ly/plotly-latest.min.js\"></script>    \n",
              "            <div id=\"b8084b16-4b76-47a8-a7b9-7fa47c8d6ec3\" class=\"plotly-graph-div\" style=\"height:525px; width:100%;\"></div>\n",
              "            <script type=\"text/javascript\">\n",
              "                \n",
              "                    window.PLOTLYENV=window.PLOTLYENV || {};\n",
              "                    \n",
              "                if (document.getElementById(\"b8084b16-4b76-47a8-a7b9-7fa47c8d6ec3\")) {\n",
              "                    Plotly.newPlot(\n",
              "                        'b8084b16-4b76-47a8-a7b9-7fa47c8d6ec3',\n",
              "                        [{\"name\": \"credit\", \"type\": \"bar\", \"x\": [\"2018-08-31T00:00:00\", \"2018-09-30T00:00:00\", \"2018-10-31T00:00:00\"], \"y\": [559814.33, 516595.6099999999, 600166.9099999998]}, {\"name\": \"debit\", \"type\": \"bar\", \"x\": [\"2018-08-31T00:00:00\", \"2018-09-30T00:00:00\", \"2018-10-31T00:00:00\"], \"y\": [170121.1899999999, 213954.6000000004, 1202630.5600000003]}],\n",
              "                        {\"barmode\": \"group\", \"template\": {\"data\": {\"bar\": [{\"error_x\": {\"color\": \"#2a3f5f\"}, \"error_y\": {\"color\": \"#2a3f5f\"}, \"marker\": {\"line\": {\"color\": \"#E5ECF6\", \"width\": 0.5}}, \"type\": \"bar\"}], \"barpolar\": [{\"marker\": {\"line\": {\"color\": \"#E5ECF6\", \"width\": 0.5}}, \"type\": \"barpolar\"}], \"carpet\": [{\"aaxis\": {\"endlinecolor\": \"#2a3f5f\", \"gridcolor\": \"white\", \"linecolor\": \"white\", \"minorgridcolor\": \"white\", \"startlinecolor\": \"#2a3f5f\"}, \"baxis\": {\"endlinecolor\": \"#2a3f5f\", \"gridcolor\": \"white\", \"linecolor\": \"white\", \"minorgridcolor\": \"white\", \"startlinecolor\": \"#2a3f5f\"}, \"type\": \"carpet\"}], \"choropleth\": [{\"colorbar\": {\"outlinewidth\": 0, \"ticks\": \"\"}, \"type\": \"choropleth\"}], \"contour\": [{\"colorbar\": {\"outlinewidth\": 0, \"ticks\": \"\"}, \"colorscale\": [[0.0, \"#0d0887\"], [0.1111111111111111, \"#46039f\"], [0.2222222222222222, \"#7201a8\"], [0.3333333333333333, \"#9c179e\"], [0.4444444444444444, \"#bd3786\"], [0.5555555555555556, \"#d8576b\"], [0.6666666666666666, \"#ed7953\"], [0.7777777777777778, \"#fb9f3a\"], [0.8888888888888888, \"#fdca26\"], [1.0, \"#f0f921\"]], \"type\": \"contour\"}], \"contourcarpet\": [{\"colorbar\": {\"outlinewidth\": 0, \"ticks\": \"\"}, \"type\": \"contourcarpet\"}], \"heatmap\": [{\"colorbar\": {\"outlinewidth\": 0, \"ticks\": \"\"}, \"colorscale\": [[0.0, \"#0d0887\"], [0.1111111111111111, \"#46039f\"], [0.2222222222222222, \"#7201a8\"], [0.3333333333333333, \"#9c179e\"], [0.4444444444444444, \"#bd3786\"], [0.5555555555555556, \"#d8576b\"], [0.6666666666666666, \"#ed7953\"], [0.7777777777777778, \"#fb9f3a\"], [0.8888888888888888, \"#fdca26\"], [1.0, \"#f0f921\"]], \"type\": \"heatmap\"}], \"heatmapgl\": [{\"colorbar\": {\"outlinewidth\": 0, \"ticks\": \"\"}, \"colorscale\": [[0.0, \"#0d0887\"], [0.1111111111111111, \"#46039f\"], [0.2222222222222222, \"#7201a8\"], [0.3333333333333333, \"#9c179e\"], [0.4444444444444444, \"#bd3786\"], [0.5555555555555556, \"#d8576b\"], [0.6666666666666666, \"#ed7953\"], [0.7777777777777778, \"#fb9f3a\"], [0.8888888888888888, \"#fdca26\"], [1.0, \"#f0f921\"]], \"type\": \"heatmapgl\"}], \"histogram\": [{\"marker\": {\"colorbar\": {\"outlinewidth\": 0, \"ticks\": \"\"}}, \"type\": \"histogram\"}], \"histogram2d\": [{\"colorbar\": {\"outlinewidth\": 0, \"ticks\": \"\"}, \"colorscale\": [[0.0, \"#0d0887\"], [0.1111111111111111, \"#46039f\"], [0.2222222222222222, \"#7201a8\"], [0.3333333333333333, \"#9c179e\"], [0.4444444444444444, \"#bd3786\"], [0.5555555555555556, \"#d8576b\"], [0.6666666666666666, \"#ed7953\"], [0.7777777777777778, \"#fb9f3a\"], [0.8888888888888888, \"#fdca26\"], [1.0, \"#f0f921\"]], \"type\": \"histogram2d\"}], \"histogram2dcontour\": [{\"colorbar\": {\"outlinewidth\": 0, \"ticks\": \"\"}, \"colorscale\": [[0.0, \"#0d0887\"], [0.1111111111111111, \"#46039f\"], [0.2222222222222222, \"#7201a8\"], [0.3333333333333333, \"#9c179e\"], [0.4444444444444444, \"#bd3786\"], [0.5555555555555556, \"#d8576b\"], [0.6666666666666666, \"#ed7953\"], [0.7777777777777778, \"#fb9f3a\"], [0.8888888888888888, \"#fdca26\"], [1.0, \"#f0f921\"]], \"type\": \"histogram2dcontour\"}], \"mesh3d\": [{\"colorbar\": {\"outlinewidth\": 0, \"ticks\": \"\"}, \"type\": \"mesh3d\"}], \"parcoords\": [{\"line\": {\"colorbar\": {\"outlinewidth\": 0, \"ticks\": \"\"}}, \"type\": \"parcoords\"}], \"pie\": [{\"automargin\": true, \"type\": \"pie\"}], \"scatter\": [{\"marker\": {\"colorbar\": {\"outlinewidth\": 0, \"ticks\": \"\"}}, \"type\": \"scatter\"}], \"scatter3d\": [{\"line\": {\"colorbar\": {\"outlinewidth\": 0, \"ticks\": \"\"}}, \"marker\": {\"colorbar\": {\"outlinewidth\": 0, \"ticks\": \"\"}}, \"type\": \"scatter3d\"}], \"scattercarpet\": [{\"marker\": {\"colorbar\": {\"outlinewidth\": 0, \"ticks\": \"\"}}, \"type\": \"scattercarpet\"}], \"scattergeo\": [{\"marker\": {\"colorbar\": {\"outlinewidth\": 0, \"ticks\": \"\"}}, \"type\": \"scattergeo\"}], \"scattergl\": [{\"marker\": {\"colorbar\": {\"outlinewidth\": 0, \"ticks\": \"\"}}, \"type\": \"scattergl\"}], \"scattermapbox\": [{\"marker\": {\"colorbar\": {\"outlinewidth\": 0, \"ticks\": \"\"}}, \"type\": \"scattermapbox\"}], \"scatterpolar\": [{\"marker\": {\"colorbar\": {\"outlinewidth\": 0, \"ticks\": \"\"}}, \"type\": \"scatterpolar\"}], \"scatterpolargl\": [{\"marker\": {\"colorbar\": {\"outlinewidth\": 0, \"ticks\": \"\"}}, \"type\": \"scatterpolargl\"}], \"scatterternary\": [{\"marker\": {\"colorbar\": {\"outlinewidth\": 0, \"ticks\": \"\"}}, \"type\": \"scatterternary\"}], \"surface\": [{\"colorbar\": {\"outlinewidth\": 0, \"ticks\": \"\"}, \"colorscale\": [[0.0, \"#0d0887\"], [0.1111111111111111, \"#46039f\"], [0.2222222222222222, \"#7201a8\"], [0.3333333333333333, \"#9c179e\"], [0.4444444444444444, \"#bd3786\"], [0.5555555555555556, \"#d8576b\"], [0.6666666666666666, \"#ed7953\"], [0.7777777777777778, \"#fb9f3a\"], [0.8888888888888888, \"#fdca26\"], [1.0, \"#f0f921\"]], \"type\": \"surface\"}], \"table\": [{\"cells\": {\"fill\": {\"color\": \"#EBF0F8\"}, \"line\": {\"color\": \"white\"}}, \"header\": {\"fill\": {\"color\": \"#C8D4E3\"}, \"line\": {\"color\": \"white\"}}, \"type\": \"table\"}]}, \"layout\": {\"annotationdefaults\": {\"arrowcolor\": \"#2a3f5f\", \"arrowhead\": 0, \"arrowwidth\": 1}, \"coloraxis\": {\"colorbar\": {\"outlinewidth\": 0, \"ticks\": \"\"}}, \"colorscale\": {\"diverging\": [[0, \"#8e0152\"], [0.1, \"#c51b7d\"], [0.2, \"#de77ae\"], [0.3, \"#f1b6da\"], [0.4, \"#fde0ef\"], [0.5, \"#f7f7f7\"], [0.6, \"#e6f5d0\"], [0.7, \"#b8e186\"], [0.8, \"#7fbc41\"], [0.9, \"#4d9221\"], [1, \"#276419\"]], \"sequential\": [[0.0, \"#0d0887\"], [0.1111111111111111, \"#46039f\"], [0.2222222222222222, \"#7201a8\"], [0.3333333333333333, \"#9c179e\"], [0.4444444444444444, \"#bd3786\"], [0.5555555555555556, \"#d8576b\"], [0.6666666666666666, \"#ed7953\"], [0.7777777777777778, \"#fb9f3a\"], [0.8888888888888888, \"#fdca26\"], [1.0, \"#f0f921\"]], \"sequentialminus\": [[0.0, \"#0d0887\"], [0.1111111111111111, \"#46039f\"], [0.2222222222222222, \"#7201a8\"], [0.3333333333333333, \"#9c179e\"], [0.4444444444444444, \"#bd3786\"], [0.5555555555555556, \"#d8576b\"], [0.6666666666666666, \"#ed7953\"], [0.7777777777777778, \"#fb9f3a\"], [0.8888888888888888, \"#fdca26\"], [1.0, \"#f0f921\"]]}, \"colorway\": [\"#636efa\", \"#EF553B\", \"#00cc96\", \"#ab63fa\", \"#FFA15A\", \"#19d3f3\", \"#FF6692\", \"#B6E880\", \"#FF97FF\", \"#FECB52\"], \"font\": {\"color\": \"#2a3f5f\"}, \"geo\": {\"bgcolor\": \"white\", \"lakecolor\": \"white\", \"landcolor\": \"#E5ECF6\", \"showlakes\": true, \"showland\": true, \"subunitcolor\": \"white\"}, \"hoverlabel\": {\"align\": \"left\"}, \"hovermode\": \"closest\", \"mapbox\": {\"style\": \"light\"}, \"paper_bgcolor\": \"white\", \"plot_bgcolor\": \"#E5ECF6\", \"polar\": {\"angularaxis\": {\"gridcolor\": \"white\", \"linecolor\": \"white\", \"ticks\": \"\"}, \"bgcolor\": \"#E5ECF6\", \"radialaxis\": {\"gridcolor\": \"white\", \"linecolor\": \"white\", \"ticks\": \"\"}}, \"scene\": {\"xaxis\": {\"backgroundcolor\": \"#E5ECF6\", \"gridcolor\": \"white\", \"gridwidth\": 2, \"linecolor\": \"white\", \"showbackground\": true, \"ticks\": \"\", \"zerolinecolor\": \"white\"}, \"yaxis\": {\"backgroundcolor\": \"#E5ECF6\", \"gridcolor\": \"white\", \"gridwidth\": 2, \"linecolor\": \"white\", \"showbackground\": true, \"ticks\": \"\", \"zerolinecolor\": \"white\"}, \"zaxis\": {\"backgroundcolor\": \"#E5ECF6\", \"gridcolor\": \"white\", \"gridwidth\": 2, \"linecolor\": \"white\", \"showbackground\": true, \"ticks\": \"\", \"zerolinecolor\": \"white\"}}, \"shapedefaults\": {\"line\": {\"color\": \"#2a3f5f\"}}, \"ternary\": {\"aaxis\": {\"gridcolor\": \"white\", \"linecolor\": \"white\", \"ticks\": \"\"}, \"baxis\": {\"gridcolor\": \"white\", \"linecolor\": \"white\", \"ticks\": \"\"}, \"bgcolor\": \"#E5ECF6\", \"caxis\": {\"gridcolor\": \"white\", \"linecolor\": \"white\", \"ticks\": \"\"}}, \"title\": {\"x\": 0.05}, \"xaxis\": {\"automargin\": true, \"gridcolor\": \"white\", \"linecolor\": \"white\", \"ticks\": \"\", \"title\": {\"standoff\": 15}, \"zerolinecolor\": \"white\", \"zerolinewidth\": 2}, \"yaxis\": {\"automargin\": true, \"gridcolor\": \"white\", \"linecolor\": \"white\", \"ticks\": \"\", \"title\": {\"standoff\": 15}, \"zerolinecolor\": \"white\", \"zerolinewidth\": 2}}}},\n",
              "                        {\"responsive\": true}\n",
              "                    ).then(function(){\n",
              "                            \n",
              "var gd = document.getElementById('b8084b16-4b76-47a8-a7b9-7fa47c8d6ec3');\n",
              "var x = new MutationObserver(function (mutations, observer) {{\n",
              "        var display = window.getComputedStyle(gd).display;\n",
              "        if (!display || display === 'none') {{\n",
              "            console.log([gd, 'removed!']);\n",
              "            Plotly.purge(gd);\n",
              "            observer.disconnect();\n",
              "        }}\n",
              "}});\n",
              "\n",
              "// Listen for the removal of the full notebook cells\n",
              "var notebookContainer = gd.closest('#notebook-container');\n",
              "if (notebookContainer) {{\n",
              "    x.observe(notebookContainer, {childList: true});\n",
              "}}\n",
              "\n",
              "// Listen for the clearing of the current output cell\n",
              "var outputEl = gd.closest('.output');\n",
              "if (outputEl) {{\n",
              "    x.observe(outputEl, {childList: true});\n",
              "}}\n",
              "\n",
              "                        })\n",
              "                };\n",
              "                \n",
              "            </script>\n",
              "        </div>\n",
              "</body>\n",
              "</html>"
            ]
          },
          "metadata": {
            "tags": []
          }
        }
      ]
    },
    {
      "cell_type": "code",
      "metadata": {
        "id": "ImQR3ECH3SH8",
        "colab_type": "code",
        "outputId": "32fb09ca-a9c6-4d9b-fb22-7d348967a59c",
        "colab": {
          "base_uri": "https://localhost:8080/",
          "height": 34
        }
      },
      "source": [
        "type(ez_mean)"
      ],
      "execution_count": 0,
      "outputs": [
        {
          "output_type": "execute_result",
          "data": {
            "text/plain": [
              "pandas.core.series.Series"
            ]
          },
          "metadata": {
            "tags": []
          },
          "execution_count": 240
        }
      ]
    },
    {
      "cell_type": "code",
      "metadata": {
        "id": "PclDM3Rjsqwm",
        "colab_type": "code",
        "outputId": "b3964e3e-e4dc-4047-f206-1f46fc4a7f8a",
        "colab": {
          "base_uri": "https://localhost:8080/",
          "height": 1000
        }
      },
      "source": [
        "ez_sum.plot(kind='bar')\n",
        "ez_mean.plot(kind='bar')\n",
        "ez_median.plot(kind='bar')\n",
        "plt.show()"
      ],
      "execution_count": 0,
      "outputs": [
        {
          "output_type": "display_data",
          "data": {
            "image/png": "[encoded data removed]",
            "text/plain": [
              "<Figure size 432x288 with 1 Axes>"
            ]
          },
          "metadata": {
            "tags": [],
            "needs_background": "light"
          }
        },
        {
          "output_type": "display_data",
          "data": {
            "image/png": "[encoded data removed]",
            "text/plain": [
              "<Figure size 432x288 with 1 Axes>"
            ]
          },
          "metadata": {
            "tags": [],
            "needs_background": "light"
          }
        },
        {
          "output_type": "display_data",
          "data": {
            "image/png": "[encoded data removed]",
            "text/plain": [
              "<Figure size 432x288 with 1 Axes>"
            ]
          },
          "metadata": {
            "tags": [],
            "needs_background": "light"
          }
        }
      ]
    },
    {
      "cell_type": "code",
      "metadata": {
        "id": "R8bmjO-i2_n-",
        "colab_type": "code",
        "outputId": "05c8cbf5-804b-4f43-da88-4c2fe96f5a66",
        "colab": {
          "base_uri": "https://localhost:8080/",
          "height": 279
        }
      },
      "source": [
        ""
      ],
      "execution_count": 0,
      "outputs": [
        {
          "output_type": "error",
          "ename": "AttributeError",
          "evalue": "ignored",
          "traceback": [
            "\u001b[0;31m---------------------------------------------------------------------------\u001b[0m",
            "\u001b[0;31mAttributeError\u001b[0m                            Traceback (most recent call last)",
            "\u001b[0;32m<ipython-input-223-ab575c09fff6>\u001b[0m in \u001b[0;36m<module>\u001b[0;34m()\u001b[0m\n\u001b[0;32m----> 1\u001b[0;31m \u001b[0mez\u001b[0m\u001b[0;34m.\u001b[0m\u001b[0msns\u001b[0m\u001b[0;34m.\u001b[0m\u001b[0mplot\u001b[0m\u001b[0;34m(\u001b[0m\u001b[0;34m)\u001b[0m\u001b[0;34m\u001b[0m\u001b[0;34m\u001b[0m\u001b[0m\n\u001b[0m",
            "\u001b[0;32m/usr/local/lib/python3.6/dist-packages/pandas/core/generic.py\u001b[0m in \u001b[0;36m__getattr__\u001b[0;34m(self, name)\u001b[0m\n\u001b[1;32m   5272\u001b[0m             \u001b[0;32mif\u001b[0m \u001b[0mself\u001b[0m\u001b[0;34m.\u001b[0m\u001b[0m_info_axis\u001b[0m\u001b[0;34m.\u001b[0m\u001b[0m_can_hold_identifiers_and_holds_name\u001b[0m\u001b[0;34m(\u001b[0m\u001b[0mname\u001b[0m\u001b[0;34m)\u001b[0m\u001b[0;34m:\u001b[0m\u001b[0;34m\u001b[0m\u001b[0;34m\u001b[0m\u001b[0m\n\u001b[1;32m   5273\u001b[0m                 \u001b[0;32mreturn\u001b[0m \u001b[0mself\u001b[0m\u001b[0;34m[\u001b[0m\u001b[0mname\u001b[0m\u001b[0;34m]\u001b[0m\u001b[0;34m\u001b[0m\u001b[0;34m\u001b[0m\u001b[0m\n\u001b[0;32m-> 5274\u001b[0;31m             \u001b[0;32mreturn\u001b[0m \u001b[0mobject\u001b[0m\u001b[0;34m.\u001b[0m\u001b[0m__getattribute__\u001b[0m\u001b[0;34m(\u001b[0m\u001b[0mself\u001b[0m\u001b[0;34m,\u001b[0m \u001b[0mname\u001b[0m\u001b[0;34m)\u001b[0m\u001b[0;34m\u001b[0m\u001b[0;34m\u001b[0m\u001b[0m\n\u001b[0m\u001b[1;32m   5275\u001b[0m \u001b[0;34m\u001b[0m\u001b[0m\n\u001b[1;32m   5276\u001b[0m     \u001b[0;32mdef\u001b[0m \u001b[0m__setattr__\u001b[0m\u001b[0;34m(\u001b[0m\u001b[0mself\u001b[0m\u001b[0;34m,\u001b[0m \u001b[0mname\u001b[0m\u001b[0;34m:\u001b[0m \u001b[0mstr\u001b[0m\u001b[0;34m,\u001b[0m \u001b[0mvalue\u001b[0m\u001b[0;34m)\u001b[0m \u001b[0;34m->\u001b[0m \u001b[0;32mNone\u001b[0m\u001b[0;34m:\u001b[0m\u001b[0;34m\u001b[0m\u001b[0;34m\u001b[0m\u001b[0m\n",
            "\u001b[0;31mAttributeError\u001b[0m: 'DataFrame' object has no attribute 'sns'"
          ]
        }
      ]
    },
    {
      "cell_type": "code",
      "metadata": {
        "id": "cJrru4u8rqEV",
        "colab_type": "code",
        "colab": {}
      },
      "source": [
        "debit=data[data['movement']=='debit'].amount.resample('M').sum()"
      ],
      "execution_count": 0,
      "outputs": []
    },
    {
      "cell_type": "code",
      "metadata": {
        "id": "nI1y9syfr3TK",
        "colab_type": "code",
        "outputId": "ae8febb9-e650-4887-92ab-6b6921036a73",
        "colab": {
          "base_uri": "https://localhost:8080/",
          "height": 166
        }
      },
      "source": [
        "pd.concat([credit,debit],axis='columns')"
      ],
      "execution_count": 0,
      "outputs": [
        {
          "output_type": "execute_result",
          "data": {
            "text/html": [
              "<div>\n",
              "<style scoped>\n",
              "    .dataframe tbody tr th:only-of-type {\n",
              "        vertical-align: middle;\n",
              "    }\n",
              "\n",
              "    .dataframe tbody tr th {\n",
              "        vertical-align: top;\n",
              "    }\n",
              "\n",
              "    .dataframe thead th {\n",
              "        text-align: right;\n",
              "    }\n",
              "</style>\n",
              "<table border=\"1\" class=\"dataframe\">\n",
              "  <thead>\n",
              "    <tr style=\"text-align: right;\">\n",
              "      <th></th>\n",
              "      <th>amount</th>\n",
              "      <th>amount</th>\n",
              "    </tr>\n",
              "    <tr>\n",
              "      <th>date</th>\n",
              "      <th></th>\n",
              "      <th></th>\n",
              "    </tr>\n",
              "  </thead>\n",
              "  <tbody>\n",
              "    <tr>\n",
              "      <th>2018-08-31</th>\n",
              "      <td>559814.33</td>\n",
              "      <td>170121.19</td>\n",
              "    </tr>\n",
              "    <tr>\n",
              "      <th>2018-09-30</th>\n",
              "      <td>516595.61</td>\n",
              "      <td>213954.60</td>\n",
              "    </tr>\n",
              "    <tr>\n",
              "      <th>2018-10-31</th>\n",
              "      <td>600166.91</td>\n",
              "      <td>1202630.56</td>\n",
              "    </tr>\n",
              "  </tbody>\n",
              "</table>\n",
              "</div>"
            ],
            "text/plain": [
              "               amount      amount\n",
              "date                             \n",
              "2018-08-31  559814.33   170121.19\n",
              "2018-09-30  516595.61   213954.60\n",
              "2018-10-31  600166.91  1202630.56"
            ]
          },
          "metadata": {
            "tags": []
          },
          "execution_count": 141
        }
      ]
    },
    {
      "cell_type": "code",
      "metadata": {
        "id": "xVD6jqorrXNn",
        "colab_type": "code",
        "outputId": "59ad8048-0056-4621-fd4d-fb0281c52659",
        "colab": {
          "base_uri": "https://localhost:8080/",
          "height": 279
        }
      },
      "source": [
        "q.head(5)"
      ],
      "execution_count": 0,
      "outputs": [
        {
          "output_type": "error",
          "ename": "AttributeError",
          "evalue": "ignored",
          "traceback": [
            "\u001b[0;31m---------------------------------------------------------------------------\u001b[0m",
            "\u001b[0;31mAttributeError\u001b[0m                            Traceback (most recent call last)",
            "\u001b[0;32m<ipython-input-130-0987a4bc8f7b>\u001b[0m in \u001b[0;36m<module>\u001b[0;34m()\u001b[0m\n\u001b[0;32m----> 1\u001b[0;31m \u001b[0mq\u001b[0m\u001b[0;34m.\u001b[0m\u001b[0mhead\u001b[0m\u001b[0;34m(\u001b[0m\u001b[0;36m5\u001b[0m\u001b[0;34m)\u001b[0m\u001b[0;34m\u001b[0m\u001b[0;34m\u001b[0m\u001b[0m\n\u001b[0m",
            "\u001b[0;32m/usr/local/lib/python3.6/dist-packages/pandas/core/resample.py\u001b[0m in \u001b[0;36m__getattr__\u001b[0;34m(self, attr)\u001b[0m\n\u001b[1;32m    105\u001b[0m             \u001b[0;32mreturn\u001b[0m \u001b[0mself\u001b[0m\u001b[0;34m[\u001b[0m\u001b[0mattr\u001b[0m\u001b[0;34m]\u001b[0m\u001b[0;34m\u001b[0m\u001b[0;34m\u001b[0m\u001b[0m\n\u001b[1;32m    106\u001b[0m \u001b[0;34m\u001b[0m\u001b[0m\n\u001b[0;32m--> 107\u001b[0;31m         \u001b[0;32mreturn\u001b[0m \u001b[0mobject\u001b[0m\u001b[0;34m.\u001b[0m\u001b[0m__getattribute__\u001b[0m\u001b[0;34m(\u001b[0m\u001b[0mself\u001b[0m\u001b[0;34m,\u001b[0m \u001b[0mattr\u001b[0m\u001b[0;34m)\u001b[0m\u001b[0;34m\u001b[0m\u001b[0;34m\u001b[0m\u001b[0m\n\u001b[0m\u001b[1;32m    108\u001b[0m \u001b[0;34m\u001b[0m\u001b[0m\n\u001b[1;32m    109\u001b[0m     \u001b[0;32mdef\u001b[0m \u001b[0m__iter__\u001b[0m\u001b[0;34m(\u001b[0m\u001b[0mself\u001b[0m\u001b[0;34m)\u001b[0m\u001b[0;34m:\u001b[0m\u001b[0;34m\u001b[0m\u001b[0;34m\u001b[0m\u001b[0m\n",
            "\u001b[0;31mAttributeError\u001b[0m: 'DatetimeIndexResampler' object has no attribute 'head'"
          ]
        }
      ]
    },
    {
      "cell_type": "code",
      "metadata": {
        "id": "VpaN0KQ_DaU5",
        "colab_type": "code",
        "colab": {}
      },
      "source": [
        "salary_df=data[data['txn_description'].str.contains(\"PAY/SALARY\")]"
      ],
      "execution_count": 0,
      "outputs": []
    },
    {
      "cell_type": "markdown",
      "metadata": {
        "id": "cEHQbSF4D5ex",
        "colab_type": "text"
      },
      "source": [
        ""
      ]
    },
    {
      "cell_type": "code",
      "metadata": {
        "id": "1d1uQsiwDjv0",
        "colab_type": "code",
        "outputId": "694cf711-c0c3-4667-dcdc-aa4ed27e3521",
        "colab": {
          "base_uri": "https://localhost:8080/",
          "height": 439
        }
      },
      "source": [
        "salary_df.dtypes"
      ],
      "execution_count": 0,
      "outputs": [
        {
          "output_type": "execute_result",
          "data": {
            "text/plain": [
              "status                       object\n",
              "card_present_flag           float64\n",
              "bpay_biller_code             object\n",
              "account                      object\n",
              "currency                     object\n",
              "long_lat                     object\n",
              "txn_description              object\n",
              "merchant_id                  object\n",
              "merchant_code               float64\n",
              "first_name                   object\n",
              "balance                     float64\n",
              "date                 datetime64[ns]\n",
              "gender                       object\n",
              "age                           int64\n",
              "merchant_suburb              object\n",
              "merchant_state               object\n",
              "extraction                   object\n",
              "amount                      float64\n",
              "transaction_id               object\n",
              "country                      object\n",
              "customer_id                  object\n",
              "merchant_long_lat            object\n",
              "movement                     object\n",
              "dtype: object"
            ]
          },
          "metadata": {
            "tags": []
          },
          "execution_count": 157
        }
      ]
    },
    {
      "cell_type": "code",
      "metadata": {
        "id": "kKbVHyDTcax5",
        "colab_type": "code",
        "outputId": "863e6d54-d933-4524-da6b-c1d86df1e3a2",
        "colab": {
          "base_uri": "https://localhost:8080/",
          "height": 122
        }
      },
      "source": [
        "salary_df['Day']=salary_df.date.dt.dayofyear"
      ],
      "execution_count": 0,
      "outputs": [
        {
          "output_type": "stream",
          "text": [
            "/usr/local/lib/python3.6/dist-packages/ipykernel_launcher.py:1: SettingWithCopyWarning: \n",
            "A value is trying to be set on a copy of a slice from a DataFrame.\n",
            "Try using .loc[row_indexer,col_indexer] = value instead\n",
            "\n",
            "See the caveats in the documentation: http://pandas.pydata.org/pandas-docs/stable/user_guide/indexing.html#returning-a-view-versus-a-copy\n",
            "  \"\"\"Entry point for launching an IPython kernel.\n"
          ],
          "name": "stderr"
        }
      ]
    },
    {
      "cell_type": "code",
      "metadata": {
        "id": "rBGDpocYx-IQ",
        "colab_type": "code",
        "outputId": "400b9378-6363-49bd-e261-6573a3beca64",
        "colab": {
          "base_uri": "https://localhost:8080/",
          "height": 299
        }
      },
      "source": [
        "salary_df.head(5)"
      ],
      "execution_count": 0,
      "outputs": [
        {
          "output_type": "execute_result",
          "data": {
            "text/html": [
              "<div>\n",
              "<style scoped>\n",
              "    .dataframe tbody tr th:only-of-type {\n",
              "        vertical-align: middle;\n",
              "    }\n",
              "\n",
              "    .dataframe tbody tr th {\n",
              "        vertical-align: top;\n",
              "    }\n",
              "\n",
              "    .dataframe thead th {\n",
              "        text-align: right;\n",
              "    }\n",
              "</style>\n",
              "<table border=\"1\" class=\"dataframe\">\n",
              "  <thead>\n",
              "    <tr style=\"text-align: right;\">\n",
              "      <th></th>\n",
              "      <th>status</th>\n",
              "      <th>card_present_flag</th>\n",
              "      <th>bpay_biller_code</th>\n",
              "      <th>account</th>\n",
              "      <th>currency</th>\n",
              "      <th>long_lat</th>\n",
              "      <th>txn_description</th>\n",
              "      <th>merchant_id</th>\n",
              "      <th>merchant_code</th>\n",
              "      <th>first_name</th>\n",
              "      <th>balance</th>\n",
              "      <th>date</th>\n",
              "      <th>gender</th>\n",
              "      <th>age</th>\n",
              "      <th>merchant_suburb</th>\n",
              "      <th>merchant_state</th>\n",
              "      <th>extraction</th>\n",
              "      <th>amount</th>\n",
              "      <th>transaction_id</th>\n",
              "      <th>country</th>\n",
              "      <th>customer_id</th>\n",
              "      <th>merchant_long_lat</th>\n",
              "      <th>movement</th>\n",
              "      <th>Day</th>\n",
              "      <th>Cycle</th>\n",
              "    </tr>\n",
              "  </thead>\n",
              "  <tbody>\n",
              "    <tr>\n",
              "      <th>50</th>\n",
              "      <td>posted</td>\n",
              "      <td>NaN</td>\n",
              "      <td>0</td>\n",
              "      <td>ACC-588564840</td>\n",
              "      <td>AUD</td>\n",
              "      <td>151.27 -33.76</td>\n",
              "      <td>PAY/SALARY</td>\n",
              "      <td>NaN</td>\n",
              "      <td>0.0</td>\n",
              "      <td>Isaiah</td>\n",
              "      <td>8342.11</td>\n",
              "      <td>2018-08-01</td>\n",
              "      <td>M</td>\n",
              "      <td>23</td>\n",
              "      <td>NaN</td>\n",
              "      <td>NaN</td>\n",
              "      <td>2018-08-01T11:00:00.000+0000</td>\n",
              "      <td>3903.95</td>\n",
              "      <td>9ca281650e5d482d9e53f85e959baa66</td>\n",
              "      <td>Australia</td>\n",
              "      <td>CUS-1462656821</td>\n",
              "      <td>NaN</td>\n",
              "      <td>credit</td>\n",
              "      <td>213</td>\n",
              "      <td>14.0</td>\n",
              "    </tr>\n",
              "    <tr>\n",
              "      <th>61</th>\n",
              "      <td>posted</td>\n",
              "      <td>NaN</td>\n",
              "      <td>0</td>\n",
              "      <td>ACC-1650504218</td>\n",
              "      <td>AUD</td>\n",
              "      <td>145.01 -37.93</td>\n",
              "      <td>PAY/SALARY</td>\n",
              "      <td>NaN</td>\n",
              "      <td>0.0</td>\n",
              "      <td>Marissa</td>\n",
              "      <td>2040.58</td>\n",
              "      <td>2018-08-01</td>\n",
              "      <td>F</td>\n",
              "      <td>23</td>\n",
              "      <td>NaN</td>\n",
              "      <td>NaN</td>\n",
              "      <td>2018-08-01T12:00:00.000+0000</td>\n",
              "      <td>1626.48</td>\n",
              "      <td>1822eb0e1bbe4c9e95ebbb0fa2cc4323</td>\n",
              "      <td>Australia</td>\n",
              "      <td>CUS-2500783281</td>\n",
              "      <td>NaN</td>\n",
              "      <td>credit</td>\n",
              "      <td>213</td>\n",
              "      <td>7.0</td>\n",
              "    </tr>\n",
              "    <tr>\n",
              "      <th>64</th>\n",
              "      <td>posted</td>\n",
              "      <td>NaN</td>\n",
              "      <td>0</td>\n",
              "      <td>ACC-3326339947</td>\n",
              "      <td>AUD</td>\n",
              "      <td>151.18 -33.80</td>\n",
              "      <td>PAY/SALARY</td>\n",
              "      <td>NaN</td>\n",
              "      <td>0.0</td>\n",
              "      <td>Eric</td>\n",
              "      <td>3158.51</td>\n",
              "      <td>2018-08-01</td>\n",
              "      <td>M</td>\n",
              "      <td>22</td>\n",
              "      <td>NaN</td>\n",
              "      <td>NaN</td>\n",
              "      <td>2018-08-01T12:00:00.000+0000</td>\n",
              "      <td>983.36</td>\n",
              "      <td>bd62b1799a454cedbbb56364f7c40cbf</td>\n",
              "      <td>Australia</td>\n",
              "      <td>CUS-326006476</td>\n",
              "      <td>NaN</td>\n",
              "      <td>credit</td>\n",
              "      <td>213</td>\n",
              "      <td>7.0</td>\n",
              "    </tr>\n",
              "    <tr>\n",
              "      <th>68</th>\n",
              "      <td>posted</td>\n",
              "      <td>NaN</td>\n",
              "      <td>0</td>\n",
              "      <td>ACC-3541460373</td>\n",
              "      <td>AUD</td>\n",
              "      <td>145.00 -37.83</td>\n",
              "      <td>PAY/SALARY</td>\n",
              "      <td>NaN</td>\n",
              "      <td>0.0</td>\n",
              "      <td>Jeffrey</td>\n",
              "      <td>2517.66</td>\n",
              "      <td>2018-08-01</td>\n",
              "      <td>M</td>\n",
              "      <td>24</td>\n",
              "      <td>NaN</td>\n",
              "      <td>NaN</td>\n",
              "      <td>2018-08-01T13:00:00.000+0000</td>\n",
              "      <td>1408.08</td>\n",
              "      <td>0d95c7c932bb48e5b44c2637bdd3efe9</td>\n",
              "      <td>Australia</td>\n",
              "      <td>CUS-1433879684</td>\n",
              "      <td>NaN</td>\n",
              "      <td>credit</td>\n",
              "      <td>213</td>\n",
              "      <td>14.0</td>\n",
              "    </tr>\n",
              "    <tr>\n",
              "      <th>70</th>\n",
              "      <td>posted</td>\n",
              "      <td>NaN</td>\n",
              "      <td>0</td>\n",
              "      <td>ACC-2776252858</td>\n",
              "      <td>AUD</td>\n",
              "      <td>144.95 -37.76</td>\n",
              "      <td>PAY/SALARY</td>\n",
              "      <td>NaN</td>\n",
              "      <td>0.0</td>\n",
              "      <td>Kristin</td>\n",
              "      <td>2271.79</td>\n",
              "      <td>2018-08-01</td>\n",
              "      <td>F</td>\n",
              "      <td>43</td>\n",
              "      <td>NaN</td>\n",
              "      <td>NaN</td>\n",
              "      <td>2018-08-01T13:00:00.000+0000</td>\n",
              "      <td>1068.04</td>\n",
              "      <td>f50ccf1195214d14a0acbfcb5a265193</td>\n",
              "      <td>Australia</td>\n",
              "      <td>CUS-4123612273</td>\n",
              "      <td>NaN</td>\n",
              "      <td>credit</td>\n",
              "      <td>213</td>\n",
              "      <td>7.0</td>\n",
              "    </tr>\n",
              "  </tbody>\n",
              "</table>\n",
              "</div>"
            ],
            "text/plain": [
              "    status  card_present_flag bpay_biller_code  ... movement  Day Cycle\n",
              "50  posted                NaN                0  ...   credit  213  14.0\n",
              "61  posted                NaN                0  ...   credit  213   7.0\n",
              "64  posted                NaN                0  ...   credit  213   7.0\n",
              "68  posted                NaN                0  ...   credit  213  14.0\n",
              "70  posted                NaN                0  ...   credit  213   7.0\n",
              "\n",
              "[5 rows x 25 columns]"
            ]
          },
          "metadata": {
            "tags": []
          },
          "execution_count": 160
        }
      ]
    },
    {
      "cell_type": "markdown",
      "metadata": {
        "id": "KFSA1XonzrHF",
        "colab_type": "text"
      },
      "source": [
        ""
      ]
    },
    {
      "cell_type": "code",
      "metadata": {
        "id": "ikIfDTqOEUgs",
        "colab_type": "code",
        "outputId": "bf1f4465-0dbb-4107-ec39-96263f697f5e",
        "colab": {
          "base_uri": "https://localhost:8080/",
          "height": 122
        }
      },
      "source": [
        "salary_df['Cycle']=salary_df.groupby('customer_id')['Day'].diff(-1) * (-1)"
      ],
      "execution_count": 0,
      "outputs": [
        {
          "output_type": "stream",
          "text": [
            "/usr/local/lib/python3.6/dist-packages/ipykernel_launcher.py:1: SettingWithCopyWarning: \n",
            "A value is trying to be set on a copy of a slice from a DataFrame.\n",
            "Try using .loc[row_indexer,col_indexer] = value instead\n",
            "\n",
            "See the caveats in the documentation: http://pandas.pydata.org/pandas-docs/stable/user_guide/indexing.html#returning-a-view-versus-a-copy\n",
            "  \"\"\"Entry point for launching an IPython kernel.\n"
          ],
          "name": "stderr"
        }
      ]
    },
    {
      "cell_type": "code",
      "metadata": {
        "id": "fDQpHnt5JISd",
        "colab_type": "code",
        "outputId": "9ee4ea1a-45a0-4497-e356-2a7c7395205d",
        "colab": {
          "base_uri": "https://localhost:8080/",
          "height": 34
        }
      },
      "source": [
        "a.shape"
      ],
      "execution_count": 0,
      "outputs": [
        {
          "output_type": "execute_result",
          "data": {
            "text/plain": [
              "(876, 24)"
            ]
          },
          "metadata": {
            "tags": []
          },
          "execution_count": 125
        }
      ]
    },
    {
      "cell_type": "code",
      "metadata": {
        "id": "AK6qfBS7kUfF",
        "colab_type": "code",
        "outputId": "39657c6e-09c0-44cc-c0ca-2f197d5e3bd9",
        "colab": {
          "base_uri": "https://localhost:8080/",
          "height": 246
        }
      },
      "source": [
        "(a.groupby(['customer_id'],as_index=False).mean().groupby('customer_id')['Cycle'].mean())"
      ],
      "execution_count": 0,
      "outputs": [
        {
          "output_type": "execute_result",
          "data": {
            "text/plain": [
              "customer_id\n",
              "CUS-1005756958     7.000000\n",
              "CUS-1117979751    14.000000\n",
              "CUS-1140341822    14.000000\n",
              "CUS-1147642491     7.000000\n",
              "CUS-1196156254    14.000000\n",
              "                    ...    \n",
              "CUS-72755508       7.636364\n",
              "CUS-809013380      7.000000\n",
              "CUS-860700529     16.800000\n",
              "CUS-880898248     16.800000\n",
              "CUS-883482547     14.000000\n",
              "Name: Cycle, Length: 100, dtype: float64"
            ]
          },
          "metadata": {
            "tags": []
          },
          "execution_count": 84
        }
      ]
    },
    {
      "cell_type": "code",
      "metadata": {
        "id": "21fYLMZZjmeD",
        "colab_type": "code",
        "colab": {}
      },
      "source": [
        "a['Cycle']=a.groupby('customer_id')['Day'].diff(-1) * (-1)"
      ],
      "execution_count": 0,
      "outputs": []
    },
    {
      "cell_type": "code",
      "metadata": {
        "id": "nAV9ILJHj7un",
        "colab_type": "code",
        "colab": {}
      },
      "source": [
        "final=a.groupby([\"customer_id\",'Cycle'],as_index=False).mean()"
      ],
      "execution_count": 0,
      "outputs": []
    },
    {
      "cell_type": "code",
      "metadata": {
        "id": "7WTk6mhrsNF2",
        "colab_type": "code",
        "colab": {}
      },
      "source": [
        "b=a.groupby('customer_id')"
      ],
      "execution_count": 0,
      "outputs": []
    },
    {
      "cell_type": "code",
      "metadata": {
        "id": "0xwKboQExVNj",
        "colab_type": "code",
        "outputId": "cbb22368-a63e-40c0-ee2e-c047e12fb6c6",
        "colab": {
          "base_uri": "https://localhost:8080/",
          "height": 314
        }
      },
      "source": [
        ""
      ],
      "execution_count": 0,
      "outputs": [
        {
          "output_type": "error",
          "ename": "AttributeError",
          "evalue": "ignored",
          "traceback": [
            "\u001b[0;31m---------------------------------------------------------------------------\u001b[0m",
            "\u001b[0;31mAttributeError\u001b[0m                            Traceback (most recent call last)",
            "\u001b[0;32m<ipython-input-140-3db1140cd2a8>\u001b[0m in \u001b[0;36m<module>\u001b[0;34m()\u001b[0m\n\u001b[0;32m----> 1\u001b[0;31m \u001b[0mb\u001b[0m\u001b[0;34m.\u001b[0m\u001b[0mgroupby\u001b[0m\u001b[0;34m(\u001b[0m\u001b[0;34m'customer_id'\u001b[0m\u001b[0;34m)\u001b[0m\u001b[0;34m[\u001b[0m\u001b[0;34m'Day'\u001b[0m\u001b[0;34m]\u001b[0m\u001b[0;34m.\u001b[0m\u001b[0mdiff\u001b[0m\u001b[0;34m(\u001b[0m\u001b[0;34m-\u001b[0m\u001b[0;36m1\u001b[0m\u001b[0;34m)\u001b[0m \u001b[0;34m*\u001b[0m \u001b[0;34m(\u001b[0m\u001b[0;34m-\u001b[0m\u001b[0;36m1\u001b[0m\u001b[0;34m)\u001b[0m\u001b[0;34m\u001b[0m\u001b[0;34m\u001b[0m\u001b[0m\n\u001b[0m",
            "\u001b[0;32m/usr/local/lib/python3.6/dist-packages/pandas/core/groupby/groupby.py\u001b[0m in \u001b[0;36m__getattr__\u001b[0;34m(self, attr)\u001b[0m\n\u001b[1;32m    561\u001b[0m             \u001b[0;32mreturn\u001b[0m \u001b[0mself\u001b[0m\u001b[0;34m[\u001b[0m\u001b[0mattr\u001b[0m\u001b[0;34m]\u001b[0m\u001b[0;34m\u001b[0m\u001b[0;34m\u001b[0m\u001b[0m\n\u001b[1;32m    562\u001b[0m         \u001b[0;32mif\u001b[0m \u001b[0mhasattr\u001b[0m\u001b[0;34m(\u001b[0m\u001b[0mself\u001b[0m\u001b[0;34m.\u001b[0m\u001b[0mobj\u001b[0m\u001b[0;34m,\u001b[0m \u001b[0mattr\u001b[0m\u001b[0;34m)\u001b[0m\u001b[0;34m:\u001b[0m\u001b[0;34m\u001b[0m\u001b[0;34m\u001b[0m\u001b[0m\n\u001b[0;32m--> 563\u001b[0;31m             \u001b[0;32mreturn\u001b[0m \u001b[0mself\u001b[0m\u001b[0;34m.\u001b[0m\u001b[0m_make_wrapper\u001b[0m\u001b[0;34m(\u001b[0m\u001b[0mattr\u001b[0m\u001b[0;34m)\u001b[0m\u001b[0;34m\u001b[0m\u001b[0;34m\u001b[0m\u001b[0m\n\u001b[0m\u001b[1;32m    564\u001b[0m \u001b[0;34m\u001b[0m\u001b[0m\n\u001b[1;32m    565\u001b[0m         raise AttributeError(\n",
            "\u001b[0;32m/usr/local/lib/python3.6/dist-packages/pandas/core/groupby/groupby.py\u001b[0m in \u001b[0;36m_make_wrapper\u001b[0;34m(self, name)\u001b[0m\n\u001b[1;32m    602\u001b[0m                 \u001b[0;34m\"using the 'apply' method\"\u001b[0m\u001b[0;34m.\u001b[0m\u001b[0mformat\u001b[0m\u001b[0;34m(\u001b[0m\u001b[0mkind\u001b[0m\u001b[0;34m,\u001b[0m \u001b[0mname\u001b[0m\u001b[0;34m,\u001b[0m \u001b[0mtype\u001b[0m\u001b[0;34m(\u001b[0m\u001b[0mself\u001b[0m\u001b[0;34m)\u001b[0m\u001b[0;34m.\u001b[0m\u001b[0m__name__\u001b[0m\u001b[0;34m)\u001b[0m\u001b[0;34m\u001b[0m\u001b[0;34m\u001b[0m\u001b[0m\n\u001b[1;32m    603\u001b[0m             )\n\u001b[0;32m--> 604\u001b[0;31m             \u001b[0;32mraise\u001b[0m \u001b[0mAttributeError\u001b[0m\u001b[0;34m(\u001b[0m\u001b[0mmsg\u001b[0m\u001b[0;34m)\u001b[0m\u001b[0;34m\u001b[0m\u001b[0;34m\u001b[0m\u001b[0m\n\u001b[0m\u001b[1;32m    605\u001b[0m \u001b[0;34m\u001b[0m\u001b[0m\n\u001b[1;32m    606\u001b[0m         \u001b[0mself\u001b[0m\u001b[0;34m.\u001b[0m\u001b[0m_set_group_selection\u001b[0m\u001b[0;34m(\u001b[0m\u001b[0;34m)\u001b[0m\u001b[0;34m\u001b[0m\u001b[0;34m\u001b[0m\u001b[0m\n",
            "\u001b[0;31mAttributeError\u001b[0m: Cannot access callable attribute 'groupby' of 'DataFrameGroupBy' objects, try using the 'apply' method"
          ]
        }
      ]
    },
    {
      "cell_type": "code",
      "metadata": {
        "id": "67yRAMGmJLQs",
        "colab_type": "code",
        "outputId": "43ca8189-db03-478c-e833-187298f48458",
        "colab": {
          "base_uri": "https://localhost:8080/",
          "height": 140
        }
      },
      "source": [
        "data.columns"
      ],
      "execution_count": 0,
      "outputs": [
        {
          "output_type": "execute_result",
          "data": {
            "text/plain": [
              "Index(['status', 'card_present_flag', 'bpay_biller_code', 'account',\n",
              "       'currency', 'long_lat', 'txn_description', 'merchant_id',\n",
              "       'merchant_code', 'first_name', 'balance', 'date', 'gender', 'age',\n",
              "       'merchant_suburb', 'merchant_state', 'extraction', 'amount',\n",
              "       'transaction_id', 'country', 'customer_id', 'merchant_long_lat',\n",
              "       'movement'],\n",
              "      dtype='object')"
            ]
          },
          "metadata": {
            "tags": []
          },
          "execution_count": 6
        }
      ]
    },
    {
      "cell_type": "code",
      "metadata": {
        "id": "r9LaFDEs5pnc",
        "colab_type": "code",
        "colab": {}
      },
      "source": [
        "t=data.groupby(['customer_id','date'])"
      ],
      "execution_count": 0,
      "outputs": []
    },
    {
      "cell_type": "code",
      "metadata": {
        "id": "8EyilnEw8IFX",
        "colab_type": "code",
        "colab": {}
      },
      "source": [
        "#t.groups"
      ],
      "execution_count": 0,
      "outputs": []
    },
    {
      "cell_type": "code",
      "metadata": {
        "id": "Yxfz_nAp9ap-",
        "colab_type": "code",
        "outputId": "99dc5f5d-b391-440c-8a9a-ff925809209c",
        "colab": {
          "base_uri": "https://localhost:8080/",
          "height": 246
        }
      },
      "source": [
        "t.size()"
      ],
      "execution_count": 0,
      "outputs": [
        {
          "output_type": "execute_result",
          "data": {
            "text/plain": [
              "customer_id     date      \n",
              "CUS-1005756958  2018-08-02    2\n",
              "                2018-08-03    3\n",
              "                2018-08-04    3\n",
              "                2018-08-05    2\n",
              "                2018-08-06    1\n",
              "                             ..\n",
              "CUS-883482547   2018-10-27    2\n",
              "                2018-10-28    3\n",
              "                2018-10-29    5\n",
              "                2018-10-30    1\n",
              "                2018-10-31    1\n",
              "Length: 5521, dtype: int64"
            ]
          },
          "metadata": {
            "tags": []
          },
          "execution_count": 59
        }
      ]
    },
    {
      "cell_type": "code",
      "metadata": {
        "id": "K3TZosvjZM6p",
        "colab_type": "code",
        "colab": {}
      },
      "source": [
        "a=data.groupby(['customer_id','txn_description'])\n"
      ],
      "execution_count": 0,
      "outputs": []
    },
    {
      "cell_type": "code",
      "metadata": {
        "id": "cifl8_yFCxdj",
        "colab_type": "code",
        "outputId": "36581b71-8209-4d9a-ca87-7834f350649c",
        "colab": {
          "base_uri": "https://localhost:8080/",
          "height": 167
        }
      },
      "source": [
        "new=a.filter(like='PAY/SALARY', axis=0)"
      ],
      "execution_count": 0,
      "outputs": [
        {
          "output_type": "error",
          "ename": "TypeError",
          "evalue": "ignored",
          "traceback": [
            "\u001b[0;31m---------------------------------------------------------------------------\u001b[0m",
            "\u001b[0;31mTypeError\u001b[0m                                 Traceback (most recent call last)",
            "\u001b[0;32m<ipython-input-27-06d6423c9a26>\u001b[0m in \u001b[0;36m<module>\u001b[0;34m()\u001b[0m\n\u001b[0;32m----> 1\u001b[0;31m \u001b[0mnew\u001b[0m\u001b[0;34m=\u001b[0m\u001b[0ma\u001b[0m\u001b[0;34m.\u001b[0m\u001b[0mfilter\u001b[0m\u001b[0;34m(\u001b[0m\u001b[0mlike\u001b[0m\u001b[0;34m=\u001b[0m\u001b[0;34m'PAY/SALARY'\u001b[0m\u001b[0;34m,\u001b[0m \u001b[0maxis\u001b[0m\u001b[0;34m=\u001b[0m\u001b[0;36m0\u001b[0m\u001b[0;34m)\u001b[0m\u001b[0;34m\u001b[0m\u001b[0;34m\u001b[0m\u001b[0m\n\u001b[0m",
            "\u001b[0;31mTypeError\u001b[0m: filter() missing 1 required positional argument: 'func'"
          ]
        }
      ]
    },
    {
      "cell_type": "code",
      "metadata": {
        "id": "Ms4_LXc0C4oI",
        "colab_type": "code",
        "outputId": "3947be56-dfe1-4b5e-c198-cbb2ebb5a528",
        "colab": {
          "base_uri": "https://localhost:8080/",
          "height": 140
        }
      },
      "source": [
        "new.head(5)"
      ],
      "execution_count": 0,
      "outputs": [
        {
          "output_type": "execute_result",
          "data": {
            "text/plain": [
              "customer_id     txn_description\n",
              "CUS-1005756958  PAY/SALARY         13\n",
              "CUS-1117979751  PAY/SALARY          7\n",
              "CUS-1140341822  PAY/SALARY          6\n",
              "CUS-1147642491  PAY/SALARY         13\n",
              "CUS-1196156254  PAY/SALARY          7\n",
              "dtype: int64"
            ]
          },
          "metadata": {
            "tags": []
          },
          "execution_count": 28
        }
      ]
    },
    {
      "cell_type": "code",
      "metadata": {
        "id": "WtGoOg5FCG2O",
        "colab_type": "code",
        "colab": {}
      },
      "source": [
        "av=a.groupby('txn_description')"
      ],
      "execution_count": 0,
      "outputs": []
    },
    {
      "cell_type": "code",
      "metadata": {
        "id": "n4R8XBVxCTUN",
        "colab_type": "code",
        "outputId": "308965d2-3a12-474b-a297-50ec15f06353",
        "colab": {
          "base_uri": "https://localhost:8080/",
          "height": 580
        }
      },
      "source": [
        "av.head(5)"
      ],
      "execution_count": 0,
      "outputs": [
        {
          "output_type": "execute_result",
          "data": {
            "text/plain": [
              "customer_id     txn_description\n",
              "CUS-1005756958  PAY/SALARY         13\n",
              "                PAYMENT             9\n",
              "                PHONE BANK          3\n",
              "                POS                26\n",
              "                SALES-POS          22\n",
              "CUS-1117979751  INTER BANK          1\n",
              "                PAY/SALARY          7\n",
              "                PAYMENT            40\n",
              "                POS                26\n",
              "                SALES-POS          26\n",
              "CUS-1140341822  INTER BANK          3\n",
              "                PAY/SALARY          6\n",
              "                PAYMENT             6\n",
              "                POS                39\n",
              "                SALES-POS          26\n",
              "CUS-1147642491  INTER BANK          2\n",
              "                PAY/SALARY         13\n",
              "                PAYMENT            27\n",
              "                POS                38\n",
              "                SALES-POS          38\n",
              "CUS-1196156254  INTER BANK          5\n",
              "                PAY/SALARY          7\n",
              "                PAYMENT            70\n",
              "                POS                74\n",
              "                SALES-POS          89\n",
              "CUS-1271030853  INTER BANK         16\n",
              "CUS-1646183815  PHONE BANK          3\n",
              "CUS-1896554896  PHONE BANK          1\n",
              "CUS-2155701614  PHONE BANK          3\n",
              "CUS-2348881191  PHONE BANK          1\n",
              "dtype: int64"
            ]
          },
          "metadata": {
            "tags": []
          },
          "execution_count": 22
        }
      ]
    },
    {
      "cell_type": "code",
      "metadata": {
        "id": "HUq1BP88Yvp1",
        "colab_type": "code",
        "outputId": "dea7c36c-0da3-4b95-c998-cdc639b63fd1",
        "colab": {
          "base_uri": "https://localhost:8080/",
          "height": 140
        }
      },
      "source": [
        "a['CUS-2487424745']"
      ],
      "execution_count": 0,
      "outputs": [
        {
          "output_type": "execute_result",
          "data": {
            "text/plain": [
              "txn_description\n",
              "INTER BANK     16\n",
              "PAY/SALARY     14\n",
              "PAYMENT        17\n",
              "POS           259\n",
              "SALES-POS     272\n",
              "dtype: int64"
            ]
          },
          "metadata": {
            "tags": []
          },
          "execution_count": 11
        }
      ]
    },
    {
      "cell_type": "code",
      "metadata": {
        "id": "Ym4ACD5taUab",
        "colab_type": "code",
        "colab": {}
      },
      "source": [
        "b=data.groupby(['customer_id','txn_description'])['amount'].apply(sum)"
      ],
      "execution_count": 0,
      "outputs": []
    },
    {
      "cell_type": "code",
      "metadata": {
        "id": "yDNl_GmFfcBF",
        "colab_type": "code",
        "colab": {}
      },
      "source": [
        "ag=data.groupby(['customer_id','txn_description','age','gender'])['amount'].apply(sum)"
      ],
      "execution_count": 0,
      "outputs": []
    },
    {
      "cell_type": "code",
      "metadata": {
        "id": "poKcOpYZfmU2",
        "colab_type": "code",
        "outputId": "031ff1fc-b7da-41b6-cb35-5167a1b4bdab",
        "colab": {
          "base_uri": "https://localhost:8080/",
          "height": 246
        }
      },
      "source": [
        "ag"
      ],
      "execution_count": 0,
      "outputs": [
        {
          "output_type": "execute_result",
          "data": {
            "text/plain": [
              "customer_id     txn_description  age  gender\n",
              "CUS-1005756958  PAY/SALARY       53   F         12616.11\n",
              "                PAYMENT          53   F          1296.00\n",
              "                PHONE BANK       53   F           546.00\n",
              "                POS              53   F           748.01\n",
              "                SALES-POS        53   F          1062.85\n",
              "                                                  ...   \n",
              "CUS-883482547   PAY/SALARY       19   F         27842.22\n",
              "                PAYMENT          19   F          4298.00\n",
              "                PHONE BANK       19   F           793.00\n",
              "                POS              19   F          1562.39\n",
              "                SALES-POS        19   F          2143.80\n",
              "Name: amount, Length: 483, dtype: float64"
            ]
          },
          "metadata": {
            "tags": []
          },
          "execution_count": 94
        }
      ]
    },
    {
      "cell_type": "code",
      "metadata": {
        "id": "lJJcitTmavAX",
        "colab_type": "code",
        "outputId": "7277b85f-0fe4-4bde-bf37-d82007d263d8",
        "colab": {
          "base_uri": "https://localhost:8080/",
          "height": 246
        }
      },
      "source": [
        "b"
      ],
      "execution_count": 0,
      "outputs": [
        {
          "output_type": "execute_result",
          "data": {
            "text/plain": [
              "customer_id     txn_description\n",
              "CUS-1005756958  PAY/SALARY         12616.11\n",
              "                PAYMENT             1296.00\n",
              "                PHONE BANK           546.00\n",
              "                POS                  748.01\n",
              "                SALES-POS           1062.85\n",
              "                                     ...   \n",
              "CUS-883482547   PAY/SALARY         27842.22\n",
              "                PAYMENT             4298.00\n",
              "                PHONE BANK           793.00\n",
              "                POS                 1562.39\n",
              "                SALES-POS           2143.80\n",
              "Name: amount, Length: 483, dtype: float64"
            ]
          },
          "metadata": {
            "tags": []
          },
          "execution_count": 61
        }
      ]
    },
    {
      "cell_type": "code",
      "metadata": {
        "id": "1LZbfaqIdhQm",
        "colab_type": "code",
        "colab": {}
      },
      "source": [
        "ag_1=ag.filter(like='PAY/SALARY', axis=0)"
      ],
      "execution_count": 0,
      "outputs": []
    },
    {
      "cell_type": "code",
      "metadata": {
        "id": "4b2_fH9BeiZl",
        "colab_type": "code",
        "outputId": "8357ab72-f068-4aa0-e634-33496f1b00d1",
        "colab": {
          "base_uri": "https://localhost:8080/",
          "height": 246
        }
      },
      "source": [
        "ag_1"
      ],
      "execution_count": 0,
      "outputs": [
        {
          "output_type": "execute_result",
          "data": {
            "text/plain": [
              "customer_id     txn_description  age  gender\n",
              "CUS-1005756958  PAY/SALARY       53   F         12616.11\n",
              "CUS-1117979751  PAY/SALARY       21   M         25050.55\n",
              "CUS-1140341822  PAY/SALARY       28   M         11499.06\n",
              "CUS-1147642491  PAY/SALARY       34   F         22248.07\n",
              "CUS-1196156254  PAY/SALARY       34   F         27326.11\n",
              "                                                  ...   \n",
              "CUS-72755508    PAY/SALARY       35   F          8703.84\n",
              "CUS-809013380   PAY/SALARY       21   F         13481.91\n",
              "CUS-860700529   PAY/SALARY       30   M         10851.72\n",
              "CUS-880898248   PAY/SALARY       26   M          8603.88\n",
              "CUS-883482547   PAY/SALARY       19   F         27842.22\n",
              "Name: amount, Length: 100, dtype: float64"
            ]
          },
          "metadata": {
            "tags": []
          },
          "execution_count": 98
        }
      ]
    },
    {
      "cell_type": "code",
      "metadata": {
        "id": "dWpI2HBrguKk",
        "colab_type": "code",
        "outputId": "32fc037a-12b2-43c0-a5d3-0c8636441cf2",
        "colab": {
          "base_uri": "https://localhost:8080/",
          "height": 167
        }
      },
      "source": [
        "ag_1.plot.scatter['age']"
      ],
      "execution_count": 0,
      "outputs": [
        {
          "output_type": "error",
          "ename": "TypeError",
          "evalue": "ignored",
          "traceback": [
            "\u001b[0;31m---------------------------------------------------------------------------\u001b[0m",
            "\u001b[0;31mTypeError\u001b[0m                                 Traceback (most recent call last)",
            "\u001b[0;32m<ipython-input-99-ec6aa259215a>\u001b[0m in \u001b[0;36m<module>\u001b[0;34m()\u001b[0m\n\u001b[0;32m----> 1\u001b[0;31m \u001b[0mag_1\u001b[0m\u001b[0;34m.\u001b[0m\u001b[0mplot\u001b[0m\u001b[0;34m.\u001b[0m\u001b[0mscatter\u001b[0m\u001b[0;34m[\u001b[0m\u001b[0;34m'age'\u001b[0m\u001b[0;34m]\u001b[0m\u001b[0;34m\u001b[0m\u001b[0;34m\u001b[0m\u001b[0m\n\u001b[0m",
            "\u001b[0;31mTypeError\u001b[0m: 'method' object is not subscriptable"
          ]
        }
      ]
    },
    {
      "cell_type": "code",
      "metadata": {
        "id": "l6_UjyMwe4Pa",
        "colab_type": "code",
        "outputId": "c9177d12-d4ae-43f5-c627-9d6f1ee08c1a",
        "colab": {
          "base_uri": "https://localhost:8080/",
          "height": 282
        }
      },
      "source": [
        "sal_df.plot.hist()"
      ],
      "execution_count": 0,
      "outputs": [
        {
          "output_type": "execute_result",
          "data": {
            "text/plain": [
              "<matplotlib.axes._subplots.AxesSubplot at 0x7f4f9ae08668>"
            ]
          },
          "metadata": {
            "tags": []
          },
          "execution_count": 84
        },
        {
          "output_type": "display_data",
          "data": {
            "image/png": "[encoded data removed]",
            "text/plain": [
              "<Figure size 432x288 with 1 Axes>"
            ]
          },
          "metadata": {
            "tags": []
          }
        }
      ]
    },
    {
      "cell_type": "code",
      "metadata": {
        "id": "1qUnUlkpfPT4",
        "colab_type": "code",
        "outputId": "2cff1bc2-1ed6-4e15-f4b9-7bb7cad869bc",
        "colab": {
          "base_uri": "https://localhost:8080/",
          "height": 282
        }
      },
      "source": [
        "sal_df.plot.box()"
      ],
      "execution_count": 0,
      "outputs": [
        {
          "output_type": "execute_result",
          "data": {
            "text/plain": [
              "<matplotlib.axes._subplots.AxesSubplot at 0x7f4f9ae08b38>"
            ]
          },
          "metadata": {
            "tags": []
          },
          "execution_count": 85
        },
        {
          "output_type": "display_data",
          "data": {
            "image/png": "[encoded data removed]",
            "text/plain": [
              "<Figure size 432x288 with 1 Axes>"
            ]
          },
          "metadata": {
            "tags": []
          }
        }
      ]
    },
    {
      "cell_type": "code",
      "metadata": {
        "id": "PgQftN6ia6YF",
        "colab_type": "code",
        "outputId": "6c3a7e80-06ce-4146-be80-90a34cec485a",
        "colab": {
          "base_uri": "https://localhost:8080/",
          "height": 402
        }
      },
      "source": [
        "data.filter(['customer_id','txn_description'])\n"
      ],
      "execution_count": 0,
      "outputs": [
        {
          "output_type": "execute_result",
          "data": {
            "text/html": [
              "<div>\n",
              "<style scoped>\n",
              "    .dataframe tbody tr th:only-of-type {\n",
              "        vertical-align: middle;\n",
              "    }\n",
              "\n",
              "    .dataframe tbody tr th {\n",
              "        vertical-align: top;\n",
              "    }\n",
              "\n",
              "    .dataframe thead th {\n",
              "        text-align: right;\n",
              "    }\n",
              "</style>\n",
              "<table border=\"1\" class=\"dataframe\">\n",
              "  <thead>\n",
              "    <tr style=\"text-align: right;\">\n",
              "      <th></th>\n",
              "      <th>customer_id</th>\n",
              "      <th>txn_description</th>\n",
              "    </tr>\n",
              "  </thead>\n",
              "  <tbody>\n",
              "    <tr>\n",
              "      <th>0</th>\n",
              "      <td>CUS-2487424745</td>\n",
              "      <td>POS</td>\n",
              "    </tr>\n",
              "    <tr>\n",
              "      <th>1</th>\n",
              "      <td>CUS-2487424745</td>\n",
              "      <td>SALES-POS</td>\n",
              "    </tr>\n",
              "    <tr>\n",
              "      <th>2</th>\n",
              "      <td>CUS-2142601169</td>\n",
              "      <td>POS</td>\n",
              "    </tr>\n",
              "    <tr>\n",
              "      <th>3</th>\n",
              "      <td>CUS-1614226872</td>\n",
              "      <td>SALES-POS</td>\n",
              "    </tr>\n",
              "    <tr>\n",
              "      <th>4</th>\n",
              "      <td>CUS-2487424745</td>\n",
              "      <td>SALES-POS</td>\n",
              "    </tr>\n",
              "    <tr>\n",
              "      <th>...</th>\n",
              "      <td>...</td>\n",
              "      <td>...</td>\n",
              "    </tr>\n",
              "    <tr>\n",
              "      <th>12038</th>\n",
              "      <td>CUS-55310383</td>\n",
              "      <td>POS</td>\n",
              "    </tr>\n",
              "    <tr>\n",
              "      <th>12039</th>\n",
              "      <td>CUS-2688605418</td>\n",
              "      <td>SALES-POS</td>\n",
              "    </tr>\n",
              "    <tr>\n",
              "      <th>12040</th>\n",
              "      <td>CUS-2663907001</td>\n",
              "      <td>POS</td>\n",
              "    </tr>\n",
              "    <tr>\n",
              "      <th>12041</th>\n",
              "      <td>CUS-1388323263</td>\n",
              "      <td>SALES-POS</td>\n",
              "    </tr>\n",
              "    <tr>\n",
              "      <th>12042</th>\n",
              "      <td>CUS-3129499595</td>\n",
              "      <td>SALES-POS</td>\n",
              "    </tr>\n",
              "  </tbody>\n",
              "</table>\n",
              "<p>12043 rows × 2 columns</p>\n",
              "</div>"
            ],
            "text/plain": [
              "          customer_id txn_description\n",
              "0      CUS-2487424745             POS\n",
              "1      CUS-2487424745       SALES-POS\n",
              "2      CUS-2142601169             POS\n",
              "3      CUS-1614226872       SALES-POS\n",
              "4      CUS-2487424745       SALES-POS\n",
              "...               ...             ...\n",
              "12038    CUS-55310383             POS\n",
              "12039  CUS-2688605418       SALES-POS\n",
              "12040  CUS-2663907001             POS\n",
              "12041  CUS-1388323263       SALES-POS\n",
              "12042  CUS-3129499595       SALES-POS\n",
              "\n",
              "[12043 rows x 2 columns]"
            ]
          },
          "metadata": {
            "tags": []
          },
          "execution_count": 68
        }
      ]
    },
    {
      "cell_type": "markdown",
      "metadata": {
        "id": "sDQ874jTOQIF",
        "colab_type": "text"
      },
      "source": [
        "Variable Identification"
      ]
    },
    {
      "cell_type": "code",
      "metadata": {
        "id": "_XR4vtHHJNln",
        "colab_type": "code",
        "outputId": "c245de20-27cb-4035-d881-e1d0a3acbef6",
        "colab": {
          "base_uri": "https://localhost:8080/",
          "height": 439
        }
      },
      "source": [
        "data.dtypes"
      ],
      "execution_count": 0,
      "outputs": [
        {
          "output_type": "execute_result",
          "data": {
            "text/plain": [
              "status                       object\n",
              "card_present_flag           float64\n",
              "bpay_biller_code             object\n",
              "account                      object\n",
              "currency                     object\n",
              "long_lat                     object\n",
              "txn_description              object\n",
              "merchant_id                  object\n",
              "merchant_code               float64\n",
              "first_name                   object\n",
              "balance                     float64\n",
              "date                 datetime64[ns]\n",
              "gender                       object\n",
              "age                           int64\n",
              "merchant_suburb              object\n",
              "merchant_state               object\n",
              "extraction                   object\n",
              "amount                      float64\n",
              "transaction_id               object\n",
              "country                      object\n",
              "customer_id                  object\n",
              "merchant_long_lat            object\n",
              "movement                     object\n",
              "dtype: object"
            ]
          },
          "metadata": {
            "tags": []
          },
          "execution_count": 6
        }
      ]
    },
    {
      "cell_type": "code",
      "metadata": {
        "id": "yR6JlglfWTZQ",
        "colab_type": "code",
        "outputId": "c6b3fa9a-7a12-461c-b939-7d2e1d7d9243",
        "colab": {
          "base_uri": "https://localhost:8080/",
          "height": 615
        }
      },
      "source": [
        "data['customer_id'].unique()"
      ],
      "execution_count": 0,
      "outputs": [
        {
          "output_type": "execute_result",
          "data": {
            "text/plain": [
              "array(['CUS-2487424745', 'CUS-2142601169', 'CUS-1614226872',\n",
              "       'CUS-2688605418', 'CUS-4123612273', 'CUS-3026014945',\n",
              "       'CUS-2031327464', 'CUS-2317998716', 'CUS-1462656821',\n",
              "       'CUS-3142625864', 'CUS-860700529', 'CUS-2370108457',\n",
              "       'CUS-2630892467', 'CUS-3716701010', 'CUS-3378712515',\n",
              "       'CUS-2695611575', 'CUS-1669695324', 'CUS-3255104878',\n",
              "       'CUS-537508723', 'CUS-2376382098', 'CUS-3129499595',\n",
              "       'CUS-883482547', 'CUS-51506836', 'CUS-1196156254',\n",
              "       'CUS-2178051368', 'CUS-809013380', 'CUS-3702001629',\n",
              "       'CUS-127297539', 'CUS-1646183815', 'CUS-164374203',\n",
              "       'CUS-2283904812', 'CUS-3180318393', 'CUS-3904958894',\n",
              "       'CUS-1604596597', 'CUS-1617121891', 'CUS-2206365095',\n",
              "       'CUS-2599279756', 'CUS-3117610635', 'CUS-1433879684',\n",
              "       'CUS-2500783281', 'CUS-326006476', 'CUS-527400765',\n",
              "       'CUS-443776336', 'CUS-2663907001', 'CUS-4142663097',\n",
              "       'CUS-1842679196', 'CUS-3249305314', 'CUS-1271030853',\n",
              "       'CUS-1646621553', 'CUS-325142416', 'CUS-3462882033',\n",
              "       'CUS-1892177589', 'CUS-1117979751', 'CUS-495599312',\n",
              "       'CUS-1388323263', 'CUS-1790886359', 'CUS-4023861240',\n",
              "       'CUS-586638664', 'CUS-423725039', 'CUS-1896554896',\n",
              "       'CUS-2059096722', 'CUS-1140341822', 'CUS-3201519139',\n",
              "       'CUS-3151318058', 'CUS-2348881191', 'CUS-1739931018',\n",
              "       'CUS-3325710106', 'CUS-511326734', 'CUS-1233833708',\n",
              "       'CUS-3336454548', 'CUS-1816693151', 'CUS-55310383',\n",
              "       'CUS-2110742437', 'CUS-497688347', 'CUS-2155701614',\n",
              "       'CUS-3174332735', 'CUS-1609060617', 'CUS-1005756958',\n",
              "       'CUS-1928710999', 'CUS-134193016', 'CUS-1654129794',\n",
              "       'CUS-2650223890', 'CUS-2484453271', 'CUS-2083971310',\n",
              "       'CUS-880898248', 'CUS-2977593493', 'CUS-3989008654',\n",
              "       'CUS-72755508', 'CUS-1499065773', 'CUS-1478398256',\n",
              "       'CUS-3431016847', 'CUS-2738291516', 'CUS-1220154422',\n",
              "       'CUS-331942311', 'CUS-134833760', 'CUS-2505971401',\n",
              "       'CUS-2819545904', 'CUS-3395687666', 'CUS-1147642491',\n",
              "       'CUS-261674136'], dtype=object)"
            ]
          },
          "metadata": {
            "tags": []
          },
          "execution_count": 40
        }
      ]
    },
    {
      "cell_type": "markdown",
      "metadata": {
        "id": "kZIzsdDeODoi",
        "colab_type": "text"
      },
      "source": [
        "Univariate analysis of continous variables"
      ]
    },
    {
      "cell_type": "code",
      "metadata": {
        "id": "SdAUblBnMzd2",
        "colab_type": "code",
        "outputId": "b316c373-87ac-40e0-84dc-4439f0148684",
        "colab": {
          "base_uri": "https://localhost:8080/",
          "height": 284
        }
      },
      "source": [
        "data.describe()"
      ],
      "execution_count": 0,
      "outputs": [
        {
          "output_type": "execute_result",
          "data": {
            "text/html": [
              "<div>\n",
              "<style scoped>\n",
              "    .dataframe tbody tr th:only-of-type {\n",
              "        vertical-align: middle;\n",
              "    }\n",
              "\n",
              "    .dataframe tbody tr th {\n",
              "        vertical-align: top;\n",
              "    }\n",
              "\n",
              "    .dataframe thead th {\n",
              "        text-align: right;\n",
              "    }\n",
              "</style>\n",
              "<table border=\"1\" class=\"dataframe\">\n",
              "  <thead>\n",
              "    <tr style=\"text-align: right;\">\n",
              "      <th></th>\n",
              "      <th>card_present_flag</th>\n",
              "      <th>merchant_code</th>\n",
              "      <th>balance</th>\n",
              "      <th>age</th>\n",
              "      <th>amount</th>\n",
              "    </tr>\n",
              "  </thead>\n",
              "  <tbody>\n",
              "    <tr>\n",
              "      <th>count</th>\n",
              "      <td>7717.000000</td>\n",
              "      <td>883.0</td>\n",
              "      <td>12043.000000</td>\n",
              "      <td>12043.000000</td>\n",
              "      <td>12043.000000</td>\n",
              "    </tr>\n",
              "    <tr>\n",
              "      <th>mean</th>\n",
              "      <td>0.802644</td>\n",
              "      <td>0.0</td>\n",
              "      <td>14704.195553</td>\n",
              "      <td>30.582330</td>\n",
              "      <td>187.933588</td>\n",
              "    </tr>\n",
              "    <tr>\n",
              "      <th>std</th>\n",
              "      <td>0.398029</td>\n",
              "      <td>0.0</td>\n",
              "      <td>31503.722652</td>\n",
              "      <td>10.046343</td>\n",
              "      <td>592.599934</td>\n",
              "    </tr>\n",
              "    <tr>\n",
              "      <th>min</th>\n",
              "      <td>0.000000</td>\n",
              "      <td>0.0</td>\n",
              "      <td>0.240000</td>\n",
              "      <td>18.000000</td>\n",
              "      <td>0.100000</td>\n",
              "    </tr>\n",
              "    <tr>\n",
              "      <th>25%</th>\n",
              "      <td>1.000000</td>\n",
              "      <td>0.0</td>\n",
              "      <td>3158.585000</td>\n",
              "      <td>22.000000</td>\n",
              "      <td>16.000000</td>\n",
              "    </tr>\n",
              "    <tr>\n",
              "      <th>50%</th>\n",
              "      <td>1.000000</td>\n",
              "      <td>0.0</td>\n",
              "      <td>6432.010000</td>\n",
              "      <td>28.000000</td>\n",
              "      <td>29.000000</td>\n",
              "    </tr>\n",
              "    <tr>\n",
              "      <th>75%</th>\n",
              "      <td>1.000000</td>\n",
              "      <td>0.0</td>\n",
              "      <td>12465.945000</td>\n",
              "      <td>38.000000</td>\n",
              "      <td>53.655000</td>\n",
              "    </tr>\n",
              "    <tr>\n",
              "      <th>max</th>\n",
              "      <td>1.000000</td>\n",
              "      <td>0.0</td>\n",
              "      <td>267128.520000</td>\n",
              "      <td>78.000000</td>\n",
              "      <td>8835.980000</td>\n",
              "    </tr>\n",
              "  </tbody>\n",
              "</table>\n",
              "</div>"
            ],
            "text/plain": [
              "       card_present_flag  merchant_code  ...           age        amount\n",
              "count        7717.000000          883.0  ...  12043.000000  12043.000000\n",
              "mean            0.802644            0.0  ...     30.582330    187.933588\n",
              "std             0.398029            0.0  ...     10.046343    592.599934\n",
              "min             0.000000            0.0  ...     18.000000      0.100000\n",
              "25%             1.000000            0.0  ...     22.000000     16.000000\n",
              "50%             1.000000            0.0  ...     28.000000     29.000000\n",
              "75%             1.000000            0.0  ...     38.000000     53.655000\n",
              "max             1.000000            0.0  ...     78.000000   8835.980000\n",
              "\n",
              "[8 rows x 5 columns]"
            ]
          },
          "metadata": {
            "tags": []
          },
          "execution_count": 23
        }
      ]
    },
    {
      "cell_type": "code",
      "metadata": {
        "id": "wKyFMWbTOeGj",
        "colab_type": "code",
        "outputId": "e765d747-c0fb-4a00-9089-0a7de3df4607",
        "colab": {
          "base_uri": "https://localhost:8080/",
          "height": 286
        }
      },
      "source": [
        "data['age'].plot.hist()"
      ],
      "execution_count": 0,
      "outputs": [
        {
          "output_type": "execute_result",
          "data": {
            "text/plain": [
              "<matplotlib.axes._subplots.AxesSubplot at 0x7fcec0c99be0>"
            ]
          },
          "metadata": {
            "tags": []
          },
          "execution_count": 24
        },
        {
          "output_type": "display_data",
          "data": {
            "image/png": "[encoded data removed]",
            "text/plain": [
              "<Figure size 432x288 with 1 Axes>"
            ]
          },
          "metadata": {
            "tags": []
          }
        }
      ]
    },
    {
      "cell_type": "code",
      "metadata": {
        "id": "U1e_PFzXOzaS",
        "colab_type": "code",
        "outputId": "c59a92e9-d4ce-44c8-c8df-6dd826c184f6",
        "colab": {
          "base_uri": "https://localhost:8080/",
          "height": 284
        }
      },
      "source": [
        "data['age'].plot.box()"
      ],
      "execution_count": 0,
      "outputs": [
        {
          "output_type": "execute_result",
          "data": {
            "text/plain": [
              "<matplotlib.axes._subplots.AxesSubplot at 0x7fcec13a42e8>"
            ]
          },
          "metadata": {
            "tags": []
          },
          "execution_count": 26
        },
        {
          "output_type": "display_data",
          "data": {
            "image/png": "[encoded data removed]",
            "text/plain": [
              "<Figure size 432x288 with 1 Axes>"
            ]
          },
          "metadata": {
            "tags": []
          }
        }
      ]
    },
    {
      "cell_type": "code",
      "metadata": {
        "id": "0uNMkITcR3aP",
        "colab_type": "code",
        "outputId": "9191739e-960e-4cd1-c414-6d75f29d0846",
        "colab": {
          "base_uri": "https://localhost:8080/",
          "height": 282
        }
      },
      "source": [
        "data['amount'].plot.box()"
      ],
      "execution_count": 0,
      "outputs": [
        {
          "output_type": "execute_result",
          "data": {
            "text/plain": [
              "<matplotlib.axes._subplots.AxesSubplot at 0x7fcec1d169b0>"
            ]
          },
          "metadata": {
            "tags": []
          },
          "execution_count": 35
        },
        {
          "output_type": "display_data",
          "data": {
            "image/png": "[encoded data removed]",
            "text/plain": [
              "<Figure size 432x288 with 1 Axes>"
            ]
          },
          "metadata": {
            "tags": []
          }
        }
      ]
    },
    {
      "cell_type": "markdown",
      "metadata": {
        "id": "04RxVZCuQfF8",
        "colab_type": "text"
      },
      "source": [
        "Univariate Analysis of Categorical Variables"
      ]
    },
    {
      "cell_type": "code",
      "metadata": {
        "id": "MwLFepkQPDGd",
        "colab_type": "code",
        "outputId": "d58b6f01-ba29-4a91-9de8-3d3b9d31a879",
        "colab": {
          "base_uri": "https://localhost:8080/",
          "height": 70
        }
      },
      "source": [
        "data['gender'].value_counts()"
      ],
      "execution_count": 0,
      "outputs": [
        {
          "output_type": "execute_result",
          "data": {
            "text/plain": [
              "M    6285\n",
              "F    5758\n",
              "Name: gender, dtype: int64"
            ]
          },
          "metadata": {
            "tags": []
          },
          "execution_count": 28
        }
      ]
    },
    {
      "cell_type": "code",
      "metadata": {
        "id": "9D0nsMS8QvfI",
        "colab_type": "code",
        "outputId": "347d92ef-3736-4635-af7c-849ff5d6f449",
        "colab": {
          "base_uri": "https://localhost:8080/",
          "height": 70
        }
      },
      "source": [
        "data['gender'].value_counts()/len(data['gender'])"
      ],
      "execution_count": 0,
      "outputs": [
        {
          "output_type": "execute_result",
          "data": {
            "text/plain": [
              "M    0.52188\n",
              "F    0.47812\n",
              "Name: gender, dtype: float64"
            ]
          },
          "metadata": {
            "tags": []
          },
          "execution_count": 30
        }
      ]
    },
    {
      "cell_type": "code",
      "metadata": {
        "id": "7AClzodTRIf6",
        "colab_type": "code",
        "outputId": "534a3d83-d0bd-47ec-8d0a-500d84dc3212",
        "colab": {
          "base_uri": "https://localhost:8080/",
          "height": 282
        }
      },
      "source": [
        "(data['gender'].value_counts()/len(data['gender'])).plot.bar()"
      ],
      "execution_count": 0,
      "outputs": [
        {
          "output_type": "execute_result",
          "data": {
            "text/plain": [
              "<matplotlib.axes._subplots.AxesSubplot at 0x7fcec1bcfeb8>"
            ]
          },
          "metadata": {
            "tags": []
          },
          "execution_count": 33
        },
        {
          "output_type": "display_data",
          "data": {
            "image/png": "[encoded data removed]",
            "text/plain": [
              "<Figure size 432x288 with 1 Axes>"
            ]
          },
          "metadata": {
            "tags": []
          }
        }
      ]
    },
    {
      "cell_type": "markdown",
      "metadata": {
        "id": "NMSUmSU9VHkS",
        "colab_type": "text"
      },
      "source": [
        "Continuous-Continuous Bivariate Analysis"
      ]
    },
    {
      "cell_type": "code",
      "metadata": {
        "id": "JyHtLjJyRXQl",
        "colab_type": "code",
        "colab": {}
      },
      "source": [
        "data.plot.scatter()"
      ],
      "execution_count": 0,
      "outputs": []
    },
    {
      "cell_type": "code",
      "metadata": {
        "id": "zWsAR9G6n5dl",
        "colab_type": "code",
        "outputId": "17ddf446-836b-4241-b67c-c340345a2f53",
        "colab": {
          "base_uri": "https://localhost:8080/",
          "height": 50
        }
      },
      "source": [
        "from fuzzywuzzy import process\n"
      ],
      "execution_count": 0,
      "outputs": [
        {
          "output_type": "stream",
          "text": [
            "/usr/local/lib/python3.6/dist-packages/fuzzywuzzy/fuzz.py:11: UserWarning: Using slow pure-python SequenceMatcher. Install python-Levenshtein to remove this warning\n",
            "  warnings.warn('Using slow pure-python SequenceMatcher. Install python-Levenshtein to remove this warning')\n"
          ],
          "name": "stderr"
        }
      ]
    },
    {
      "cell_type": "code",
      "metadata": {
        "id": "uKXRj5V9wPQU",
        "colab_type": "code",
        "colab": {}
      },
      "source": [
        ""
      ],
      "execution_count": 0,
      "outputs": []
    },
    {
      "cell_type": "markdown",
      "metadata": {
        "id": "VTguycCKwIy-",
        "colab_type": "text"
      },
      "source": [
        ""
      ]
    },
    {
      "cell_type": "code",
      "metadata": {
        "id": "s9VR2Ztpn930",
        "colab_type": "code",
        "outputId": "1a5a201c-6be5-4384-adda-54850747f0bd",
        "colab": {
          "base_uri": "https://localhost:8080/",
          "height": 84
        }
      },
      "source": [
        "pip install fuzzywuzzy\n"
      ],
      "execution_count": 0,
      "outputs": [
        {
          "output_type": "stream",
          "text": [
            "Collecting fuzzywuzzy\n",
            "  Downloading https://files.pythonhosted.org/packages/43/ff/74f23998ad2f93b945c0309f825be92e04e0348e062026998b5eefef4c33/fuzzywuzzy-0.18.0-py2.py3-none-any.whl\n",
            "Installing collected packages: fuzzywuzzy\n",
            "Successfully installed fuzzywuzzy-0.18.0\n"
          ],
          "name": "stdout"
        }
      ]
    },
    {
      "cell_type": "code",
      "metadata": {
        "id": "EUFvp27ewBAN",
        "colab_type": "code",
        "colab": {}
      },
      "source": [
        ""
      ],
      "execution_count": 0,
      "outputs": []
    }
  ]
}